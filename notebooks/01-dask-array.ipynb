{
 "cells": [
  {
   "cell_type": "markdown",
   "id": "990cfa4c-2117-4435-9806-ff9048890398",
   "metadata": {
    "tags": []
   },
   "source": [
    "<img src=\"https://raw.githubusercontent.com/NCAR/dask-tutorial/main/images/NCAR-contemp-logo-blue.png\"\n",
    "     width=\"750px\"\n",
    "     alt=\"NCAR logo\"\n",
    "     style=\"vertical-align:middle;margin:30px 0px\"/>\n",
    "\n",
    "\n",
    "# Dask Arrays\n",
    "\n",
    "**ESDS dask tutorial | 06 February, 2023**  \n",
    "\n",
    "Brian Vanderwende and Negin Sobhani  \n",
    "Computational & Information Systems Lab (CISL)  \n",
    "[vanderwb@ucar.edu](mailto:vanderwb@ucar.edu) and [negins@ucar.edu](negins@ucar.edu)\n",
    "\n",
    "\n",
    "---------\n",
    "\n",
    "## Dask Arrays \n",
    "\n",
    "Dask arrays provide distrbuted, larger-than-memory, n-dimensional array using blocked algorithms. Blocked algorithms organizes large computations by performing smaller computations on coniguous chunks of data. \n",
    "\n",
    "\n",
    "<img src=\"https://docs.dask.org/en/stable/_images/dask-array.svg\" width=\"500px\" style=\"vertical-align:middle;margin:30px 0px\"/>\n",
    "\n",
    "\n",
    "Dask arrays are composed of many NumPy (or NumPy-like) arrays. Dask basically divides the arrays into many small pieces (called **chunks**) that fits into the memory and minimize the memory footprint of your computation by effectively streaming data from disk.\n"
   ]
  },
  {
   "cell_type": "markdown",
   "id": "106238d9-c519-47bc-b5c6-5c703ad47fe6",
   "metadata": {},
   "source": [
    "**Dask Arrays are lazy!**\n",
    "\n",
    "Unlike Numpy, operations on Dask arrays are not computed until you explicitly request them. \n",
    "\n",
    "Operations queue up a series of tasks mapped over blocks, and no computation is performed until you explicitly ask values to be computed. At that point, data is loaded into memory and computation proceeds in a streaming fashion, block-by-block.\n",
    "\n",
    "<div class=\"alert alert-block alert-info\" markdown=\"1\">\n",
    "\n",
    "<b>Lazy Evaluation: objects are evaluated just in time when the results are needed!</b> \n",
    "</div>\n",
    "\n",
    "\n",
    "### In this tutorial, you learn:\n",
    "\n",
    "* Basic concepts and features of Dask Arrays\n",
    "* Working with Dask arrays\n",
    "\n",
    "**Related Documentation**\n",
    "\n",
    "* [Array documentation](https://docs.dask.org/en/latest/array.html)\n",
    "* [Array screencast](https://youtu.be/9h_61hXCDuI)\n",
    "* [Array API](https://docs.dask.org/en/latest/array-api.html)\n",
    "* [Array examples](https://examples.dask.org/array.html)\n"
   ]
  },
  {
   "cell_type": "markdown",
   "id": "d319b8dc-0275-44a0-af7d-d239a2e81cc3",
   "metadata": {},
   "source": [
    "## Setup: Start a Dask Client for Dashboard\n",
    "\n",
    "Starting the Dask Client is not necessary for this tutorial. It will provide a dashboard which is useful to gain insight on the computation."
   ]
  },
  {
   "cell_type": "code",
   "execution_count": 1,
   "id": "4817cbe6-414f-4892-9ec1-1b395a96ddfa",
   "metadata": {},
   "outputs": [
    {
     "data": {
      "text/html": [
       "<div>\n",
       "    <div style=\"width: 24px; height: 24px; background-color: #e1e1e1; border: 3px solid #9D9D9D; border-radius: 5px; position: absolute;\"> </div>\n",
       "    <div style=\"margin-left: 48px;\">\n",
       "        <h3 style=\"margin-bottom: 0px;\">Client</h3>\n",
       "        <p style=\"color: #9D9D9D; margin-bottom: 0px;\">Client-8a24a93a-9c25-11ed-ad8f-3cecef1ac968</p>\n",
       "        <table style=\"width: 100%; text-align: left;\">\n",
       "\n",
       "        <tr>\n",
       "        \n",
       "            <td style=\"text-align: left;\"><strong>Connection method:</strong> Cluster object</td>\n",
       "            <td style=\"text-align: left;\"><strong>Cluster type:</strong> distributed.LocalCluster</td>\n",
       "        \n",
       "        </tr>\n",
       "\n",
       "        \n",
       "            <tr>\n",
       "                <td style=\"text-align: left;\">\n",
       "                    <strong>Dashboard: </strong> <a href=\"https://jupyterhub.hpc.ucar.edu/stable/user/negins/proxy/8787/status\" target=\"_blank\">https://jupyterhub.hpc.ucar.edu/stable/user/negins/proxy/8787/status</a>\n",
       "                </td>\n",
       "                <td style=\"text-align: left;\"></td>\n",
       "            </tr>\n",
       "        \n",
       "\n",
       "        </table>\n",
       "\n",
       "        \n",
       "            <details>\n",
       "            <summary style=\"margin-bottom: 20px;\"><h3 style=\"display: inline;\">Cluster Info</h3></summary>\n",
       "            <div class=\"jp-RenderedHTMLCommon jp-RenderedHTML jp-mod-trusted jp-OutputArea-output\">\n",
       "    <div style=\"width: 24px; height: 24px; background-color: #e1e1e1; border: 3px solid #9D9D9D; border-radius: 5px; position: absolute;\">\n",
       "    </div>\n",
       "    <div style=\"margin-left: 48px;\">\n",
       "        <h3 style=\"margin-bottom: 0px; margin-top: 0px;\">LocalCluster</h3>\n",
       "        <p style=\"color: #9D9D9D; margin-bottom: 0px;\">621085a2</p>\n",
       "        <table style=\"width: 100%; text-align: left;\">\n",
       "            <tr>\n",
       "                <td style=\"text-align: left;\">\n",
       "                    <strong>Dashboard:</strong> <a href=\"https://jupyterhub.hpc.ucar.edu/stable/user/negins/proxy/8787/status\" target=\"_blank\">https://jupyterhub.hpc.ucar.edu/stable/user/negins/proxy/8787/status</a>\n",
       "                </td>\n",
       "                <td style=\"text-align: left;\">\n",
       "                    <strong>Workers:</strong> 4\n",
       "                </td>\n",
       "            </tr>\n",
       "            <tr>\n",
       "                <td style=\"text-align: left;\">\n",
       "                    <strong>Total threads:</strong> 4\n",
       "                </td>\n",
       "                <td style=\"text-align: left;\">\n",
       "                    <strong>Total memory:</strong> 32.00 GiB\n",
       "                </td>\n",
       "            </tr>\n",
       "            \n",
       "            <tr>\n",
       "    <td style=\"text-align: left;\"><strong>Status:</strong> running</td>\n",
       "    <td style=\"text-align: left;\"><strong>Using processes:</strong> True</td>\n",
       "</tr>\n",
       "\n",
       "            \n",
       "        </table>\n",
       "\n",
       "        <details>\n",
       "            <summary style=\"margin-bottom: 20px;\">\n",
       "                <h3 style=\"display: inline;\">Scheduler Info</h3>\n",
       "            </summary>\n",
       "\n",
       "            <div style=\"\">\n",
       "    <div>\n",
       "        <div style=\"width: 24px; height: 24px; background-color: #FFF7E5; border: 3px solid #FF6132; border-radius: 5px; position: absolute;\"> </div>\n",
       "        <div style=\"margin-left: 48px;\">\n",
       "            <h3 style=\"margin-bottom: 0px;\">Scheduler</h3>\n",
       "            <p style=\"color: #9D9D9D; margin-bottom: 0px;\">Scheduler-49b620ed-69fd-45d5-9342-dd71c496ae8f</p>\n",
       "            <table style=\"width: 100%; text-align: left;\">\n",
       "                <tr>\n",
       "                    <td style=\"text-align: left;\">\n",
       "                        <strong>Comm:</strong> tcp://127.0.0.1:41385\n",
       "                    </td>\n",
       "                    <td style=\"text-align: left;\">\n",
       "                        <strong>Workers:</strong> 4\n",
       "                    </td>\n",
       "                </tr>\n",
       "                <tr>\n",
       "                    <td style=\"text-align: left;\">\n",
       "                        <strong>Dashboard:</strong> <a href=\"https://jupyterhub.hpc.ucar.edu/stable/user/negins/proxy/8787/status\" target=\"_blank\">https://jupyterhub.hpc.ucar.edu/stable/user/negins/proxy/8787/status</a>\n",
       "                    </td>\n",
       "                    <td style=\"text-align: left;\">\n",
       "                        <strong>Total threads:</strong> 4\n",
       "                    </td>\n",
       "                </tr>\n",
       "                <tr>\n",
       "                    <td style=\"text-align: left;\">\n",
       "                        <strong>Started:</strong> Just now\n",
       "                    </td>\n",
       "                    <td style=\"text-align: left;\">\n",
       "                        <strong>Total memory:</strong> 32.00 GiB\n",
       "                    </td>\n",
       "                </tr>\n",
       "            </table>\n",
       "        </div>\n",
       "    </div>\n",
       "\n",
       "    <details style=\"margin-left: 48px;\">\n",
       "        <summary style=\"margin-bottom: 20px;\">\n",
       "            <h3 style=\"display: inline;\">Workers</h3>\n",
       "        </summary>\n",
       "\n",
       "        \n",
       "        <div style=\"margin-bottom: 20px;\">\n",
       "            <div style=\"width: 24px; height: 24px; background-color: #DBF5FF; border: 3px solid #4CC9FF; border-radius: 5px; position: absolute;\"> </div>\n",
       "            <div style=\"margin-left: 48px;\">\n",
       "            <details>\n",
       "                <summary>\n",
       "                    <h4 style=\"margin-bottom: 0px; display: inline;\">Worker: 0</h4>\n",
       "                </summary>\n",
       "                <table style=\"width: 100%; text-align: left;\">\n",
       "                    <tr>\n",
       "                        <td style=\"text-align: left;\">\n",
       "                            <strong>Comm: </strong> tcp://127.0.0.1:39462\n",
       "                        </td>\n",
       "                        <td style=\"text-align: left;\">\n",
       "                            <strong>Total threads: </strong> 1\n",
       "                        </td>\n",
       "                    </tr>\n",
       "                    <tr>\n",
       "                        <td style=\"text-align: left;\">\n",
       "                            <strong>Dashboard: </strong> <a href=\"https://jupyterhub.hpc.ucar.edu/stable/user/negins/proxy/44078/status\" target=\"_blank\">https://jupyterhub.hpc.ucar.edu/stable/user/negins/proxy/44078/status</a>\n",
       "                        </td>\n",
       "                        <td style=\"text-align: left;\">\n",
       "                            <strong>Memory: </strong> 8.00 GiB\n",
       "                        </td>\n",
       "                    </tr>\n",
       "                    <tr>\n",
       "                        <td style=\"text-align: left;\">\n",
       "                            <strong>Nanny: </strong> tcp://127.0.0.1:41430\n",
       "                        </td>\n",
       "                        <td style=\"text-align: left;\"></td>\n",
       "                    </tr>\n",
       "                    <tr>\n",
       "                        <td colspan=\"2\" style=\"text-align: left;\">\n",
       "                            <strong>Local directory: </strong> /glade/scratch/negins/dask-worker-space/worker-k0h4571o\n",
       "                        </td>\n",
       "                    </tr>\n",
       "\n",
       "                    \n",
       "\n",
       "                    \n",
       "\n",
       "                </table>\n",
       "            </details>\n",
       "            </div>\n",
       "        </div>\n",
       "        \n",
       "        <div style=\"margin-bottom: 20px;\">\n",
       "            <div style=\"width: 24px; height: 24px; background-color: #DBF5FF; border: 3px solid #4CC9FF; border-radius: 5px; position: absolute;\"> </div>\n",
       "            <div style=\"margin-left: 48px;\">\n",
       "            <details>\n",
       "                <summary>\n",
       "                    <h4 style=\"margin-bottom: 0px; display: inline;\">Worker: 1</h4>\n",
       "                </summary>\n",
       "                <table style=\"width: 100%; text-align: left;\">\n",
       "                    <tr>\n",
       "                        <td style=\"text-align: left;\">\n",
       "                            <strong>Comm: </strong> tcp://127.0.0.1:43267\n",
       "                        </td>\n",
       "                        <td style=\"text-align: left;\">\n",
       "                            <strong>Total threads: </strong> 1\n",
       "                        </td>\n",
       "                    </tr>\n",
       "                    <tr>\n",
       "                        <td style=\"text-align: left;\">\n",
       "                            <strong>Dashboard: </strong> <a href=\"https://jupyterhub.hpc.ucar.edu/stable/user/negins/proxy/41285/status\" target=\"_blank\">https://jupyterhub.hpc.ucar.edu/stable/user/negins/proxy/41285/status</a>\n",
       "                        </td>\n",
       "                        <td style=\"text-align: left;\">\n",
       "                            <strong>Memory: </strong> 8.00 GiB\n",
       "                        </td>\n",
       "                    </tr>\n",
       "                    <tr>\n",
       "                        <td style=\"text-align: left;\">\n",
       "                            <strong>Nanny: </strong> tcp://127.0.0.1:42452\n",
       "                        </td>\n",
       "                        <td style=\"text-align: left;\"></td>\n",
       "                    </tr>\n",
       "                    <tr>\n",
       "                        <td colspan=\"2\" style=\"text-align: left;\">\n",
       "                            <strong>Local directory: </strong> /glade/scratch/negins/dask-worker-space/worker-c8saf2f4\n",
       "                        </td>\n",
       "                    </tr>\n",
       "\n",
       "                    \n",
       "\n",
       "                    \n",
       "\n",
       "                </table>\n",
       "            </details>\n",
       "            </div>\n",
       "        </div>\n",
       "        \n",
       "        <div style=\"margin-bottom: 20px;\">\n",
       "            <div style=\"width: 24px; height: 24px; background-color: #DBF5FF; border: 3px solid #4CC9FF; border-radius: 5px; position: absolute;\"> </div>\n",
       "            <div style=\"margin-left: 48px;\">\n",
       "            <details>\n",
       "                <summary>\n",
       "                    <h4 style=\"margin-bottom: 0px; display: inline;\">Worker: 2</h4>\n",
       "                </summary>\n",
       "                <table style=\"width: 100%; text-align: left;\">\n",
       "                    <tr>\n",
       "                        <td style=\"text-align: left;\">\n",
       "                            <strong>Comm: </strong> tcp://127.0.0.1:33160\n",
       "                        </td>\n",
       "                        <td style=\"text-align: left;\">\n",
       "                            <strong>Total threads: </strong> 1\n",
       "                        </td>\n",
       "                    </tr>\n",
       "                    <tr>\n",
       "                        <td style=\"text-align: left;\">\n",
       "                            <strong>Dashboard: </strong> <a href=\"https://jupyterhub.hpc.ucar.edu/stable/user/negins/proxy/32888/status\" target=\"_blank\">https://jupyterhub.hpc.ucar.edu/stable/user/negins/proxy/32888/status</a>\n",
       "                        </td>\n",
       "                        <td style=\"text-align: left;\">\n",
       "                            <strong>Memory: </strong> 8.00 GiB\n",
       "                        </td>\n",
       "                    </tr>\n",
       "                    <tr>\n",
       "                        <td style=\"text-align: left;\">\n",
       "                            <strong>Nanny: </strong> tcp://127.0.0.1:43534\n",
       "                        </td>\n",
       "                        <td style=\"text-align: left;\"></td>\n",
       "                    </tr>\n",
       "                    <tr>\n",
       "                        <td colspan=\"2\" style=\"text-align: left;\">\n",
       "                            <strong>Local directory: </strong> /glade/scratch/negins/dask-worker-space/worker-ijp1_6kr\n",
       "                        </td>\n",
       "                    </tr>\n",
       "\n",
       "                    \n",
       "\n",
       "                    \n",
       "\n",
       "                </table>\n",
       "            </details>\n",
       "            </div>\n",
       "        </div>\n",
       "        \n",
       "        <div style=\"margin-bottom: 20px;\">\n",
       "            <div style=\"width: 24px; height: 24px; background-color: #DBF5FF; border: 3px solid #4CC9FF; border-radius: 5px; position: absolute;\"> </div>\n",
       "            <div style=\"margin-left: 48px;\">\n",
       "            <details>\n",
       "                <summary>\n",
       "                    <h4 style=\"margin-bottom: 0px; display: inline;\">Worker: 3</h4>\n",
       "                </summary>\n",
       "                <table style=\"width: 100%; text-align: left;\">\n",
       "                    <tr>\n",
       "                        <td style=\"text-align: left;\">\n",
       "                            <strong>Comm: </strong> tcp://127.0.0.1:41471\n",
       "                        </td>\n",
       "                        <td style=\"text-align: left;\">\n",
       "                            <strong>Total threads: </strong> 1\n",
       "                        </td>\n",
       "                    </tr>\n",
       "                    <tr>\n",
       "                        <td style=\"text-align: left;\">\n",
       "                            <strong>Dashboard: </strong> <a href=\"https://jupyterhub.hpc.ucar.edu/stable/user/negins/proxy/39280/status\" target=\"_blank\">https://jupyterhub.hpc.ucar.edu/stable/user/negins/proxy/39280/status</a>\n",
       "                        </td>\n",
       "                        <td style=\"text-align: left;\">\n",
       "                            <strong>Memory: </strong> 8.00 GiB\n",
       "                        </td>\n",
       "                    </tr>\n",
       "                    <tr>\n",
       "                        <td style=\"text-align: left;\">\n",
       "                            <strong>Nanny: </strong> tcp://127.0.0.1:35405\n",
       "                        </td>\n",
       "                        <td style=\"text-align: left;\"></td>\n",
       "                    </tr>\n",
       "                    <tr>\n",
       "                        <td colspan=\"2\" style=\"text-align: left;\">\n",
       "                            <strong>Local directory: </strong> /glade/scratch/negins/dask-worker-space/worker-n_o2rokr\n",
       "                        </td>\n",
       "                    </tr>\n",
       "\n",
       "                    \n",
       "\n",
       "                    \n",
       "\n",
       "                </table>\n",
       "            </details>\n",
       "            </div>\n",
       "        </div>\n",
       "        \n",
       "\n",
       "    </details>\n",
       "</div>\n",
       "\n",
       "        </details>\n",
       "    </div>\n",
       "</div>\n",
       "            </details>\n",
       "        \n",
       "\n",
       "    </div>\n",
       "</div>"
      ],
      "text/plain": [
       "<Client: 'tcp://127.0.0.1:41385' processes=4 threads=4, memory=32.00 GiB>"
      ]
     },
     "execution_count": 1,
     "metadata": {},
     "output_type": "execute_result"
    }
   ],
   "source": [
    "from dask.distributed import Client\n",
    "\n",
    "client = Client(n_workers=4)\n",
    "client"
   ]
  },
  {
   "cell_type": "markdown",
   "id": "1cf6e888-1db5-452e-975f-7fc03593ee4e",
   "metadata": {},
   "source": [
    "-----------------"
   ]
  },
  {
   "cell_type": "markdown",
   "id": "ed8c0a5c-a3fa-4f7e-8c84-7bc96fd0a817",
   "metadata": {},
   "source": [
    "## Blocked Algorithms\n",
    "\n",
    "Blocked algorithms organizes large computations by performing smaller computations on smaller chunks of data. \n",
    "\n",
    "Let's start by creating a NumPy array of ones:"
   ]
  },
  {
   "cell_type": "code",
   "execution_count": 1,
   "id": "20392c9f-8902-43f6-bbf1-38d88532c361",
   "metadata": {},
   "outputs": [
    {
     "data": {
      "text/plain": [
       "array([[1., 1., 1., ..., 1., 1., 1.],\n",
       "       [1., 1., 1., ..., 1., 1., 1.],\n",
       "       [1., 1., 1., ..., 1., 1., 1.],\n",
       "       ...,\n",
       "       [1., 1., 1., ..., 1., 1., 1.],\n",
       "       [1., 1., 1., ..., 1., 1., 1.],\n",
       "       [1., 1., 1., ..., 1., 1., 1.]])"
      ]
     },
     "execution_count": 1,
     "metadata": {},
     "output_type": "execute_result"
    }
   ],
   "source": [
    "import numpy as np\n",
    "\n",
    "shape = (4000,6000)\n",
    "\n",
    "ones_np = np.ones(shape)\n",
    "ones_np"
   ]
  },
  {
   "cell_type": "markdown",
   "id": "8940853a-9022-481e-934e-57b1742bf9cf",
   "metadata": {},
   "source": [
    "Now, let's create the same array using dask:"
   ]
  },
  {
   "cell_type": "code",
   "execution_count": 2,
   "id": "5466813e-e71b-446a-bc14-f4d3b98a27df",
   "metadata": {},
   "outputs": [
    {
     "data": {
      "text/html": [
       "<table>\n",
       "    <tr>\n",
       "        <td>\n",
       "            <table>\n",
       "                <thead>\n",
       "                    <tr>\n",
       "                        <td> </td>\n",
       "                        <th> Array </th>\n",
       "                        <th> Chunk </th>\n",
       "                    </tr>\n",
       "                </thead>\n",
       "                <tbody>\n",
       "                    \n",
       "                    <tr>\n",
       "                        <th> Bytes </th>\n",
       "                        <td> 183.11 MiB </td>\n",
       "                        <td> 91.55 MiB </td>\n",
       "                    </tr>\n",
       "                    \n",
       "                    <tr>\n",
       "                        <th> Shape </th>\n",
       "                        <td> (4000, 6000) </td>\n",
       "                        <td> (4000, 3000) </td>\n",
       "                    </tr>\n",
       "                    <tr>\n",
       "                        <th> Count </th>\n",
       "                        <td> 2 Tasks </td>\n",
       "                        <td> 2 Chunks </td>\n",
       "                    </tr>\n",
       "                    <tr>\n",
       "                    <th> Type </th>\n",
       "                    <td> float64 </td>\n",
       "                    <td> numpy.ndarray </td>\n",
       "                    </tr>\n",
       "                </tbody>\n",
       "            </table>\n",
       "        </td>\n",
       "        <td>\n",
       "        <svg width=\"170\" height=\"130\" style=\"stroke:rgb(0,0,0);stroke-width:1\" >\n",
       "\n",
       "  <!-- Horizontal lines -->\n",
       "  <line x1=\"0\" y1=\"0\" x2=\"120\" y2=\"0\" style=\"stroke-width:2\" />\n",
       "  <line x1=\"0\" y1=\"80\" x2=\"120\" y2=\"80\" style=\"stroke-width:2\" />\n",
       "\n",
       "  <!-- Vertical lines -->\n",
       "  <line x1=\"0\" y1=\"0\" x2=\"0\" y2=\"80\" style=\"stroke-width:2\" />\n",
       "  <line x1=\"60\" y1=\"0\" x2=\"60\" y2=\"80\" />\n",
       "  <line x1=\"120\" y1=\"0\" x2=\"120\" y2=\"80\" style=\"stroke-width:2\" />\n",
       "\n",
       "  <!-- Colored Rectangle -->\n",
       "  <polygon points=\"0.0,0.0 120.0,0.0 120.0,80.0 0.0,80.0\" style=\"fill:#ECB172A0;stroke-width:0\"/>\n",
       "\n",
       "  <!-- Text -->\n",
       "  <text x=\"60.000000\" y=\"100.000000\" font-size=\"1.0rem\" font-weight=\"100\" text-anchor=\"middle\" >6000</text>\n",
       "  <text x=\"140.000000\" y=\"40.000000\" font-size=\"1.0rem\" font-weight=\"100\" text-anchor=\"middle\" transform=\"rotate(-90,140.000000,40.000000)\">4000</text>\n",
       "</svg>\n",
       "        </td>\n",
       "    </tr>\n",
       "</table>"
      ],
      "text/plain": [
       "dask.array<ones_like, shape=(4000, 6000), dtype=float64, chunksize=(4000, 3000), chunktype=numpy.ndarray>"
      ]
     },
     "execution_count": 2,
     "metadata": {},
     "output_type": "execute_result"
    }
   ],
   "source": [
    "import dask.array as da\n",
    "ones_da = da.ones(shape)\n",
    "ones_da"
   ]
  },
  {
   "cell_type": "markdown",
   "id": "67c8f051-3889-41f6-99ca-87074f336bd0",
   "metadata": {},
   "source": [
    "We see a dask array representation of the data. This is a symbolic representation. No data has actually been generated yet - this mode of operation is called **'lazy'**. It allows the user to build up a series of computations or tasks before being passed to the scheduler for execution.\n",
    "\n",
    "In order to generate the data, we need to call the function `.compute()` on a dask array to trigger computation and conversion to a numpy array.\n",
    "\n",
    "Let's run the `.compute()` function to see how this works:"
   ]
  },
  {
   "cell_type": "code",
   "execution_count": 3,
   "id": "28004983-7715-4d2e-a45b-31145bd74941",
   "metadata": {},
   "outputs": [
    {
     "data": {
      "text/plain": [
       "array([[1., 1., 1., ..., 1., 1., 1.],\n",
       "       [1., 1., 1., ..., 1., 1., 1.],\n",
       "       [1., 1., 1., ..., 1., 1., 1.],\n",
       "       ...,\n",
       "       [1., 1., 1., ..., 1., 1., 1.],\n",
       "       [1., 1., 1., ..., 1., 1., 1.],\n",
       "       [1., 1., 1., ..., 1., 1., 1.]])"
      ]
     },
     "execution_count": 3,
     "metadata": {},
     "output_type": "execute_result"
    }
   ],
   "source": [
    "ones_da.compute()"
   ]
  },
  {
   "cell_type": "markdown",
   "id": "a9652b53-7bc3-44da-9cad-5fa0b8797bcb",
   "metadata": {},
   "source": [
    "-------\n",
    "What are the sizes of these arrays on memory?  \n",
    "\n",
    "First, let's define a function that return array size in MB. "
   ]
  },
  {
   "cell_type": "code",
   "execution_count": 4,
   "id": "573f9e9c-e035-48d4-8029-dec19ededb8b",
   "metadata": {},
   "outputs": [],
   "source": [
    "import sys\n",
    "\n",
    "# Define function to display variable size in MB\n",
    "def var_size(in_var):\n",
    "    result = sys.getsizeof(in_var) / 1e6\n",
    "    return (result)"
   ]
  },
  {
   "cell_type": "code",
   "execution_count": 5,
   "id": "c687f2a9-4001-4b02-9671-931931f99923",
   "metadata": {},
   "outputs": [
    {
     "name": "stdout",
     "output_type": "stream",
     "text": [
      "\n",
      " \n",
      "Numpy Array\n",
      "Size of the array:  24000000\n",
      "Shape of the array:  (4000, 6000)\n",
      "Memory size of one array element in bytes:  8\n",
      "Memory size of numpy array in MB: 192.00 MB\n",
      "\n",
      " \n",
      "Dask Array\n",
      "Size of the array:  24000000\n",
      "Shape of the array:  (4000, 6000)\n",
      "Memory size of one array element in bytes:  8\n",
      "Memory size of dask array in MB: 0.00 MB\n"
     ]
    }
   ],
   "source": [
    "print (\"\\n \\nNumpy Array\")\n",
    "print(\"Size of the array: \",\n",
    "      ones_np.size)\n",
    "\n",
    "print(\"Shape of the array: \",\n",
    "      ones_np.shape) \n",
    "\n",
    "print(\"Memory size of one array element in bytes: \",\n",
    "      ones_np.itemsize)\n",
    " \n",
    "# memory size of numpy array in MB\n",
    "print(f\"Memory size of numpy array in MB: {var_size(ones_np):.2f} MB\")\n",
    "\n",
    "\n",
    "print (\"\\n \\nDask Array\")\n",
    "\n",
    "print(\"Size of the array: \",\n",
    "      ones_da.size)\n",
    "\n",
    "print(\"Shape of the array: \",\n",
    "      ones_da.shape) \n",
    "\n",
    "print(\"Memory size of one array element in bytes: \",\n",
    "      ones_da.itemsize)\n",
    " \n",
    "# memory size of dask array in MB\n",
    "print(f\"Memory size of dask array in MB: {var_size(ones_da):.2f} MB\")"
   ]
  },
  {
   "cell_type": "markdown",
   "id": "592105b5-87d6-4b2a-8f25-2619a37d11e8",
   "metadata": {},
   "source": [
    "**Why memory size for the above Dask array is zero?**\n",
    "\n",
    "Remember, this variable is only a facimile of the full array which will be split across workers.\n",
    "\n",
    "However, Dask does give us ways to see the full size of the data (often much larger than your client machine!)"
   ]
  },
  {
   "cell_type": "code",
   "execution_count": 6,
   "id": "4459835c-a020-4f81-a5c0-719aceb4d199",
   "metadata": {},
   "outputs": [
    {
     "name": "stdout",
     "output_type": "stream",
     "text": [
      "Size of Dask dataset:  192.00 MB\n"
     ]
    }
   ],
   "source": [
    "print(\"Size of Dask dataset:  {:.2f} MB\".format(ones_da.nbytes / 1e6))"
   ]
  },
  {
   "cell_type": "markdown",
   "id": "9c581c28-1e99-4571-a5fe-88e45727b1a7",
   "metadata": {},
   "source": [
    "## Chunks\n",
    "When checking the dask array, the symbolic representation illustrates the concept of \"chunks\". \n",
    "\n",
    "Dask arrays can split the data into sub-arrays to optimize computation with large arrays.  “Chunks” describes how the array is split into sub-arrays. In this case our array is small and we did not specify how many chunks we wanted, so there is only one chunk. Thinking about and controlling chunking is important to optimize advanced algorithms."
   ]
  },
  {
   "cell_type": "code",
   "execution_count": 7,
   "id": "f391bf7c-99b7-4d0a-a04c-caa399c28bf7",
   "metadata": {},
   "outputs": [
    {
     "data": {
      "text/html": [
       "<table>\n",
       "    <tr>\n",
       "        <td>\n",
       "            <table>\n",
       "                <thead>\n",
       "                    <tr>\n",
       "                        <td> </td>\n",
       "                        <th> Array </th>\n",
       "                        <th> Chunk </th>\n",
       "                    </tr>\n",
       "                </thead>\n",
       "                <tbody>\n",
       "                    \n",
       "                    <tr>\n",
       "                        <th> Bytes </th>\n",
       "                        <td> 183.11 MiB </td>\n",
       "                        <td> 91.55 MiB </td>\n",
       "                    </tr>\n",
       "                    \n",
       "                    <tr>\n",
       "                        <th> Shape </th>\n",
       "                        <td> (4000, 6000) </td>\n",
       "                        <td> (4000, 3000) </td>\n",
       "                    </tr>\n",
       "                    <tr>\n",
       "                        <th> Count </th>\n",
       "                        <td> 2 Tasks </td>\n",
       "                        <td> 2 Chunks </td>\n",
       "                    </tr>\n",
       "                    <tr>\n",
       "                    <th> Type </th>\n",
       "                    <td> float64 </td>\n",
       "                    <td> numpy.ndarray </td>\n",
       "                    </tr>\n",
       "                </tbody>\n",
       "            </table>\n",
       "        </td>\n",
       "        <td>\n",
       "        <svg width=\"170\" height=\"130\" style=\"stroke:rgb(0,0,0);stroke-width:1\" >\n",
       "\n",
       "  <!-- Horizontal lines -->\n",
       "  <line x1=\"0\" y1=\"0\" x2=\"120\" y2=\"0\" style=\"stroke-width:2\" />\n",
       "  <line x1=\"0\" y1=\"80\" x2=\"120\" y2=\"80\" style=\"stroke-width:2\" />\n",
       "\n",
       "  <!-- Vertical lines -->\n",
       "  <line x1=\"0\" y1=\"0\" x2=\"0\" y2=\"80\" style=\"stroke-width:2\" />\n",
       "  <line x1=\"60\" y1=\"0\" x2=\"60\" y2=\"80\" />\n",
       "  <line x1=\"120\" y1=\"0\" x2=\"120\" y2=\"80\" style=\"stroke-width:2\" />\n",
       "\n",
       "  <!-- Colored Rectangle -->\n",
       "  <polygon points=\"0.0,0.0 120.0,0.0 120.0,80.0 0.0,80.0\" style=\"fill:#ECB172A0;stroke-width:0\"/>\n",
       "\n",
       "  <!-- Text -->\n",
       "  <text x=\"60.000000\" y=\"100.000000\" font-size=\"1.0rem\" font-weight=\"100\" text-anchor=\"middle\" >6000</text>\n",
       "  <text x=\"140.000000\" y=\"40.000000\" font-size=\"1.0rem\" font-weight=\"100\" text-anchor=\"middle\" transform=\"rotate(-90,140.000000,40.000000)\">4000</text>\n",
       "</svg>\n",
       "        </td>\n",
       "    </tr>\n",
       "</table>"
      ],
      "text/plain": [
       "dask.array<ones_like, shape=(4000, 6000), dtype=float64, chunksize=(4000, 3000), chunktype=numpy.ndarray>"
      ]
     },
     "execution_count": 7,
     "metadata": {},
     "output_type": "execute_result"
    }
   ],
   "source": [
    "ones_da"
   ]
  },
  {
   "cell_type": "markdown",
   "id": "3911489b-792c-4dd6-9e1e-4ca87de888a1",
   "metadata": {},
   "source": [
    "### Chunking the array\n",
    "The power of dask arrays comes from the ability to generate sub-arrays or \"chunks\".  **The way that arrays are chunked can significantly affect total performance.**\n",
    "\n",
    "For specifying the chunking of an array, we use the `chunks` argument dask.array how to break up the underlying array into chunks. There are several ways to specify `chunks`. For example:\n",
    "\n",
    "1. A uniform dimension size like 1000, meaning chunks of size 1000 in each dimension. \n",
    "\n",
    "2. A uniform chunk shape like (1000, 2000, 3000), meaning chunks of size 1000 in the first axis, 2000 in the second axis, and 3000 in the third. \n",
    "\n",
    "3. Fully explicit sizes of all blocks for all dimensions, like ((1000, 1000, 500), (400, 400), (5, 5, 5, 5, 5))\n",
    "\n",
    "4. A dictionary specifying chunk size per dimension like {0: 1000, 1: 2000, 2: 3000}.\n",
    "\n",
    "Let's recreate the above dask array using a block shape, but this time we will specify chunk sizes (a.k.a. shapes) using the argument chunks. Let's create an array with 6 chunks:"
   ]
  },
  {
   "cell_type": "code",
   "execution_count": 8,
   "id": "8c5bf84b-761e-445e-8c0e-f897ad5ab19a",
   "metadata": {},
   "outputs": [
    {
     "data": {
      "text/html": [
       "<table>\n",
       "    <tr>\n",
       "        <td>\n",
       "            <table>\n",
       "                <thead>\n",
       "                    <tr>\n",
       "                        <td> </td>\n",
       "                        <th> Array </th>\n",
       "                        <th> Chunk </th>\n",
       "                    </tr>\n",
       "                </thead>\n",
       "                <tbody>\n",
       "                    \n",
       "                    <tr>\n",
       "                        <th> Bytes </th>\n",
       "                        <td> 183.11 MiB </td>\n",
       "                        <td> 30.52 MiB </td>\n",
       "                    </tr>\n",
       "                    \n",
       "                    <tr>\n",
       "                        <th> Shape </th>\n",
       "                        <td> (4000, 6000) </td>\n",
       "                        <td> (2000, 2000) </td>\n",
       "                    </tr>\n",
       "                    <tr>\n",
       "                        <th> Count </th>\n",
       "                        <td> 6 Tasks </td>\n",
       "                        <td> 6 Chunks </td>\n",
       "                    </tr>\n",
       "                    <tr>\n",
       "                    <th> Type </th>\n",
       "                    <td> float64 </td>\n",
       "                    <td> numpy.ndarray </td>\n",
       "                    </tr>\n",
       "                </tbody>\n",
       "            </table>\n",
       "        </td>\n",
       "        <td>\n",
       "        <svg width=\"170\" height=\"130\" style=\"stroke:rgb(0,0,0);stroke-width:1\" >\n",
       "\n",
       "  <!-- Horizontal lines -->\n",
       "  <line x1=\"0\" y1=\"0\" x2=\"120\" y2=\"0\" style=\"stroke-width:2\" />\n",
       "  <line x1=\"0\" y1=\"40\" x2=\"120\" y2=\"40\" />\n",
       "  <line x1=\"0\" y1=\"80\" x2=\"120\" y2=\"80\" style=\"stroke-width:2\" />\n",
       "\n",
       "  <!-- Vertical lines -->\n",
       "  <line x1=\"0\" y1=\"0\" x2=\"0\" y2=\"80\" style=\"stroke-width:2\" />\n",
       "  <line x1=\"40\" y1=\"0\" x2=\"40\" y2=\"80\" />\n",
       "  <line x1=\"80\" y1=\"0\" x2=\"80\" y2=\"80\" />\n",
       "  <line x1=\"120\" y1=\"0\" x2=\"120\" y2=\"80\" style=\"stroke-width:2\" />\n",
       "\n",
       "  <!-- Colored Rectangle -->\n",
       "  <polygon points=\"0.0,0.0 120.0,0.0 120.0,80.0 0.0,80.0\" style=\"fill:#ECB172A0;stroke-width:0\"/>\n",
       "\n",
       "  <!-- Text -->\n",
       "  <text x=\"60.000000\" y=\"100.000000\" font-size=\"1.0rem\" font-weight=\"100\" text-anchor=\"middle\" >6000</text>\n",
       "  <text x=\"140.000000\" y=\"40.000000\" font-size=\"1.0rem\" font-weight=\"100\" text-anchor=\"middle\" transform=\"rotate(-90,140.000000,40.000000)\">4000</text>\n",
       "</svg>\n",
       "        </td>\n",
       "    </tr>\n",
       "</table>"
      ],
      "text/plain": [
       "dask.array<ones_like, shape=(4000, 6000), dtype=float64, chunksize=(2000, 2000), chunktype=numpy.ndarray>"
      ]
     },
     "execution_count": 8,
     "metadata": {},
     "output_type": "execute_result"
    }
   ],
   "source": [
    "# create dask array with 4 chunks\n",
    "chunk_shape = (2000,2000)\n",
    "ones_da = da.ones(shape,chunks=chunk_shape)\n",
    "ones_da"
   ]
  },
  {
   "cell_type": "markdown",
   "id": "a322cb9f-e4c1-45ac-9727-0831b3d55054",
   "metadata": {},
   "source": [
    "You can see in the above dask array representation that we now have 6 chunks, each of shape (2000,2000) and size 30.0 MB.\n",
    "\n",
    "<div class=\"alert alert-block alert-warning\">\n",
    "\n",
    "<b>WARNING:</b> Please note that `chunks` argument stands for “chunk shape” rather than “number of chunks”. For example, `chunks=1` means that you will have several chunks with one element. \n",
    "</div>\n",
    "We can visualize our Dask array by looking at the dask task graph for this computation:"
   ]
  },
  {
   "cell_type": "code",
   "execution_count": 9,
   "id": "b9115c75-4de5-4265-a628-a207b8410943",
   "metadata": {},
   "outputs": [
    {
     "data": {
      "image/png": "[encoded data removed]",
      "text/plain": [
       "<IPython.core.display.Image object>"
      ]
     },
     "execution_count": 9,
     "metadata": {},
     "output_type": "execute_result"
    }
   ],
   "source": [
    "# visualize task graph \n",
    "ones_da.visualize()"
   ]
  },
  {
   "cell_type": "markdown",
   "id": "2a12d097-9c1d-4a78-bbcf-4d7f52e47388",
   "metadata": {},
   "source": [
    "## Performance Comparison"
   ]
  },
  {
   "cell_type": "markdown",
   "id": "bf6b8586-e191-4e55-b476-8099c612971b",
   "metadata": {},
   "source": [
    "To compare the performance between numpy and dask array, let's calculate the mean. "
   ]
  },
  {
   "cell_type": "code",
   "execution_count": 10,
   "id": "9856fcec-e006-446b-b426-bff50a92cbd9",
   "metadata": {},
   "outputs": [
    {
     "name": "stdout",
     "output_type": "stream",
     "text": [
      "CPU times: user 17 ms, sys: 0 ns, total: 17 ms\n",
      "Wall time: 18.5 ms\n"
     ]
    },
    {
     "data": {
      "text/plain": [
       "1.0"
      ]
     },
     "execution_count": 10,
     "metadata": {},
     "output_type": "execute_result"
    }
   ],
   "source": [
    "%%time\n",
    "# The %%time magic measures the execution time of the whole cell\n",
    "ones_np.mean()"
   ]
  },
  {
   "cell_type": "code",
   "execution_count": 11,
   "id": "86cc3673-c8a4-421b-8975-3cd2c30c7b1b",
   "metadata": {},
   "outputs": [
    {
     "name": "stdout",
     "output_type": "stream",
     "text": [
      "CPU times: user 1.58 ms, sys: 0 ns, total: 1.58 ms\n",
      "Wall time: 1.59 ms\n"
     ]
    }
   ],
   "source": [
    "%%time\n",
    "# Remember, we are not doing any computation here, just constructing our task graph\n",
    "mean_of_ones_da = ones_da.mean()"
   ]
  },
  {
   "cell_type": "markdown",
   "id": "b503ebfc-5c20-4b7d-bf70-088c1df844a0",
   "metadata": {},
   "source": [
    "So far with just constructed our task graph. Now let's calculate the mean using `compute`. "
   ]
  },
  {
   "cell_type": "code",
   "execution_count": 12,
   "id": "1179dc52-9da9-419f-961b-ba806d9de498",
   "metadata": {},
   "outputs": [
    {
     "name": "stdout",
     "output_type": "stream",
     "text": [
      "CPU times: user 5.67 ms, sys: 1.9 ms, total: 7.57 ms\n",
      "Wall time: 7.59 ms\n"
     ]
    },
    {
     "data": {
      "text/plain": [
       "1.0"
      ]
     },
     "execution_count": 12,
     "metadata": {},
     "output_type": "execute_result"
    }
   ],
   "source": [
    "%%time\n",
    "mean_of_ones_da.compute()"
   ]
  },
  {
   "cell_type": "markdown",
   "id": "2ba26970-bb89-4ea1-a40b-d885368651bb",
   "metadata": {},
   "source": [
    "Typically, when working with dask arrays, we do not want to generate the data right away by calling `.compute()` on a large array. We usually want to perform some computations that reduce the data size. For example, we might compute statistics like the mean or standard deviation.\n",
    "\n",
    "Let's look at an example of taking the mean and visualize the task graph. Remember, that no actual computation is taking place until we call `.compute()`."
   ]
  },
  {
   "cell_type": "code",
   "execution_count": 13,
   "id": "e9350bd2-0e92-4c92-8dae-cee7c2027c87",
   "metadata": {},
   "outputs": [
    {
     "data": {
      "image/png": "[encoded data removed]",
      "text/plain": [
       "<IPython.core.display.Image object>"
      ]
     },
     "execution_count": 13,
     "metadata": {},
     "output_type": "execute_result"
    }
   ],
   "source": [
    "mean_of_ones_da = ones_da.mean()\n",
    "mean_of_ones_da.visualize()"
   ]
  },
  {
   "cell_type": "markdown",
   "id": "878a7cdc-ef9c-4e83-9ae8-d10c2c140413",
   "metadata": {},
   "source": [
    "## Larger Data\n",
    "The previous example illustrated how dask works, but wasn't really necessary for an array of size 32 MB. Let's try an example using bigger data and bigger calculations. "
   ]
  },
  {
   "cell_type": "code",
   "execution_count": 17,
   "id": "da9d506b-ffcf-4faf-8544-08ad76014819",
   "metadata": {},
   "outputs": [],
   "source": [
    "big_shape = (40000, 20000)\n",
    "\n",
    "big_ones_np = np.ones(big_shape)"
   ]
  },
  {
   "cell_type": "markdown",
   "id": "80f66611-b525-40c8-9998-9dc09a45a8f1",
   "metadata": {},
   "source": [
    "Make a similar Dask Array with similar shape but specifying the `chunks` size:"
   ]
  },
  {
   "cell_type": "code",
   "execution_count": 26,
   "id": "570b4e69-2663-47fc-8e3f-0aaa50eb6b29",
   "metadata": {},
   "outputs": [
    {
     "data": {
      "text/html": [
       "<table>\n",
       "    <tr>\n",
       "        <td>\n",
       "            <table>\n",
       "                <thead>\n",
       "                    <tr>\n",
       "                        <td> </td>\n",
       "                        <th> Array </th>\n",
       "                        <th> Chunk </th>\n",
       "                    </tr>\n",
       "                </thead>\n",
       "                <tbody>\n",
       "                    \n",
       "                    <tr>\n",
       "                        <th> Bytes </th>\n",
       "                        <td> 5.96 GiB </td>\n",
       "                        <td> 30.52 MiB </td>\n",
       "                    </tr>\n",
       "                    \n",
       "                    <tr>\n",
       "                        <th> Shape </th>\n",
       "                        <td> (40000, 20000) </td>\n",
       "                        <td> (2000, 2000) </td>\n",
       "                    </tr>\n",
       "                    <tr>\n",
       "                        <th> Count </th>\n",
       "                        <td> 200 Tasks </td>\n",
       "                        <td> 200 Chunks </td>\n",
       "                    </tr>\n",
       "                    <tr>\n",
       "                    <th> Type </th>\n",
       "                    <td> float64 </td>\n",
       "                    <td> numpy.ndarray </td>\n",
       "                    </tr>\n",
       "                </tbody>\n",
       "            </table>\n",
       "        </td>\n",
       "        <td>\n",
       "        <svg width=\"110\" height=\"170\" style=\"stroke:rgb(0,0,0);stroke-width:1\" >\n",
       "\n",
       "  <!-- Horizontal lines -->\n",
       "  <line x1=\"0\" y1=\"0\" x2=\"60\" y2=\"0\" style=\"stroke-width:2\" />\n",
       "  <line x1=\"0\" y1=\"6\" x2=\"60\" y2=\"6\" />\n",
       "  <line x1=\"0\" y1=\"12\" x2=\"60\" y2=\"12\" />\n",
       "  <line x1=\"0\" y1=\"18\" x2=\"60\" y2=\"18\" />\n",
       "  <line x1=\"0\" y1=\"24\" x2=\"60\" y2=\"24\" />\n",
       "  <line x1=\"0\" y1=\"30\" x2=\"60\" y2=\"30\" />\n",
       "  <line x1=\"0\" y1=\"36\" x2=\"60\" y2=\"36\" />\n",
       "  <line x1=\"0\" y1=\"42\" x2=\"60\" y2=\"42\" />\n",
       "  <line x1=\"0\" y1=\"48\" x2=\"60\" y2=\"48\" />\n",
       "  <line x1=\"0\" y1=\"54\" x2=\"60\" y2=\"54\" />\n",
       "  <line x1=\"0\" y1=\"60\" x2=\"60\" y2=\"60\" />\n",
       "  <line x1=\"0\" y1=\"66\" x2=\"60\" y2=\"66\" />\n",
       "  <line x1=\"0\" y1=\"72\" x2=\"60\" y2=\"72\" />\n",
       "  <line x1=\"0\" y1=\"78\" x2=\"60\" y2=\"78\" />\n",
       "  <line x1=\"0\" y1=\"84\" x2=\"60\" y2=\"84\" />\n",
       "  <line x1=\"0\" y1=\"90\" x2=\"60\" y2=\"90\" />\n",
       "  <line x1=\"0\" y1=\"96\" x2=\"60\" y2=\"96\" />\n",
       "  <line x1=\"0\" y1=\"102\" x2=\"60\" y2=\"102\" />\n",
       "  <line x1=\"0\" y1=\"108\" x2=\"60\" y2=\"108\" />\n",
       "  <line x1=\"0\" y1=\"120\" x2=\"60\" y2=\"120\" style=\"stroke-width:2\" />\n",
       "\n",
       "  <!-- Vertical lines -->\n",
       "  <line x1=\"0\" y1=\"0\" x2=\"0\" y2=\"120\" style=\"stroke-width:2\" />\n",
       "  <line x1=\"6\" y1=\"0\" x2=\"6\" y2=\"120\" />\n",
       "  <line x1=\"12\" y1=\"0\" x2=\"12\" y2=\"120\" />\n",
       "  <line x1=\"18\" y1=\"0\" x2=\"18\" y2=\"120\" />\n",
       "  <line x1=\"24\" y1=\"0\" x2=\"24\" y2=\"120\" />\n",
       "  <line x1=\"30\" y1=\"0\" x2=\"30\" y2=\"120\" />\n",
       "  <line x1=\"36\" y1=\"0\" x2=\"36\" y2=\"120\" />\n",
       "  <line x1=\"42\" y1=\"0\" x2=\"42\" y2=\"120\" />\n",
       "  <line x1=\"48\" y1=\"0\" x2=\"48\" y2=\"120\" />\n",
       "  <line x1=\"54\" y1=\"0\" x2=\"54\" y2=\"120\" />\n",
       "  <line x1=\"60\" y1=\"0\" x2=\"60\" y2=\"120\" style=\"stroke-width:2\" />\n",
       "\n",
       "  <!-- Colored Rectangle -->\n",
       "  <polygon points=\"0.0,0.0 60.0,0.0 60.0,120.0 0.0,120.0\" style=\"fill:#8B4903A0;stroke-width:0\"/>\n",
       "\n",
       "  <!-- Text -->\n",
       "  <text x=\"30.000000\" y=\"140.000000\" font-size=\"1.0rem\" font-weight=\"100\" text-anchor=\"middle\" >20000</text>\n",
       "  <text x=\"80.000000\" y=\"60.000000\" font-size=\"1.0rem\" font-weight=\"100\" text-anchor=\"middle\" transform=\"rotate(-90,80.000000,60.000000)\">40000</text>\n",
       "</svg>\n",
       "        </td>\n",
       "    </tr>\n",
       "</table>"
      ],
      "text/plain": [
       "dask.array<ones_like, shape=(40000, 20000), dtype=float64, chunksize=(2000, 2000), chunktype=numpy.ndarray>"
      ]
     },
     "execution_count": 26,
     "metadata": {},
     "output_type": "execute_result"
    }
   ],
   "source": [
    "chunk_shape = (2000,2000)\n",
    "big_ones_da = da.ones(big_shape,chunks=chunk_shape)\n",
    "big_ones_da"
   ]
  },
  {
   "cell_type": "code",
   "execution_count": 27,
   "id": "264d7f95-3739-4e6f-b9bf-3bc722b30767",
   "metadata": {},
   "outputs": [
    {
     "name": "stdout",
     "output_type": "stream",
     "text": [
      "Memory size of NumPy dataset :  6.40 GB\n",
      "Memory size of Dask dataset  :  6.40 GB\n"
     ]
    }
   ],
   "source": [
    "# size of data\n",
    "print(\"Memory size of NumPy dataset :  {:.2f} GB\".format(big_ones_np.nbytes / 1e9))\n",
    "print(\"Memory size of Dask dataset  :  {:.2f} GB\".format(big_ones_da.nbytes / 1e9))"
   ]
  },
  {
   "cell_type": "markdown",
   "id": "6269ea15-fdb2-4cec-962b-72c0e123c638",
   "metadata": {},
   "source": [
    "This dataset is 3.2 GB, rather than MB! This may be close to the available memory/RAM that you have in your computer.\n",
    "\n",
    "<div class=\"alert alert-block alert-warning\">\n",
    "\n",
    "<b>WARNING:</b> Do not try to `.visualize()` this array!\n",
    "\n",
    "</div>\n",
    "\n",
    "Let's try bigger calculations on this array:"
   ]
  },
  {
   "cell_type": "code",
   "execution_count": 28,
   "id": "cde2f9a0-974c-43ed-a922-a587a34c79ec",
   "metadata": {},
   "outputs": [
    {
     "name": "stdout",
     "output_type": "stream",
     "text": [
      "CPU times: user 3 µs, sys: 0 ns, total: 3 µs\n",
      "Wall time: 90.4 µs\n"
     ]
    }
   ],
   "source": [
    "%time \n",
    "z_np = big_ones_np * big_ones_np[::-1, ::-1].mean()"
   ]
  },
  {
   "cell_type": "markdown",
   "id": "c00087f9-b343-47b6-beb9-6bc1043799a4",
   "metadata": {},
   "source": [
    "Bigger computations can take a bit more time, so dask has some built-in tools to help us follow what is happening."
   ]
  },
  {
   "cell_type": "code",
   "execution_count": 30,
   "id": "4674e7cd-6919-4751-b61a-381e8a3606bf",
   "metadata": {},
   "outputs": [
    {
     "name": "stdout",
     "output_type": "stream",
     "text": [
      "CPU times: user 1 µs, sys: 1e+03 ns, total: 2 µs\n",
      "Wall time: 4.53 µs\n",
      "[########################################] | 100% Completed | 2.33 sms\n"
     ]
    }
   ],
   "source": [
    "%time\n",
    "# perform big computation\n",
    "from dask.diagnostics import ProgressBar\n",
    "\n",
    "z_da = big_ones_da * big_ones_da[::-1, ::-1].mean()\n",
    "\n",
    "with ProgressBar():\n",
    "    result = z_da.compute()\n"
   ]
  },
  {
   "cell_type": "markdown",
   "id": "94f702a5-2af8-4b85-a466-b5bcd09635bd",
   "metadata": {},
   "source": [
    "All the usual NumPy functions work on dask arrays and the computations with remain lazy until you either call `.compute()`, `.load()` or your want to plot the data."
   ]
  },
  {
   "cell_type": "markdown",
   "id": "39adc87d-a41c-4e7e-bb31-0a51ba6aaed5",
   "metadata": {},
   "source": [
    "As we discussed above, the way that Dask arrays are chunked can significantly affect the performance.\n",
    "\n",
    "<div class=\"alert alert-block alert-warning\">\n",
    "\n",
    "<b>WARNING:</b> The way that arrays are chunked can significantly affect total performance. Poor chunking can singifincantly worsen performance of Dask compared to NumPy. \n",
    "</div>\n",
    "\n",
    "For example, let's do a similar calculation using a different `chunks` size. \n",
    "\n",
    "\n",
    "## Rechunking Arrays\n",
    "\n",
    "We can change the chunking of a Dask array, using the `rechunk` method. Please note that rechunking Dask arrays might become very expensive. "
   ]
  },
  {
   "cell_type": "code",
   "execution_count": 31,
   "id": "68dca5a5-b67b-4205-9e83-48faefe44594",
   "metadata": {},
   "outputs": [
    {
     "data": {
      "text/html": [
       "<table>\n",
       "    <tr>\n",
       "        <td>\n",
       "            <table>\n",
       "                <thead>\n",
       "                    <tr>\n",
       "                        <td> </td>\n",
       "                        <th> Array </th>\n",
       "                        <th> Chunk </th>\n",
       "                    </tr>\n",
       "                </thead>\n",
       "                <tbody>\n",
       "                    \n",
       "                    <tr>\n",
       "                        <th> Bytes </th>\n",
       "                        <td> 5.96 GiB </td>\n",
       "                        <td> 312.50 kiB </td>\n",
       "                    </tr>\n",
       "                    \n",
       "                    <tr>\n",
       "                        <th> Shape </th>\n",
       "                        <td> (40000, 20000) </td>\n",
       "                        <td> (200, 200) </td>\n",
       "                    </tr>\n",
       "                    <tr>\n",
       "                        <th> Count </th>\n",
       "                        <td> 40200 Tasks </td>\n",
       "                        <td> 20000 Chunks </td>\n",
       "                    </tr>\n",
       "                    <tr>\n",
       "                    <th> Type </th>\n",
       "                    <td> float64 </td>\n",
       "                    <td> numpy.ndarray </td>\n",
       "                    </tr>\n",
       "                </tbody>\n",
       "            </table>\n",
       "        </td>\n",
       "        <td>\n",
       "        <svg width=\"110\" height=\"170\" style=\"stroke:rgb(0,0,0);stroke-width:1\" >\n",
       "\n",
       "  <!-- Horizontal lines -->\n",
       "  <line x1=\"0\" y1=\"0\" x2=\"60\" y2=\"0\" style=\"stroke-width:2\" />\n",
       "  <line x1=\"0\" y1=\"6\" x2=\"60\" y2=\"6\" />\n",
       "  <line x1=\"0\" y1=\"12\" x2=\"60\" y2=\"12\" />\n",
       "  <line x1=\"0\" y1=\"18\" x2=\"60\" y2=\"18\" />\n",
       "  <line x1=\"0\" y1=\"25\" x2=\"60\" y2=\"25\" />\n",
       "  <line x1=\"0\" y1=\"31\" x2=\"60\" y2=\"31\" />\n",
       "  <line x1=\"0\" y1=\"37\" x2=\"60\" y2=\"37\" />\n",
       "  <line x1=\"0\" y1=\"43\" x2=\"60\" y2=\"43\" />\n",
       "  <line x1=\"0\" y1=\"50\" x2=\"60\" y2=\"50\" />\n",
       "  <line x1=\"0\" y1=\"56\" x2=\"60\" y2=\"56\" />\n",
       "  <line x1=\"0\" y1=\"63\" x2=\"60\" y2=\"63\" />\n",
       "  <line x1=\"0\" y1=\"69\" x2=\"60\" y2=\"69\" />\n",
       "  <line x1=\"0\" y1=\"75\" x2=\"60\" y2=\"75\" />\n",
       "  <line x1=\"0\" y1=\"81\" x2=\"60\" y2=\"81\" />\n",
       "  <line x1=\"0\" y1=\"88\" x2=\"60\" y2=\"88\" />\n",
       "  <line x1=\"0\" y1=\"94\" x2=\"60\" y2=\"94\" />\n",
       "  <line x1=\"0\" y1=\"100\" x2=\"60\" y2=\"100\" />\n",
       "  <line x1=\"0\" y1=\"106\" x2=\"60\" y2=\"106\" />\n",
       "  <line x1=\"0\" y1=\"113\" x2=\"60\" y2=\"113\" />\n",
       "  <line x1=\"0\" y1=\"120\" x2=\"60\" y2=\"120\" style=\"stroke-width:2\" />\n",
       "\n",
       "  <!-- Vertical lines -->\n",
       "  <line x1=\"0\" y1=\"0\" x2=\"0\" y2=\"120\" style=\"stroke-width:2\" />\n",
       "  <line x1=\"3\" y1=\"0\" x2=\"3\" y2=\"120\" />\n",
       "  <line x1=\"6\" y1=\"0\" x2=\"6\" y2=\"120\" />\n",
       "  <line x1=\"9\" y1=\"0\" x2=\"9\" y2=\"120\" />\n",
       "  <line x1=\"12\" y1=\"0\" x2=\"12\" y2=\"120\" />\n",
       "  <line x1=\"15\" y1=\"0\" x2=\"15\" y2=\"120\" />\n",
       "  <line x1=\"18\" y1=\"0\" x2=\"18\" y2=\"120\" />\n",
       "  <line x1=\"21\" y1=\"0\" x2=\"21\" y2=\"120\" />\n",
       "  <line x1=\"25\" y1=\"0\" x2=\"25\" y2=\"120\" />\n",
       "  <line x1=\"28\" y1=\"0\" x2=\"28\" y2=\"120\" />\n",
       "  <line x1=\"31\" y1=\"0\" x2=\"31\" y2=\"120\" />\n",
       "  <line x1=\"34\" y1=\"0\" x2=\"34\" y2=\"120\" />\n",
       "  <line x1=\"37\" y1=\"0\" x2=\"37\" y2=\"120\" />\n",
       "  <line x1=\"40\" y1=\"0\" x2=\"40\" y2=\"120\" />\n",
       "  <line x1=\"43\" y1=\"0\" x2=\"43\" y2=\"120\" />\n",
       "  <line x1=\"46\" y1=\"0\" x2=\"46\" y2=\"120\" />\n",
       "  <line x1=\"50\" y1=\"0\" x2=\"50\" y2=\"120\" />\n",
       "  <line x1=\"53\" y1=\"0\" x2=\"53\" y2=\"120\" />\n",
       "  <line x1=\"56\" y1=\"0\" x2=\"56\" y2=\"120\" />\n",
       "  <line x1=\"60\" y1=\"0\" x2=\"60\" y2=\"120\" style=\"stroke-width:2\" />\n",
       "\n",
       "  <!-- Colored Rectangle -->\n",
       "  <polygon points=\"0.0,0.0 60.0,0.0 60.0,120.0 0.0,120.0\" style=\"fill:#8B4903A0;stroke-width:0\"/>\n",
       "\n",
       "  <!-- Text -->\n",
       "  <text x=\"30.000000\" y=\"140.000000\" font-size=\"1.0rem\" font-weight=\"100\" text-anchor=\"middle\" >20000</text>\n",
       "  <text x=\"80.000000\" y=\"60.000000\" font-size=\"1.0rem\" font-weight=\"100\" text-anchor=\"middle\" transform=\"rotate(-90,80.000000,60.000000)\">40000</text>\n",
       "</svg>\n",
       "        </td>\n",
       "    </tr>\n",
       "</table>"
      ],
      "text/plain": [
       "dask.array<rechunk-merge, shape=(40000, 20000), dtype=float64, chunksize=(200, 200), chunktype=numpy.ndarray>"
      ]
     },
     "execution_count": 31,
     "metadata": {},
     "output_type": "execute_result"
    }
   ],
   "source": [
    "new_chunk_shape = (200,200)\n",
    "rechunked_big_ones_da = big_ones_da.rechunk(new_chunk_shape)\n",
    "rechunked_big_ones_da"
   ]
  },
  {
   "cell_type": "code",
   "execution_count": 32,
   "id": "ff5e0a0b-3d2f-46d4-a839-079dd3664572",
   "metadata": {},
   "outputs": [
    {
     "name": "stdout",
     "output_type": "stream",
     "text": [
      "CPU times: user 1e+03 ns, sys: 2 µs, total: 3 µs\n",
      "Wall time: 97.8 µs\n",
      "[########################################] | 100% Completed | 26.76 s\n"
     ]
    }
   ],
   "source": [
    "%time\n",
    "# perform big computation on chunked array\n",
    "\n",
    "z_da_rechunked = rechunked_big_ones_da * rechunked_big_ones_da[::-1, ::-1].mean()\n",
    "\n",
    "with ProgressBar():\n",
    "    result = z_da_rechunked.compute()"
   ]
  },
  {
   "cell_type": "markdown",
   "id": "797cbbc7-e2c9-46b2-b58b-0f9be29f7bb9",
   "metadata": {},
   "source": [
    "We can see how the choice of smaller chunks (more total chunks) **significantly** reduce the total performance of our computation. \n",
    "\n",
    "<div class=\"alert alert-block alert-info\" markdown=\"1\">\n",
    "\n",
    "<b>TIP:</b> As a rule of thumb, a chunk should be big enough so that the computation on that chunk take significantly longer than the overhead from Dask scheduler. The Dask scheduler takes roughly 1ms per task for scheduling. \n",
    "\n",
    "</div>\n",
    "\n",
    "Let's try a bigger chunk size:"
   ]
  },
  {
   "cell_type": "code",
   "execution_count": 38,
   "id": "dfd36aa9-d676-4c14-b2ad-3f8414b107c5",
   "metadata": {},
   "outputs": [
    {
     "data": {
      "text/html": [
       "<table>\n",
       "    <tr>\n",
       "        <td>\n",
       "            <table>\n",
       "                <thead>\n",
       "                    <tr>\n",
       "                        <td> </td>\n",
       "                        <th> Array </th>\n",
       "                        <th> Chunk </th>\n",
       "                    </tr>\n",
       "                </thead>\n",
       "                <tbody>\n",
       "                    \n",
       "                    <tr>\n",
       "                        <th> Bytes </th>\n",
       "                        <td> 5.96 GiB </td>\n",
       "                        <td> 2.98 GiB </td>\n",
       "                    </tr>\n",
       "                    \n",
       "                    <tr>\n",
       "                        <th> Shape </th>\n",
       "                        <td> (40000, 20000) </td>\n",
       "                        <td> (20000, 20000) </td>\n",
       "                    </tr>\n",
       "                    <tr>\n",
       "                        <th> Count </th>\n",
       "                        <td> 202 Tasks </td>\n",
       "                        <td> 2 Chunks </td>\n",
       "                    </tr>\n",
       "                    <tr>\n",
       "                    <th> Type </th>\n",
       "                    <td> float64 </td>\n",
       "                    <td> numpy.ndarray </td>\n",
       "                    </tr>\n",
       "                </tbody>\n",
       "            </table>\n",
       "        </td>\n",
       "        <td>\n",
       "        <svg width=\"110\" height=\"170\" style=\"stroke:rgb(0,0,0);stroke-width:1\" >\n",
       "\n",
       "  <!-- Horizontal lines -->\n",
       "  <line x1=\"0\" y1=\"0\" x2=\"60\" y2=\"0\" style=\"stroke-width:2\" />\n",
       "  <line x1=\"0\" y1=\"60\" x2=\"60\" y2=\"60\" />\n",
       "  <line x1=\"0\" y1=\"120\" x2=\"60\" y2=\"120\" style=\"stroke-width:2\" />\n",
       "\n",
       "  <!-- Vertical lines -->\n",
       "  <line x1=\"0\" y1=\"0\" x2=\"0\" y2=\"120\" style=\"stroke-width:2\" />\n",
       "  <line x1=\"60\" y1=\"0\" x2=\"60\" y2=\"120\" style=\"stroke-width:2\" />\n",
       "\n",
       "  <!-- Colored Rectangle -->\n",
       "  <polygon points=\"0.0,0.0 60.0,0.0 60.0,120.0 0.0,120.0\" style=\"fill:#ECB172A0;stroke-width:0\"/>\n",
       "\n",
       "  <!-- Text -->\n",
       "  <text x=\"30.000000\" y=\"140.000000\" font-size=\"1.0rem\" font-weight=\"100\" text-anchor=\"middle\" >20000</text>\n",
       "  <text x=\"80.000000\" y=\"60.000000\" font-size=\"1.0rem\" font-weight=\"100\" text-anchor=\"middle\" transform=\"rotate(-90,80.000000,60.000000)\">40000</text>\n",
       "</svg>\n",
       "        </td>\n",
       "    </tr>\n",
       "</table>"
      ],
      "text/plain": [
       "dask.array<rechunk-merge, shape=(40000, 20000), dtype=float64, chunksize=(20000, 20000), chunktype=numpy.ndarray>"
      ]
     },
     "execution_count": 38,
     "metadata": {},
     "output_type": "execute_result"
    }
   ],
   "source": [
    "new_chunk_shape = (20000,20000)\n",
    "rechunked_big_ones_da = big_ones_da.rechunk(new_chunk_shape)\n",
    "rechunked_big_ones_da"
   ]
  },
  {
   "cell_type": "code",
   "execution_count": 39,
   "id": "6e90dceb-56d1-4ef5-a6f3-ab0b25606288",
   "metadata": {},
   "outputs": [
    {
     "name": "stdout",
     "output_type": "stream",
     "text": [
      "CPU times: user 2 µs, sys: 0 ns, total: 2 µs\n",
      "Wall time: 4.53 µs\n",
      "[########################################] | 100% Completed | 6.29 sms\n"
     ]
    }
   ],
   "source": [
    "%time\n",
    "# perform big computation on chunked array\n",
    "\n",
    "z_da_rechunked = rechunked_big_ones_da * rechunked_big_ones_da[::-1, ::-1].mean()\n",
    "\n",
    "with ProgressBar():\n",
    "    result = z_da_rechunked.compute()"
   ]
  },
  {
   "cell_type": "markdown",
   "id": "fcc07937-e204-428e-af39-57bd7df1372b",
   "metadata": {},
   "source": [
    "Here we have two chunk sizes that are ~3GB each. If our array was bigger, we had even loading the array on our memory. \n",
    "<div class=\"alert alert-block alert-info\" markdown=\"1\">\n",
    "\n",
    "<b>TIP:</b> As a rule of thumb, a chunk should be small enough to fit comfortably in the memory. Chunk sizes between 10MB-1GB are common, depending on your machine,\n",
    "\n",
    "</div>\n",
    "\n",
    "\n",
    "Please note that rechunking Dask arrays might become very expensive, so specifying an initial chunk size appropriate for your array is important. Do we want to discuss this further? ****** How about automatic rechunking?"
   ]
  },
  {
   "cell_type": "markdown",
   "id": "984ea6ba-f37c-47ab-86ca-b5396ba6c071",
   "metadata": {},
   "source": [
    "## Summary:\n",
    "\n",
    "\n",
    "\n",
    "## Resources and references\n",
    "\n",
    "* Reference\n",
    "    *  [Dask Docs](https://dask.org/)\n",
    "    *  [Dask Examples](https://examples.dask.org/)\n",
    "    *  [Dask Code](https://github.com/dask/dask/)\n",
    "    *  [Dask Blog](https://blog.dask.org/)\n",
    "    \n",
    "    *  [Xarray Docs](https://xarray.pydata.org/)\n",
    "  \n",
    "*  Ask for help\n",
    "    *   [`dask`](http://stackoverflow.com/questions/tagged/dask) tag on Stack Overflow, for usage questions\n",
    "    *   [github discussions: dask](https://github.com/dask/dask/discussions) for general, non-bug, discussion, and usage questions\n",
    "    *   [github issues: dask](https://github.com/dask/dask/issues/new) for bug reports and feature requests\n",
    "     *   [github discussions: xarray](https://github.com/pydata/xarray/discussions) for general, non-bug, discussion, and usage questions\n",
    "    *   [github issues: xarray](https://github.com/pydata/xarray/issues/new) for bug reports and feature requests\n",
    "    \n",
    "* Pieces of this notebook are adapted from the following sources\n",
    "  * https://github.com/dask/dask-tutorial/blob/main/03_array.ipynb\n",
    "  * https://github.com/xarray-contrib/xarray-tutorial/blob/master/scipy-tutorial/06_xarray_and_dask.ipynb\n",
    "  \n"
   ]
  },
  {
   "cell_type": "markdown",
   "id": "09abe1a2-ad12-47b8-8d60-2e41150fa177",
   "metadata": {},
   "source": [
    " <div class=\"admonition alert alert-success\">\n",
    "    <p class=\"title\" style=\"font-weight:bold\">Previous: <a href=\"./00-dask-overview.ipynb\">Dask Overview</a></p>\n",
    "     <p class=\"title\" style=\"font-weight:bold\">Next: <a href=\"./02-dask-dataframe.ipynb\">Dask DataFrame</a></p>\n",
    "    \n",
    "</div>"
   ]
  }
 ],
 "metadata": {
  "kernelspec": {
   "display_name": "NPL 2022b",
   "language": "python",
   "name": "npl-2022b"
  },
  "language_info": {
   "codemirror_mode": {
    "name": "ipython",
    "version": 3
   },
   "file_extension": ".py",
   "mimetype": "text/x-python",
   "name": "python",
   "nbconvert_exporter": "python",
   "pygments_lexer": "ipython3",
   "version": "3.8.13"
  },
  "widgets": {
   "application/vnd.jupyter.widget-state+json": {
    "state": {},
    "version_major": 2,
    "version_minor": 0
   }
  }
 },
 "nbformat": 4,
 "nbformat_minor": 5
}
