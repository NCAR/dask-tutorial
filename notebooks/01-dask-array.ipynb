{
 "cells": [
  {
   "cell_type": "markdown",
   "id": "990cfa4c-2117-4435-9806-ff9048890398",
   "metadata": {},
   "source": [
    "![image.png](attachment:3c6650ef-25fb-48a9-bb28-5f722aa0f4ef.png)\n",
    "\n",
    "# Dask Array\n",
    "\n",
    "Negin Sobhani and Brian Vanderwende  \n",
    "HPC User Support Consultant  \n",
    "[negins@ucar.edu](negins@ucar.edu) and [vanderwb@ucar.edu](mailto:vanderwb@ucar.edu)\n",
    "---------\n",
    "\n",
    "### Dask Arrays \n",
    "\n",
    "Dask arrays coordinate many Numpy arrays, arranged into chunks within a grid. They support a large subset of the Numpy API.\n",
    "\n",
    "Dask divides arrays into many small pieces, called chunks, each of which is presumed to be small enough to fit into memory.\n",
    "\n",
    "<img src=\"https://docs.dask.org/en/stable/_images/dask-array.svg\" width=\"100%\" align=\"right\">\n",
    "\n",
    "\n",
    "\n",
    "**Dask Arrays are lazy!**\n",
    "\n",
    "This means that unlike Numpy, operations are not computed until you explicitly request them.\n",
    "Operations queue up a series of tasks mapped over blocks, and no computation is performed until you actually ask values to be computed (e.g., to print results to your screen or write to disk).\n",
    "At that point, data is loaded into memory and computation proceeds in a streaming fashion, block-by-block.\n",
    "\n",
    "<div class=\"alert alert-block alert-info\" markdown=\"1\">\n",
    "\n",
    "<b>Lazy Evaluation: objects are evaluated just in time when the results are needed!</b> \n",
    "\n",
    "</div>\n",
    "\n",
    "\n",
    "### In this tutorial, you learn:\n",
    "\n",
    "* ????\n",
    "\n",
    "**Related Documentation**\n",
    "\n",
    "* [Array documentation](https://docs.dask.org/en/latest/array.html)\n",
    "* [Array screencast](https://youtu.be/9h_61hXCDuI)\n",
    "* [Array API](https://docs.dask.org/en/latest/array-api.html)\n",
    "* [Array examples](https://examples.dask.org/array.html)\n"
   ]
  },
  {
   "cell_type": "markdown",
   "id": "d319b8dc-0275-44a0-af7d-d239a2e81cc3",
   "metadata": {},
   "source": [
    "## Start a Dask Client for Dashboard\n",
    "\n",
    "Starting the Dask Client is optional. It will provide a dashboard which is useful to gain insight on the computation.\n",
    "\n",
    "The link to the dashboard will become visible when you create the client below. We recommend having it open on one side of your screen while using your notebook on the other side. This can take some effort to arrange your windows, but seeing them both at the same is very useful when learning."
   ]
  },
  {
   "cell_type": "code",
   "execution_count": null,
   "id": "4817cbe6-414f-4892-9ec1-1b395a96ddfa",
   "metadata": {},
   "outputs": [],
   "source": [
    "from dask.distributed import Client\n",
    "\n",
    "client = Client(n_workers=4)\n",
    "client"
   ]
  },
  {
   "cell_type": "markdown",
   "id": "1cf6e888-1db5-452e-975f-7fc03593ee4e",
   "metadata": {},
   "source": [
    "-----------------"
   ]
  },
  {
   "cell_type": "markdown",
   "id": "ed8c0a5c-a3fa-4f7e-8c84-7bc96fd0a817",
   "metadata": {},
   "source": [
    "Let's start by creating a numpy array of ones:"
   ]
  },
  {
   "cell_type": "code",
   "execution_count": 65,
   "id": "20392c9f-8902-43f6-bbf1-38d88532c361",
   "metadata": {},
   "outputs": [
    {
     "data": {
      "text/plain": [
       "array([[1., 1., 1., ..., 1., 1., 1.],\n",
       "       [1., 1., 1., ..., 1., 1., 1.],\n",
       "       [1., 1., 1., ..., 1., 1., 1.],\n",
       "       ...,\n",
       "       [1., 1., 1., ..., 1., 1., 1.],\n",
       "       [1., 1., 1., ..., 1., 1., 1.],\n",
       "       [1., 1., 1., ..., 1., 1., 1.]])"
      ]
     },
     "execution_count": 65,
     "metadata": {},
     "output_type": "execute_result"
    }
   ],
   "source": [
    "import numpy as np\n",
    "\n",
    "shape = (3000, 4000)\n",
    "\n",
    "ones_np = np.ones(shape)\n",
    "ones_np"
   ]
  },
  {
   "cell_type": "markdown",
   "id": "8940853a-9022-481e-934e-57b1742bf9cf",
   "metadata": {},
   "source": [
    "Now, let's create the same array using dask:"
   ]
  },
  {
   "cell_type": "code",
   "execution_count": 66,
   "id": "5466813e-e71b-446a-bc14-f4d3b98a27df",
   "metadata": {},
   "outputs": [
    {
     "data": {
      "text/html": [
       "<table>\n",
       "    <tr>\n",
       "        <td>\n",
       "            <table>\n",
       "                <thead>\n",
       "                    <tr>\n",
       "                        <td> </td>\n",
       "                        <th> Array </th>\n",
       "                        <th> Chunk </th>\n",
       "                    </tr>\n",
       "                </thead>\n",
       "                <tbody>\n",
       "                    \n",
       "                    <tr>\n",
       "                        <th> Bytes </th>\n",
       "                        <td> 91.55 MiB </td>\n",
       "                        <td> 91.55 MiB </td>\n",
       "                    </tr>\n",
       "                    \n",
       "                    <tr>\n",
       "                        <th> Shape </th>\n",
       "                        <td> (3000, 4000) </td>\n",
       "                        <td> (3000, 4000) </td>\n",
       "                    </tr>\n",
       "                    <tr>\n",
       "                        <th> Count </th>\n",
       "                        <td> 1 Tasks </td>\n",
       "                        <td> 1 Chunks </td>\n",
       "                    </tr>\n",
       "                    <tr>\n",
       "                    <th> Type </th>\n",
       "                    <td> float64 </td>\n",
       "                    <td> numpy.ndarray </td>\n",
       "                    </tr>\n",
       "                </tbody>\n",
       "            </table>\n",
       "        </td>\n",
       "        <td>\n",
       "        <svg width=\"170\" height=\"140\" style=\"stroke:rgb(0,0,0);stroke-width:1\" >\n",
       "\n",
       "  <!-- Horizontal lines -->\n",
       "  <line x1=\"0\" y1=\"0\" x2=\"120\" y2=\"0\" style=\"stroke-width:2\" />\n",
       "  <line x1=\"0\" y1=\"90\" x2=\"120\" y2=\"90\" style=\"stroke-width:2\" />\n",
       "\n",
       "  <!-- Vertical lines -->\n",
       "  <line x1=\"0\" y1=\"0\" x2=\"0\" y2=\"90\" style=\"stroke-width:2\" />\n",
       "  <line x1=\"120\" y1=\"0\" x2=\"120\" y2=\"90\" style=\"stroke-width:2\" />\n",
       "\n",
       "  <!-- Colored Rectangle -->\n",
       "  <polygon points=\"0.0,0.0 120.0,0.0 120.0,90.0 0.0,90.0\" style=\"fill:#ECB172A0;stroke-width:0\"/>\n",
       "\n",
       "  <!-- Text -->\n",
       "  <text x=\"60.000000\" y=\"110.000000\" font-size=\"1.0rem\" font-weight=\"100\" text-anchor=\"middle\" >4000</text>\n",
       "  <text x=\"140.000000\" y=\"45.000000\" font-size=\"1.0rem\" font-weight=\"100\" text-anchor=\"middle\" transform=\"rotate(-90,140.000000,45.000000)\">3000</text>\n",
       "</svg>\n",
       "        </td>\n",
       "    </tr>\n",
       "</table>"
      ],
      "text/plain": [
       "dask.array<ones_like, shape=(3000, 4000), dtype=float64, chunksize=(3000, 4000), chunktype=numpy.ndarray>"
      ]
     },
     "execution_count": 66,
     "metadata": {},
     "output_type": "execute_result"
    }
   ],
   "source": [
    "import dask.array as da\n",
    "ones = da.ones(shape)\n",
    "ones"
   ]
  },
  {
   "cell_type": "markdown",
   "id": "67c8f051-3889-41f6-99ca-87074f336bd0",
   "metadata": {},
   "source": [
    "We see a dask array representation of the data. This is a symbolic representation. No data has actually been generated yet - this mode of operation is called 'lazy'. It allows the user to build up a series of computations or tasks before being passed to the scheduler for execution.\n",
    "\n",
    "In order to generate the data, we need to call the function .compute() on a dask array to trigger computation and conversion to a numpy array.\n",
    "\n",
    "So, at this point, our dask array is similar to our numpy array. Let's run the `.compute()` function to see how this works:"
   ]
  },
  {
   "cell_type": "code",
   "execution_count": 67,
   "id": "28004983-7715-4d2e-a45b-31145bd74941",
   "metadata": {},
   "outputs": [
    {
     "data": {
      "text/plain": [
       "array([[1., 1., 1., ..., 1., 1., 1.],\n",
       "       [1., 1., 1., ..., 1., 1., 1.],\n",
       "       [1., 1., 1., ..., 1., 1., 1.],\n",
       "       ...,\n",
       "       [1., 1., 1., ..., 1., 1., 1.],\n",
       "       [1., 1., 1., ..., 1., 1., 1.],\n",
       "       [1., 1., 1., ..., 1., 1., 1.]])"
      ]
     },
     "execution_count": 67,
     "metadata": {},
     "output_type": "execute_result"
    }
   ],
   "source": [
    "ones.compute()"
   ]
  },
  {
   "cell_type": "code",
   "execution_count": null,
   "id": "4029faca-8c3e-457c-8931-56c9a55b968f",
   "metadata": {},
   "outputs": [],
   "source": []
  },
  {
   "cell_type": "markdown",
   "id": "a9652b53-7bc3-44da-9cad-5fa0b8797bcb",
   "metadata": {},
   "source": [
    "-------\n",
    "What are the sizes of these arrays on memory?"
   ]
  },
  {
   "cell_type": "code",
   "execution_count": 68,
   "id": "573f9e9c-e035-48d4-8029-dec19ededb8b",
   "metadata": {},
   "outputs": [],
   "source": [
    "import sys\n",
    "\n",
    "# Define function to display variable size in MB\n",
    "def var_size(in_var):\n",
    "    result = sys.getsizeof(in_var) / 1e6\n",
    "    return (result)"
   ]
  },
  {
   "cell_type": "code",
   "execution_count": 69,
   "id": "c687f2a9-4001-4b02-9671-931931f99923",
   "metadata": {},
   "outputs": [
    {
     "name": "stdout",
     "output_type": "stream",
     "text": [
      "\n",
      " \n",
      " Numpy Array\n",
      "Size of the array:  12000000\n",
      "Shape of the array:  (3000, 4000)\n",
      "Memory size of one array element in bytes:  8\n",
      "Memory size of numpy array in MB: 96.00 MB\n",
      "\n",
      " \n",
      " Dask Array\n",
      "Size of the array:  12000000\n",
      "Shape of the array:  (3000, 4000)\n",
      "Memory size of one array element in bytes:  8\n",
      "Memory size of dask array in MB: 0.00 MB\n"
     ]
    }
   ],
   "source": [
    "print (\"\\n \\n Numpy Array\")\n",
    "\n",
    "print(\"Size of the array: \",\n",
    "      ones_np.size)\n",
    "\n",
    "print(\"Shape of the array: \",\n",
    "      ones_np.shape) \n",
    "\n",
    "print(\"Memory size of one array element in bytes: \",\n",
    "      ones_np.itemsize)\n",
    " \n",
    "# memory size of numpy array in bytes\n",
    "print(f\"Memory size of numpy array in MB: {var_size(ones_np):.2f} MB\")\n",
    "\n",
    "\n",
    "print (\"\\n \\n Dask Array\")\n",
    "\n",
    "print(\"Size of the array: \",\n",
    "      ones.size)\n",
    "\n",
    "print(\"Shape of the array: \",\n",
    "      ones.shape) \n",
    "\n",
    "print(\"Memory size of one array element in bytes: \",\n",
    "      ones.itemsize)\n",
    " \n",
    "# memory size of numpy array in bytes\n",
    "print(f\"Memory size of dask array in MB: {var_size(ones):.2f} MB\")"
   ]
  },
  {
   "cell_type": "markdown",
   "id": "592105b5-87d6-4b2a-8f25-2619a37d11e8",
   "metadata": {},
   "source": [
    "**Why Memory size for the Dask Array is zero?**\n",
    "\n",
    "Remember, this variable is only a facimile of the full array which will be split across workers.\n",
    "\n",
    "However, Dask does give us ways to see the full size of the data (often much larger than your client machine!)"
   ]
  },
  {
   "cell_type": "code",
   "execution_count": 70,
   "id": "4459835c-a020-4f81-a5c0-719aceb4d199",
   "metadata": {},
   "outputs": [
    {
     "name": "stdout",
     "output_type": "stream",
     "text": [
      "Size of Dask dataset:  96.00 MiB\n"
     ]
    }
   ],
   "source": [
    "print(\"Size of Dask dataset:  {:.2f} MiB\".format(ones.nbytes / 1e6))"
   ]
  },
  {
   "cell_type": "code",
   "execution_count": null,
   "id": "af5ad883-9793-4a9d-a7f3-685515d4f54d",
   "metadata": {},
   "outputs": [],
   "source": []
  },
  {
   "cell_type": "markdown",
   "id": "2a12d097-9c1d-4a78-bbcf-4d7f52e47388",
   "metadata": {},
   "source": [
    "## Performance Comparison"
   ]
  },
  {
   "cell_type": "markdown",
   "id": "bf6b8586-e191-4e55-b476-8099c612971b",
   "metadata": {},
   "source": [
    "To compare the performance between numpy and dask array, let's calculate the mean. "
   ]
  },
  {
   "cell_type": "code",
   "execution_count": 71,
   "id": "9856fcec-e006-446b-b426-bff50a92cbd9",
   "metadata": {},
   "outputs": [
    {
     "name": "stdout",
     "output_type": "stream",
     "text": [
      "CPU times: user 8.37 ms, sys: 0 ns, total: 8.37 ms\n",
      "Wall time: 8.38 ms\n"
     ]
    },
    {
     "data": {
      "text/plain": [
       "1.0"
      ]
     },
     "execution_count": 71,
     "metadata": {},
     "output_type": "execute_result"
    }
   ],
   "source": [
    "%%time\n",
    "# The %%time magic measures the execution time of the whole cell\n",
    "ones_np.mean()"
   ]
  },
  {
   "cell_type": "code",
   "execution_count": 72,
   "id": "86cc3673-c8a4-421b-8975-3cd2c30c7b1b",
   "metadata": {},
   "outputs": [
    {
     "name": "stdout",
     "output_type": "stream",
     "text": [
      "CPU times: user 1.22 ms, sys: 19 µs, total: 1.24 ms\n",
      "Wall time: 1.25 ms\n"
     ]
    }
   ],
   "source": [
    "%%time\n",
    "# Remember, we are not doing any computation here, just constructing our task graph\n",
    "tg = ones.mean()"
   ]
  },
  {
   "cell_type": "markdown",
   "id": "b503ebfc-5c20-4b7d-bf70-088c1df844a0",
   "metadata": {},
   "source": [
    "So far with just constructed our task graph. Now let's calculate the mean using `compute`. "
   ]
  },
  {
   "cell_type": "code",
   "execution_count": 73,
   "id": "1179dc52-9da9-419f-961b-ba806d9de498",
   "metadata": {},
   "outputs": [
    {
     "name": "stdout",
     "output_type": "stream",
     "text": [
      "CPU times: user 20.7 ms, sys: 3.29 ms, total: 24 ms\n",
      "Wall time: 551 ms\n"
     ]
    },
    {
     "data": {
      "text/plain": [
       "1.0"
      ]
     },
     "execution_count": 73,
     "metadata": {},
     "output_type": "execute_result"
    }
   ],
   "source": [
    "%%time\n",
    "tg.compute()"
   ]
  },
  {
   "cell_type": "code",
   "execution_count": null,
   "id": "0789fe88-7581-45b8-8bf5-9b9886991cbb",
   "metadata": {},
   "outputs": [],
   "source": []
  },
  {
   "cell_type": "markdown",
   "id": "6d9e9fd4-65ed-46d2-9572-9f9c003c7c65",
   "metadata": {},
   "source": [
    "\n",
    "## Chunks\n",
    "Also notice that the symbolic representation illustrates the concept of \"chunks\". \n",
    "\n",
    "Dask arrays can split the data into sub-arrays to optimize computation with large arrays. In this case our array is small and we did not specify how many chunks we wanted, so there is only one chunk."
   ]
  },
  {
   "cell_type": "code",
   "execution_count": 74,
   "id": "96c78d35-0f8c-478e-8f87-72a2b19b2146",
   "metadata": {},
   "outputs": [
    {
     "data": {
      "text/html": [
       "<table>\n",
       "    <tr>\n",
       "        <td>\n",
       "            <table>\n",
       "                <thead>\n",
       "                    <tr>\n",
       "                        <td> </td>\n",
       "                        <th> Array </th>\n",
       "                        <th> Chunk </th>\n",
       "                    </tr>\n",
       "                </thead>\n",
       "                <tbody>\n",
       "                    \n",
       "                    <tr>\n",
       "                        <th> Bytes </th>\n",
       "                        <td> 91.55 MiB </td>\n",
       "                        <td> 91.55 MiB </td>\n",
       "                    </tr>\n",
       "                    \n",
       "                    <tr>\n",
       "                        <th> Shape </th>\n",
       "                        <td> (3000, 4000) </td>\n",
       "                        <td> (3000, 4000) </td>\n",
       "                    </tr>\n",
       "                    <tr>\n",
       "                        <th> Count </th>\n",
       "                        <td> 1 Tasks </td>\n",
       "                        <td> 1 Chunks </td>\n",
       "                    </tr>\n",
       "                    <tr>\n",
       "                    <th> Type </th>\n",
       "                    <td> float64 </td>\n",
       "                    <td> numpy.ndarray </td>\n",
       "                    </tr>\n",
       "                </tbody>\n",
       "            </table>\n",
       "        </td>\n",
       "        <td>\n",
       "        <svg width=\"170\" height=\"140\" style=\"stroke:rgb(0,0,0);stroke-width:1\" >\n",
       "\n",
       "  <!-- Horizontal lines -->\n",
       "  <line x1=\"0\" y1=\"0\" x2=\"120\" y2=\"0\" style=\"stroke-width:2\" />\n",
       "  <line x1=\"0\" y1=\"90\" x2=\"120\" y2=\"90\" style=\"stroke-width:2\" />\n",
       "\n",
       "  <!-- Vertical lines -->\n",
       "  <line x1=\"0\" y1=\"0\" x2=\"0\" y2=\"90\" style=\"stroke-width:2\" />\n",
       "  <line x1=\"120\" y1=\"0\" x2=\"120\" y2=\"90\" style=\"stroke-width:2\" />\n",
       "\n",
       "  <!-- Colored Rectangle -->\n",
       "  <polygon points=\"0.0,0.0 120.0,0.0 120.0,90.0 0.0,90.0\" style=\"fill:#ECB172A0;stroke-width:0\"/>\n",
       "\n",
       "  <!-- Text -->\n",
       "  <text x=\"60.000000\" y=\"110.000000\" font-size=\"1.0rem\" font-weight=\"100\" text-anchor=\"middle\" >4000</text>\n",
       "  <text x=\"140.000000\" y=\"45.000000\" font-size=\"1.0rem\" font-weight=\"100\" text-anchor=\"middle\" transform=\"rotate(-90,140.000000,45.000000)\">3000</text>\n",
       "</svg>\n",
       "        </td>\n",
       "    </tr>\n",
       "</table>"
      ],
      "text/plain": [
       "dask.array<ones_like, shape=(3000, 4000), dtype=float64, chunksize=(3000, 4000), chunktype=numpy.ndarray>"
      ]
     },
     "execution_count": 74,
     "metadata": {},
     "output_type": "execute_result"
    }
   ],
   "source": [
    "ones"
   ]
  },
  {
   "cell_type": "code",
   "execution_count": 75,
   "id": "10126a1d-4204-4717-9d42-3defcee4a704",
   "metadata": {},
   "outputs": [
    {
     "data": {
      "image/png": "[encoded data removed]",
      "text/plain": [
       "<IPython.core.display.Image object>"
      ]
     },
     "execution_count": 75,
     "metadata": {},
     "output_type": "execute_result"
    }
   ],
   "source": [
    "ones.visualize()"
   ]
  },
  {
   "cell_type": "markdown",
   "id": "68de3478-f83c-4abe-ac1f-8c6c8a63621b",
   "metadata": {},
   "source": [
    "### Chunking the array\n",
    "The power of dask arrays comes from the ability to generate sub-arrays or \"chunks\". Let's recreate the above dask array, but this time we will specify chunk sizes (aka shapes) using the argument chunks. We will create an array with 4 chunks:"
   ]
  },
  {
   "cell_type": "code",
   "execution_count": 76,
   "id": "10bc8b8c-72dc-49a8-bffa-557e17099543",
   "metadata": {},
   "outputs": [
    {
     "data": {
      "text/html": [
       "<table>\n",
       "    <tr>\n",
       "        <td>\n",
       "            <table>\n",
       "                <thead>\n",
       "                    <tr>\n",
       "                        <td> </td>\n",
       "                        <th> Array </th>\n",
       "                        <th> Chunk </th>\n",
       "                    </tr>\n",
       "                </thead>\n",
       "                <tbody>\n",
       "                    \n",
       "                    <tr>\n",
       "                        <th> Bytes </th>\n",
       "                        <td> 91.55 MiB </td>\n",
       "                        <td> 30.52 MiB </td>\n",
       "                    </tr>\n",
       "                    \n",
       "                    <tr>\n",
       "                        <th> Shape </th>\n",
       "                        <td> (3000, 4000) </td>\n",
       "                        <td> (2000, 2000) </td>\n",
       "                    </tr>\n",
       "                    <tr>\n",
       "                        <th> Count </th>\n",
       "                        <td> 4 Tasks </td>\n",
       "                        <td> 4 Chunks </td>\n",
       "                    </tr>\n",
       "                    <tr>\n",
       "                    <th> Type </th>\n",
       "                    <td> float64 </td>\n",
       "                    <td> numpy.ndarray </td>\n",
       "                    </tr>\n",
       "                </tbody>\n",
       "            </table>\n",
       "        </td>\n",
       "        <td>\n",
       "        <svg width=\"170\" height=\"140\" style=\"stroke:rgb(0,0,0);stroke-width:1\" >\n",
       "\n",
       "  <!-- Horizontal lines -->\n",
       "  <line x1=\"0\" y1=\"0\" x2=\"120\" y2=\"0\" style=\"stroke-width:2\" />\n",
       "  <line x1=\"0\" y1=\"60\" x2=\"120\" y2=\"60\" />\n",
       "  <line x1=\"0\" y1=\"90\" x2=\"120\" y2=\"90\" style=\"stroke-width:2\" />\n",
       "\n",
       "  <!-- Vertical lines -->\n",
       "  <line x1=\"0\" y1=\"0\" x2=\"0\" y2=\"90\" style=\"stroke-width:2\" />\n",
       "  <line x1=\"60\" y1=\"0\" x2=\"60\" y2=\"90\" />\n",
       "  <line x1=\"120\" y1=\"0\" x2=\"120\" y2=\"90\" style=\"stroke-width:2\" />\n",
       "\n",
       "  <!-- Colored Rectangle -->\n",
       "  <polygon points=\"0.0,0.0 120.0,0.0 120.0,90.0 0.0,90.0\" style=\"fill:#ECB172A0;stroke-width:0\"/>\n",
       "\n",
       "  <!-- Text -->\n",
       "  <text x=\"60.000000\" y=\"110.000000\" font-size=\"1.0rem\" font-weight=\"100\" text-anchor=\"middle\" >4000</text>\n",
       "  <text x=\"140.000000\" y=\"45.000000\" font-size=\"1.0rem\" font-weight=\"100\" text-anchor=\"middle\" transform=\"rotate(-90,140.000000,45.000000)\">3000</text>\n",
       "</svg>\n",
       "        </td>\n",
       "    </tr>\n",
       "</table>"
      ],
      "text/plain": [
       "dask.array<ones_like, shape=(3000, 4000), dtype=float64, chunksize=(2000, 2000), chunktype=numpy.ndarray>"
      ]
     },
     "execution_count": 76,
     "metadata": {},
     "output_type": "execute_result"
    }
   ],
   "source": [
    "# create dask array with 4 chunks\n",
    "chunk_shape = (2000,2000)\n",
    "ones_da = da.ones(shape,chunks=chunk_shape)\n",
    "ones_da"
   ]
  },
  {
   "cell_type": "markdown",
   "id": "fea24116-02c8-4995-8b6d-c80f6b9d4aaf",
   "metadata": {},
   "source": [
    "You can see in the above dask array representation that we now have 4 chunks, each of shape (1000,1000) and size 8.0 MB.\n",
    "\n",
    "We can visualize this by looking at the dask task graph for this computation:"
   ]
  },
  {
   "cell_type": "code",
   "execution_count": 77,
   "id": "e0727f1b-a15b-4076-badc-cffc0001ab9e",
   "metadata": {},
   "outputs": [
    {
     "data": {
      "image/png": "[encoded data removed]",
      "text/plain": [
       "<IPython.core.display.Image object>"
      ]
     },
     "execution_count": 77,
     "metadata": {},
     "output_type": "execute_result"
    }
   ],
   "source": [
    "# visualize task graph \n",
    "ones_da.visualize()"
   ]
  },
  {
   "cell_type": "markdown",
   "id": "96992c3f-6fe8-4051-b0d3-57260748db49",
   "metadata": {},
   "source": [
    "## Performance Comparison"
   ]
  },
  {
   "cell_type": "markdown",
   "id": "e446b350-35f1-44ea-9c2b-1d2651d06de2",
   "metadata": {},
   "source": [
    "To compare the performance between numpy and dask array, let's calculate the mean. "
   ]
  },
  {
   "cell_type": "code",
   "execution_count": 78,
   "id": "58abe912-d989-4cd0-8c0b-179fb50da26a",
   "metadata": {},
   "outputs": [
    {
     "name": "stdout",
     "output_type": "stream",
     "text": [
      "CPU times: user 9.46 ms, sys: 334 µs, total: 9.8 ms\n",
      "Wall time: 11.7 ms\n"
     ]
    },
    {
     "data": {
      "text/plain": [
       "1.0"
      ]
     },
     "execution_count": 78,
     "metadata": {},
     "output_type": "execute_result"
    }
   ],
   "source": [
    "%%time\n",
    "# The %%time magic measures the execution time of the whole cell\n",
    "ones_np.mean()"
   ]
  },
  {
   "cell_type": "code",
   "execution_count": 79,
   "id": "513bc13c-710b-4fc4-b965-cdeb0aa2c7e0",
   "metadata": {},
   "outputs": [
    {
     "name": "stdout",
     "output_type": "stream",
     "text": [
      "CPU times: user 1.34 ms, sys: 0 ns, total: 1.34 ms\n",
      "Wall time: 1.35 ms\n"
     ]
    }
   ],
   "source": [
    "%%time\n",
    "# Remember, we are not doing any computation here, just constructing our task graph\n",
    "tg = ones.mean()"
   ]
  },
  {
   "cell_type": "markdown",
   "id": "75f1018d-b68b-4264-b7d2-c5c110b39698",
   "metadata": {},
   "source": [
    "So far with just constructed our task graph. Now let's calculate the mean using `compute`. "
   ]
  },
  {
   "cell_type": "code",
   "execution_count": 80,
   "id": "7aa2acfb-4863-4102-a8bb-a740e2db61c2",
   "metadata": {},
   "outputs": [
    {
     "name": "stdout",
     "output_type": "stream",
     "text": [
      "CPU times: user 25.1 ms, sys: 7.44 ms, total: 32.5 ms\n",
      "Wall time: 677 ms\n"
     ]
    },
    {
     "data": {
      "text/plain": [
       "1.0"
      ]
     },
     "execution_count": 80,
     "metadata": {},
     "output_type": "execute_result"
    }
   ],
   "source": [
    "%%time\n",
    "tg.compute()"
   ]
  },
  {
   "cell_type": "code",
   "execution_count": 81,
   "id": "9a9cc592-dfe4-4c48-8b4b-48c208726057",
   "metadata": {},
   "outputs": [
    {
     "name": "stdout",
     "output_type": "stream",
     "text": [
      "CPU times: user 1.02 ms, sys: 9 µs, total: 1.03 ms\n",
      "Wall time: 1.04 ms\n"
     ]
    }
   ],
   "source": [
    "%%time\n",
    "# Remember, we are not doing any computation here, just constructing our task graph\n",
    "tg = ones_da.mean()"
   ]
  },
  {
   "cell_type": "code",
   "execution_count": 82,
   "id": "319cfbfb-b964-4a65-857c-4fec4afe7731",
   "metadata": {},
   "outputs": [
    {
     "name": "stdout",
     "output_type": "stream",
     "text": [
      "CPU times: user 22.9 ms, sys: 2.64 ms, total: 25.5 ms\n",
      "Wall time: 581 ms\n"
     ]
    },
    {
     "data": {
      "text/plain": [
       "1.0"
      ]
     },
     "execution_count": 82,
     "metadata": {},
     "output_type": "execute_result"
    }
   ],
   "source": [
    "%%time\n",
    "tg.compute()"
   ]
  },
  {
   "cell_type": "markdown",
   "id": "2ba26970-bb89-4ea1-a40b-d885368651bb",
   "metadata": {},
   "source": [
    "Typically, when working with dask arrays, we do not want to generate the data right away by calling .compute() on a large array. We usually want to perform some computations that reduce the data size. For example, we might compute statistics like the mean or standard deviation.\n",
    "\n",
    "Let's look at an example of taking the mean and visualize the task graph. Remember, that no actual computation is taking place until we call .compute()."
   ]
  },
  {
   "cell_type": "code",
   "execution_count": 83,
   "id": "e9350bd2-0e92-4c92-8dae-cee7c2027c87",
   "metadata": {},
   "outputs": [
    {
     "data": {
      "image/png": "[encoded data removed]",
      "text/plain": [
       "<IPython.core.display.Image object>"
      ]
     },
     "execution_count": 83,
     "metadata": {},
     "output_type": "execute_result"
    }
   ],
   "source": [
    "mean_of_ones_da = ones_da.mean()\n",
    "mean_of_ones_da.visualize()"
   ]
  },
  {
   "cell_type": "markdown",
   "id": "878a7cdc-ef9c-4e83-9ae8-d10c2c140413",
   "metadata": {},
   "source": [
    "## Bigger Data\n",
    "The previous example illustrated how dask works, but wasn't really necessary for an array of size 32 MB. Let's try an example using bigger data: 3.2 GB:"
   ]
  },
  {
   "cell_type": "code",
   "execution_count": 92,
   "id": "570b4e69-2663-47fc-8e3f-0aaa50eb6b29",
   "metadata": {},
   "outputs": [
    {
     "data": {
      "text/html": [
       "<table>\n",
       "    <tr>\n",
       "        <td>\n",
       "            <table>\n",
       "                <thead>\n",
       "                    <tr>\n",
       "                        <td> </td>\n",
       "                        <th> Array </th>\n",
       "                        <th> Chunk </th>\n",
       "                    </tr>\n",
       "                </thead>\n",
       "                <tbody>\n",
       "                    \n",
       "                    <tr>\n",
       "                        <th> Bytes </th>\n",
       "                        <td> 29.80 GiB </td>\n",
       "                        <td> 30.52 MiB </td>\n",
       "                    </tr>\n",
       "                    \n",
       "                    <tr>\n",
       "                        <th> Shape </th>\n",
       "                        <td> (200000, 20000) </td>\n",
       "                        <td> (2000, 2000) </td>\n",
       "                    </tr>\n",
       "                    <tr>\n",
       "                        <th> Count </th>\n",
       "                        <td> 1000 Tasks </td>\n",
       "                        <td> 1000 Chunks </td>\n",
       "                    </tr>\n",
       "                    <tr>\n",
       "                    <th> Type </th>\n",
       "                    <td> float64 </td>\n",
       "                    <td> numpy.ndarray </td>\n",
       "                    </tr>\n",
       "                </tbody>\n",
       "            </table>\n",
       "        </td>\n",
       "        <td>\n",
       "        <svg width=\"88\" height=\"170\" style=\"stroke:rgb(0,0,0);stroke-width:1\" >\n",
       "\n",
       "  <!-- Horizontal lines -->\n",
       "  <line x1=\"0\" y1=\"0\" x2=\"38\" y2=\"0\" style=\"stroke-width:2\" />\n",
       "  <line x1=\"0\" y1=\"6\" x2=\"38\" y2=\"6\" />\n",
       "  <line x1=\"0\" y1=\"12\" x2=\"38\" y2=\"12\" />\n",
       "  <line x1=\"0\" y1=\"18\" x2=\"38\" y2=\"18\" />\n",
       "  <line x1=\"0\" y1=\"25\" x2=\"38\" y2=\"25\" />\n",
       "  <line x1=\"0\" y1=\"31\" x2=\"38\" y2=\"31\" />\n",
       "  <line x1=\"0\" y1=\"37\" x2=\"38\" y2=\"37\" />\n",
       "  <line x1=\"0\" y1=\"43\" x2=\"38\" y2=\"43\" />\n",
       "  <line x1=\"0\" y1=\"50\" x2=\"38\" y2=\"50\" />\n",
       "  <line x1=\"0\" y1=\"56\" x2=\"38\" y2=\"56\" />\n",
       "  <line x1=\"0\" y1=\"62\" x2=\"38\" y2=\"62\" />\n",
       "  <line x1=\"0\" y1=\"68\" x2=\"38\" y2=\"68\" />\n",
       "  <line x1=\"0\" y1=\"75\" x2=\"38\" y2=\"75\" />\n",
       "  <line x1=\"0\" y1=\"81\" x2=\"38\" y2=\"81\" />\n",
       "  <line x1=\"0\" y1=\"87\" x2=\"38\" y2=\"87\" />\n",
       "  <line x1=\"0\" y1=\"93\" x2=\"38\" y2=\"93\" />\n",
       "  <line x1=\"0\" y1=\"100\" x2=\"38\" y2=\"100\" />\n",
       "  <line x1=\"0\" y1=\"106\" x2=\"38\" y2=\"106\" />\n",
       "  <line x1=\"0\" y1=\"112\" x2=\"38\" y2=\"112\" />\n",
       "  <line x1=\"0\" y1=\"120\" x2=\"38\" y2=\"120\" style=\"stroke-width:2\" />\n",
       "\n",
       "  <!-- Vertical lines -->\n",
       "  <line x1=\"0\" y1=\"0\" x2=\"0\" y2=\"120\" style=\"stroke-width:2\" />\n",
       "  <line x1=\"3\" y1=\"0\" x2=\"3\" y2=\"120\" />\n",
       "  <line x1=\"7\" y1=\"0\" x2=\"7\" y2=\"120\" />\n",
       "  <line x1=\"11\" y1=\"0\" x2=\"11\" y2=\"120\" />\n",
       "  <line x1=\"15\" y1=\"0\" x2=\"15\" y2=\"120\" />\n",
       "  <line x1=\"19\" y1=\"0\" x2=\"19\" y2=\"120\" />\n",
       "  <line x1=\"23\" y1=\"0\" x2=\"23\" y2=\"120\" />\n",
       "  <line x1=\"27\" y1=\"0\" x2=\"27\" y2=\"120\" />\n",
       "  <line x1=\"30\" y1=\"0\" x2=\"30\" y2=\"120\" />\n",
       "  <line x1=\"34\" y1=\"0\" x2=\"34\" y2=\"120\" />\n",
       "  <line x1=\"38\" y1=\"0\" x2=\"38\" y2=\"120\" style=\"stroke-width:2\" />\n",
       "\n",
       "  <!-- Colored Rectangle -->\n",
       "  <polygon points=\"0.0,0.0 38.596863036086,0.0 38.596863036086,120.0 0.0,120.0\" style=\"fill:#8B4903A0;stroke-width:0\"/>\n",
       "\n",
       "  <!-- Text -->\n",
       "  <text x=\"19.298432\" y=\"140.000000\" font-size=\"1.0rem\" font-weight=\"100\" text-anchor=\"middle\" >20000</text>\n",
       "  <text x=\"58.596863\" y=\"60.000000\" font-size=\"1.0rem\" font-weight=\"100\" text-anchor=\"middle\" transform=\"rotate(-90,58.596863,60.000000)\">200000</text>\n",
       "</svg>\n",
       "        </td>\n",
       "    </tr>\n",
       "</table>"
      ],
      "text/plain": [
       "dask.array<ones_like, shape=(200000, 20000), dtype=float64, chunksize=(2000, 2000), chunktype=numpy.ndarray>"
      ]
     },
     "execution_count": 92,
     "metadata": {},
     "output_type": "execute_result"
    }
   ],
   "source": [
    "bigshape = (200000, 20000)\n",
    "big_ones_da = da.ones(bigshape,chunks=chunk_shape)\n",
    "big_ones_da"
   ]
  },
  {
   "cell_type": "code",
   "execution_count": 93,
   "id": "264d7f95-3739-4e6f-b9bf-3bc722b30767",
   "metadata": {},
   "outputs": [
    {
     "name": "stdout",
     "output_type": "stream",
     "text": [
      "Size of Dask dataset:  32000.00 MiB\n"
     ]
    }
   ],
   "source": [
    "# size of data\n",
    "print(\"Size of Dask dataset:  {:.2f} MiB\".format(big_ones_da.nbytes / 1e6))"
   ]
  },
  {
   "cell_type": "markdown",
   "id": "6269ea15-fdb2-4cec-962b-72c0e123c638",
   "metadata": {},
   "source": [
    "This dataset is 3.2 GB, rather than MB! This may be close to the available memory/RAM that you have in your computer.\n",
    "\n",
    "Do not try to .visualize() this array!\n",
    "\n",
    "Bigger computations can take a bit more time, so dask has some built-in tools to help us follow what is happening."
   ]
  },
  {
   "cell_type": "code",
   "execution_count": 94,
   "id": "4674e7cd-6919-4751-b61a-381e8a3606bf",
   "metadata": {},
   "outputs": [
    {
     "name": "stdout",
     "output_type": "stream",
     "text": [
      "CPU times: user 2 µs, sys: 1 µs, total: 3 µs\n",
      "Wall time: 5.01 µs\n",
      "1.0\n"
     ]
    }
   ],
   "source": [
    "%time\n",
    "# perform big computation\n",
    "from dask.diagnostics import ProgressBar\n",
    "\n",
    "big_calc = (big_ones_da * big_ones_da).mean()\n",
    "\n",
    "with ProgressBar():\n",
    "    result = big_calc.compute()\n",
    "\n",
    "print (result)\n"
   ]
  },
  {
   "cell_type": "markdown",
   "id": "94f702a5-2af8-4b85-a466-b5bcd09635bd",
   "metadata": {},
   "source": [
    "All the usual numpy functions work on dask arrays and the computations with remain lazy until you either call .compute(), .load() or your want to plot the data.\n",
    "\n"
   ]
  },
  {
   "cell_type": "code",
   "execution_count": 95,
   "id": "aa8a798a-5025-4480-93d7-3ef8bf9e23d9",
   "metadata": {},
   "outputs": [],
   "source": [
    "ones_np = np.ones(bigshape)"
   ]
  },
  {
   "cell_type": "code",
   "execution_count": null,
   "id": "76cc9fab-132f-4613-ab67-2d00bb0175d8",
   "metadata": {},
   "outputs": [
    {
     "name": "stdout",
     "output_type": "stream",
     "text": [
      "CPU times: user 8 µs, sys: 0 ns, total: 8 µs\n",
      "Wall time: 37.9 µs\n"
     ]
    }
   ],
   "source": [
    "%time\n",
    "ones_np.mean()"
   ]
  },
  {
   "cell_type": "code",
   "execution_count": 89,
   "id": "56e60753-8917-4c77-9015-d6ba90b07868",
   "metadata": {},
   "outputs": [
    {
     "name": "stdout",
     "output_type": "stream",
     "text": [
      "Memory size of numpy array in MB: 3200.00 MB\n"
     ]
    }
   ],
   "source": [
    "print(f\"Memory size of numpy array in MB: {var_size(ones_np):.2f} MB\")\n"
   ]
  },
  {
   "cell_type": "markdown",
   "id": "984ea6ba-f37c-47ab-86ca-b5396ba6c071",
   "metadata": {},
   "source": [
    "# Summary:"
   ]
  }
 ],
 "metadata": {
  "kernelspec": {
   "display_name": "NPL 2022b",
   "language": "python",
   "name": "npl-2022b"
  },
  "language_info": {
   "codemirror_mode": {
    "name": "ipython",
    "version": 3
   },
   "file_extension": ".py",
   "mimetype": "text/x-python",
   "name": "python",
   "nbconvert_exporter": "python",
   "pygments_lexer": "ipython3",
   "version": "3.8.13"
  },
  "widgets": {
   "application/vnd.jupyter.widget-state+json": {
    "state": {},
    "version_major": 2,
    "version_minor": 0
   }
  }
 },
 "nbformat": 4,
 "nbformat_minor": 5
}
