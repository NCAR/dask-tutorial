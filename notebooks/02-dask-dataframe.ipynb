{
 "cells": [
  {
   "cell_type": "markdown",
   "id": "990cfa4c-2117-4435-9806-ff9048890398",
   "metadata": {},
   "source": [
    "<img src=\"https://raw.githubusercontent.com/NCAR/dask-tutorial/main/images/NCAR-contemp-logo-blue.png\"\n",
    "     width=\"750px\"\n",
    "     alt=\"NCAR logo\"\n",
    "     style=\"vertical-align:middle;margin:30px 0px\"/>\n",
    "\n",
    "# Dask DataFrame - Parallelized Pandas\n",
    "\n",
    "**ESDS Dask Tutorial | 06 February, 2023**  \n",
    "\n",
    "Negin Sobhani, Brian Vanderwende, Deepak Cherian, Ben Kirk  \n",
    "Computational & Information Systems Lab (CISL)  \n",
    "[negins@ucar.edu](negins@ucar.edu), [vanderwb@ucar.edu](mailto:vanderwb@ucar.edu)\n",
    "---------\n",
    "\n",
    "<img src=\"https://docs.dask.org/en/stable/_images/dask-dataframe.svg\"\n",
    "     align=\"right\"\n",
    "     width=\"50%\"\n",
    "     alt=\"Dask DataFrame is composed of pandas DataFrames\"/>\n",
    "\n",
    "A pandas dataframe is an annotated tabular representation of a 2D dataset, often with heterogeneous data (multiple data types) across at least one dimension. Dask Dataframes extend pandas dataframes to perform work in parallel and distributed workflows.\n",
    "\n",
    "A general rule of thumb for pandas is:\n",
    "\n",
    "> \"Have 5 to 10 times as much RAM as the size of your dataset\"\n",
    ">\n",
    "> ~ Wes McKinney (2017) in [10 things I hate about pandas](https://wesmckinney.com/blog/apache-arrow-pandas-internals/)\n",
    "\n",
    "Here \"size of dataset\" means dataset size on _the disk_.\n",
    "\n",
    "Much like Dask Arrays, Dask Dataframes become useful when the datasets exceed the above rule."
   ]
  },
  {
   "cell_type": "markdown",
   "id": "36f1fc96-8189-48b4-a61c-c8f2d2fc1a58",
   "metadata": {},
   "source": [
    "### In this tutorial, you learn:\n",
    "\n",
    "* ????\n",
    "\n",
    "**Related Documentation**\n",
    "\n",
    "* [DataFrame documentation](https://docs.dask.org/en/latest/dataframe.html)\n",
    "* [DataFrame screencast](https://youtu.be/AT2XtFehFSQ)\n",
    "* [DataFrame API](https://docs.dask.org/en/latest/dataframe-api.html)\n",
    "* [DataFrame examples](https://examples.dask.org/dataframe.html)\n",
    "* [pandas documentation](https://pandas.pydata.org/pandas-docs/stable/)"
   ]
  },
  {
   "cell_type": "markdown",
   "id": "214569a5-8969-4e1f-8b24-d8d3183219a9",
   "metadata": {},
   "source": [
    "## Set up your local cluster\n",
    "Create a local Dask cluster and connect it to the client. Don't worry about this bit of code for now, you will learn more in the Distributed notebook."
   ]
  },
  {
   "cell_type": "code",
   "execution_count": 3,
   "id": "a9bed7e9-33f2-49bc-a598-0c73ef5b0b9d",
   "metadata": {},
   "outputs": [
    {
     "name": "stderr",
     "output_type": "stream",
     "text": [
      "/ncar/usr/jupyterhub.hpc.ucar.edu/jupyterhub-20220511/lib/python3.9/site-packages/distributed/node.py:177: UserWarning: Port 8787 is already in use.\n",
      "Perhaps you already have a cluster running?\n",
      "Hosting the HTTP server on port 45589 instead\n",
      "  warnings.warn(\n",
      "2023-01-23 13:49:32,539 - distributed.diskutils - INFO - Found stale lock file and directory '/glade/work/negins/dask/dask-worker-space/worker-inqfgbfo', purging\n",
      "2023-01-23 13:49:32,547 - distributed.diskutils - INFO - Found stale lock file and directory '/glade/work/negins/dask/dask-worker-space/worker-sda77y84', purging\n",
      "2023-01-23 13:49:32,553 - distributed.diskutils - INFO - Found stale lock file and directory '/glade/work/negins/dask/dask-worker-space/worker-ra4epdtx', purging\n",
      "2023-01-23 13:49:32,557 - distributed.diskutils - INFO - Found stale lock file and directory '/glade/work/negins/dask/dask-worker-space/worker-hwk142tp', purging\n"
     ]
    },
    {
     "data": {
      "text/html": [
       "<div>\n",
       "    <div style=\"width: 24px; height: 24px; background-color: #e1e1e1; border: 3px solid #9D9D9D; border-radius: 5px; position: absolute;\"> </div>\n",
       "    <div style=\"margin-left: 48px;\">\n",
       "        <h3 style=\"margin-bottom: 0px;\">Client</h3>\n",
       "        <p style=\"color: #9D9D9D; margin-bottom: 0px;\">Client-6e7bac8f-9b5f-11ed-ba2e-3cecef1b11fa</p>\n",
       "        <table style=\"width: 100%; text-align: left;\">\n",
       "\n",
       "        <tr>\n",
       "        \n",
       "            <td style=\"text-align: left;\"><strong>Connection method:</strong> Cluster object</td>\n",
       "            <td style=\"text-align: left;\"><strong>Cluster type:</strong> distributed.LocalCluster</td>\n",
       "        \n",
       "        </tr>\n",
       "\n",
       "        \n",
       "            <tr>\n",
       "                <td style=\"text-align: left;\">\n",
       "                    <strong>Dashboard: </strong> <a href=\"https://jupyterhub.hpc.ucar.edu/stable/user/negins/proxy/45589/status\" target=\"_blank\">https://jupyterhub.hpc.ucar.edu/stable/user/negins/proxy/45589/status</a>\n",
       "                </td>\n",
       "                <td style=\"text-align: left;\"></td>\n",
       "            </tr>\n",
       "        \n",
       "\n",
       "        </table>\n",
       "\n",
       "        \n",
       "            <details>\n",
       "            <summary style=\"margin-bottom: 20px;\"><h3 style=\"display: inline;\">Cluster Info</h3></summary>\n",
       "            <div class=\"jp-RenderedHTMLCommon jp-RenderedHTML jp-mod-trusted jp-OutputArea-output\">\n",
       "    <div style=\"width: 24px; height: 24px; background-color: #e1e1e1; border: 3px solid #9D9D9D; border-radius: 5px; position: absolute;\">\n",
       "    </div>\n",
       "    <div style=\"margin-left: 48px;\">\n",
       "        <h3 style=\"margin-bottom: 0px; margin-top: 0px;\">LocalCluster</h3>\n",
       "        <p style=\"color: #9D9D9D; margin-bottom: 0px;\">d0d4c016</p>\n",
       "        <table style=\"width: 100%; text-align: left;\">\n",
       "            <tr>\n",
       "                <td style=\"text-align: left;\">\n",
       "                    <strong>Dashboard:</strong> <a href=\"https://jupyterhub.hpc.ucar.edu/stable/user/negins/proxy/45589/status\" target=\"_blank\">https://jupyterhub.hpc.ucar.edu/stable/user/negins/proxy/45589/status</a>\n",
       "                </td>\n",
       "                <td style=\"text-align: left;\">\n",
       "                    <strong>Workers:</strong> 4\n",
       "                </td>\n",
       "            </tr>\n",
       "            <tr>\n",
       "                <td style=\"text-align: left;\">\n",
       "                    <strong>Total threads:</strong> 4\n",
       "                </td>\n",
       "                <td style=\"text-align: left;\">\n",
       "                    <strong>Total memory:</strong> 4.00 GiB\n",
       "                </td>\n",
       "            </tr>\n",
       "            \n",
       "            <tr>\n",
       "    <td style=\"text-align: left;\"><strong>Status:</strong> running</td>\n",
       "    <td style=\"text-align: left;\"><strong>Using processes:</strong> True</td>\n",
       "</tr>\n",
       "\n",
       "            \n",
       "        </table>\n",
       "\n",
       "        <details>\n",
       "            <summary style=\"margin-bottom: 20px;\">\n",
       "                <h3 style=\"display: inline;\">Scheduler Info</h3>\n",
       "            </summary>\n",
       "\n",
       "            <div style=\"\">\n",
       "    <div>\n",
       "        <div style=\"width: 24px; height: 24px; background-color: #FFF7E5; border: 3px solid #FF6132; border-radius: 5px; position: absolute;\"> </div>\n",
       "        <div style=\"margin-left: 48px;\">\n",
       "            <h3 style=\"margin-bottom: 0px;\">Scheduler</h3>\n",
       "            <p style=\"color: #9D9D9D; margin-bottom: 0px;\">Scheduler-cc88a6de-8734-4ee8-ad6c-9b6655f410b3</p>\n",
       "            <table style=\"width: 100%; text-align: left;\">\n",
       "                <tr>\n",
       "                    <td style=\"text-align: left;\">\n",
       "                        <strong>Comm:</strong> tcp://127.0.0.1:42835\n",
       "                    </td>\n",
       "                    <td style=\"text-align: left;\">\n",
       "                        <strong>Workers:</strong> 4\n",
       "                    </td>\n",
       "                </tr>\n",
       "                <tr>\n",
       "                    <td style=\"text-align: left;\">\n",
       "                        <strong>Dashboard:</strong> <a href=\"https://jupyterhub.hpc.ucar.edu/stable/user/negins/proxy/45589/status\" target=\"_blank\">https://jupyterhub.hpc.ucar.edu/stable/user/negins/proxy/45589/status</a>\n",
       "                    </td>\n",
       "                    <td style=\"text-align: left;\">\n",
       "                        <strong>Total threads:</strong> 4\n",
       "                    </td>\n",
       "                </tr>\n",
       "                <tr>\n",
       "                    <td style=\"text-align: left;\">\n",
       "                        <strong>Started:</strong> Just now\n",
       "                    </td>\n",
       "                    <td style=\"text-align: left;\">\n",
       "                        <strong>Total memory:</strong> 4.00 GiB\n",
       "                    </td>\n",
       "                </tr>\n",
       "            </table>\n",
       "        </div>\n",
       "    </div>\n",
       "\n",
       "    <details style=\"margin-left: 48px;\">\n",
       "        <summary style=\"margin-bottom: 20px;\">\n",
       "            <h3 style=\"display: inline;\">Workers</h3>\n",
       "        </summary>\n",
       "\n",
       "        \n",
       "        <div style=\"margin-bottom: 20px;\">\n",
       "            <div style=\"width: 24px; height: 24px; background-color: #DBF5FF; border: 3px solid #4CC9FF; border-radius: 5px; position: absolute;\"> </div>\n",
       "            <div style=\"margin-left: 48px;\">\n",
       "            <details>\n",
       "                <summary>\n",
       "                    <h4 style=\"margin-bottom: 0px; display: inline;\">Worker: 0</h4>\n",
       "                </summary>\n",
       "                <table style=\"width: 100%; text-align: left;\">\n",
       "                    <tr>\n",
       "                        <td style=\"text-align: left;\">\n",
       "                            <strong>Comm: </strong> tcp://127.0.0.1:46836\n",
       "                        </td>\n",
       "                        <td style=\"text-align: left;\">\n",
       "                            <strong>Total threads: </strong> 1\n",
       "                        </td>\n",
       "                    </tr>\n",
       "                    <tr>\n",
       "                        <td style=\"text-align: left;\">\n",
       "                            <strong>Dashboard: </strong> <a href=\"https://jupyterhub.hpc.ucar.edu/stable/user/negins/proxy/44143/status\" target=\"_blank\">https://jupyterhub.hpc.ucar.edu/stable/user/negins/proxy/44143/status</a>\n",
       "                        </td>\n",
       "                        <td style=\"text-align: left;\">\n",
       "                            <strong>Memory: </strong> 1.00 GiB\n",
       "                        </td>\n",
       "                    </tr>\n",
       "                    <tr>\n",
       "                        <td style=\"text-align: left;\">\n",
       "                            <strong>Nanny: </strong> tcp://127.0.0.1:40015\n",
       "                        </td>\n",
       "                        <td style=\"text-align: left;\"></td>\n",
       "                    </tr>\n",
       "                    <tr>\n",
       "                        <td colspan=\"2\" style=\"text-align: left;\">\n",
       "                            <strong>Local directory: </strong> /glade/work/negins/dask/dask-worker-space/worker-zsskbfws\n",
       "                        </td>\n",
       "                    </tr>\n",
       "\n",
       "                    \n",
       "\n",
       "                    \n",
       "\n",
       "                </table>\n",
       "            </details>\n",
       "            </div>\n",
       "        </div>\n",
       "        \n",
       "        <div style=\"margin-bottom: 20px;\">\n",
       "            <div style=\"width: 24px; height: 24px; background-color: #DBF5FF; border: 3px solid #4CC9FF; border-radius: 5px; position: absolute;\"> </div>\n",
       "            <div style=\"margin-left: 48px;\">\n",
       "            <details>\n",
       "                <summary>\n",
       "                    <h4 style=\"margin-bottom: 0px; display: inline;\">Worker: 1</h4>\n",
       "                </summary>\n",
       "                <table style=\"width: 100%; text-align: left;\">\n",
       "                    <tr>\n",
       "                        <td style=\"text-align: left;\">\n",
       "                            <strong>Comm: </strong> tcp://127.0.0.1:33264\n",
       "                        </td>\n",
       "                        <td style=\"text-align: left;\">\n",
       "                            <strong>Total threads: </strong> 1\n",
       "                        </td>\n",
       "                    </tr>\n",
       "                    <tr>\n",
       "                        <td style=\"text-align: left;\">\n",
       "                            <strong>Dashboard: </strong> <a href=\"https://jupyterhub.hpc.ucar.edu/stable/user/negins/proxy/45151/status\" target=\"_blank\">https://jupyterhub.hpc.ucar.edu/stable/user/negins/proxy/45151/status</a>\n",
       "                        </td>\n",
       "                        <td style=\"text-align: left;\">\n",
       "                            <strong>Memory: </strong> 1.00 GiB\n",
       "                        </td>\n",
       "                    </tr>\n",
       "                    <tr>\n",
       "                        <td style=\"text-align: left;\">\n",
       "                            <strong>Nanny: </strong> tcp://127.0.0.1:33869\n",
       "                        </td>\n",
       "                        <td style=\"text-align: left;\"></td>\n",
       "                    </tr>\n",
       "                    <tr>\n",
       "                        <td colspan=\"2\" style=\"text-align: left;\">\n",
       "                            <strong>Local directory: </strong> /glade/work/negins/dask/dask-worker-space/worker-f3rr4g45\n",
       "                        </td>\n",
       "                    </tr>\n",
       "\n",
       "                    \n",
       "\n",
       "                    \n",
       "\n",
       "                </table>\n",
       "            </details>\n",
       "            </div>\n",
       "        </div>\n",
       "        \n",
       "        <div style=\"margin-bottom: 20px;\">\n",
       "            <div style=\"width: 24px; height: 24px; background-color: #DBF5FF; border: 3px solid #4CC9FF; border-radius: 5px; position: absolute;\"> </div>\n",
       "            <div style=\"margin-left: 48px;\">\n",
       "            <details>\n",
       "                <summary>\n",
       "                    <h4 style=\"margin-bottom: 0px; display: inline;\">Worker: 2</h4>\n",
       "                </summary>\n",
       "                <table style=\"width: 100%; text-align: left;\">\n",
       "                    <tr>\n",
       "                        <td style=\"text-align: left;\">\n",
       "                            <strong>Comm: </strong> tcp://127.0.0.1:44463\n",
       "                        </td>\n",
       "                        <td style=\"text-align: left;\">\n",
       "                            <strong>Total threads: </strong> 1\n",
       "                        </td>\n",
       "                    </tr>\n",
       "                    <tr>\n",
       "                        <td style=\"text-align: left;\">\n",
       "                            <strong>Dashboard: </strong> <a href=\"https://jupyterhub.hpc.ucar.edu/stable/user/negins/proxy/34458/status\" target=\"_blank\">https://jupyterhub.hpc.ucar.edu/stable/user/negins/proxy/34458/status</a>\n",
       "                        </td>\n",
       "                        <td style=\"text-align: left;\">\n",
       "                            <strong>Memory: </strong> 1.00 GiB\n",
       "                        </td>\n",
       "                    </tr>\n",
       "                    <tr>\n",
       "                        <td style=\"text-align: left;\">\n",
       "                            <strong>Nanny: </strong> tcp://127.0.0.1:45991\n",
       "                        </td>\n",
       "                        <td style=\"text-align: left;\"></td>\n",
       "                    </tr>\n",
       "                    <tr>\n",
       "                        <td colspan=\"2\" style=\"text-align: left;\">\n",
       "                            <strong>Local directory: </strong> /glade/work/negins/dask/dask-worker-space/worker-p8588wuo\n",
       "                        </td>\n",
       "                    </tr>\n",
       "\n",
       "                    \n",
       "\n",
       "                    \n",
       "\n",
       "                </table>\n",
       "            </details>\n",
       "            </div>\n",
       "        </div>\n",
       "        \n",
       "        <div style=\"margin-bottom: 20px;\">\n",
       "            <div style=\"width: 24px; height: 24px; background-color: #DBF5FF; border: 3px solid #4CC9FF; border-radius: 5px; position: absolute;\"> </div>\n",
       "            <div style=\"margin-left: 48px;\">\n",
       "            <details>\n",
       "                <summary>\n",
       "                    <h4 style=\"margin-bottom: 0px; display: inline;\">Worker: 3</h4>\n",
       "                </summary>\n",
       "                <table style=\"width: 100%; text-align: left;\">\n",
       "                    <tr>\n",
       "                        <td style=\"text-align: left;\">\n",
       "                            <strong>Comm: </strong> tcp://127.0.0.1:40401\n",
       "                        </td>\n",
       "                        <td style=\"text-align: left;\">\n",
       "                            <strong>Total threads: </strong> 1\n",
       "                        </td>\n",
       "                    </tr>\n",
       "                    <tr>\n",
       "                        <td style=\"text-align: left;\">\n",
       "                            <strong>Dashboard: </strong> <a href=\"https://jupyterhub.hpc.ucar.edu/stable/user/negins/proxy/42122/status\" target=\"_blank\">https://jupyterhub.hpc.ucar.edu/stable/user/negins/proxy/42122/status</a>\n",
       "                        </td>\n",
       "                        <td style=\"text-align: left;\">\n",
       "                            <strong>Memory: </strong> 1.00 GiB\n",
       "                        </td>\n",
       "                    </tr>\n",
       "                    <tr>\n",
       "                        <td style=\"text-align: left;\">\n",
       "                            <strong>Nanny: </strong> tcp://127.0.0.1:37517\n",
       "                        </td>\n",
       "                        <td style=\"text-align: left;\"></td>\n",
       "                    </tr>\n",
       "                    <tr>\n",
       "                        <td colspan=\"2\" style=\"text-align: left;\">\n",
       "                            <strong>Local directory: </strong> /glade/work/negins/dask/dask-worker-space/worker-13hhgza6\n",
       "                        </td>\n",
       "                    </tr>\n",
       "\n",
       "                    \n",
       "\n",
       "                    \n",
       "\n",
       "                </table>\n",
       "            </details>\n",
       "            </div>\n",
       "        </div>\n",
       "        \n",
       "\n",
       "    </details>\n",
       "</div>\n",
       "\n",
       "        </details>\n",
       "    </div>\n",
       "</div>\n",
       "            </details>\n",
       "        \n",
       "\n",
       "    </div>\n",
       "</div>"
      ],
      "text/plain": [
       "<Client: 'tcp://127.0.0.1:42835' processes=4 threads=4, memory=4.00 GiB>"
      ]
     },
     "execution_count": 3,
     "metadata": {},
     "output_type": "execute_result"
    }
   ],
   "source": [
    "from dask.distributed import Client\n",
    "\n",
    "client = Client(n_workers=4)\n",
    "client"
   ]
  },
  {
   "cell_type": "markdown",
   "id": "b80e46cc-95a3-4252-8c1c-673e04362d32",
   "metadata": {},
   "source": [
    "## Load historical job data from 2022 June"
   ]
  },
  {
   "cell_type": "code",
   "execution_count": 7,
   "id": "95a8f88e-e5f6-4620-8320-301269c11fca",
   "metadata": {},
   "outputs": [],
   "source": [
    "import pandas as pd\n",
    "june_jobs = pd.read_csv('data/jobs-202206.dat')\n",
    "jj = june_jobs"
   ]
  },
  {
   "cell_type": "code",
   "execution_count": 8,
   "id": "0b9d9230-7fe2-4c44-b53c-86cc29e38c2d",
   "metadata": {},
   "outputs": [
    {
     "data": {
      "text/html": [
       "<div>\n",
       "<style scoped>\n",
       "    .dataframe tbody tr th:only-of-type {\n",
       "        vertical-align: middle;\n",
       "    }\n",
       "\n",
       "    .dataframe tbody tr th {\n",
       "        vertical-align: top;\n",
       "    }\n",
       "\n",
       "    .dataframe thead th {\n",
       "        text-align: right;\n",
       "    }\n",
       "</style>\n",
       "<table border=\"1\" class=\"dataframe\">\n",
       "  <thead>\n",
       "    <tr style=\"text-align: right;\">\n",
       "      <th></th>\n",
       "      <th>Job ID</th>\n",
       "      <th>Queue</th>\n",
       "      <th>Nodes</th>\n",
       "      <th>NCPUs</th>\n",
       "      <th>NGPUs</th>\n",
       "      <th>Req Mem (GB)</th>\n",
       "      <th>Used Mem(GB)</th>\n",
       "      <th>Job Submit</th>\n",
       "      <th>Job Start</th>\n",
       "      <th>Job End</th>\n",
       "      <th>Walltime (h)</th>\n",
       "      <th>Exit Status</th>\n",
       "      <th>Job Name</th>\n",
       "    </tr>\n",
       "  </thead>\n",
       "  <tbody>\n",
       "    <tr>\n",
       "      <th>0</th>\n",
       "      <td>3249133.casper-pbs</td>\n",
       "      <td>htc</td>\n",
       "      <td>1</td>\n",
       "      <td>1</td>\n",
       "      <td>0</td>\n",
       "      <td>10.0</td>\n",
       "      <td>0.0</td>\n",
       "      <td>2022-06-30T23:55:45</td>\n",
       "      <td>2022-06-30T23:57:35</td>\n",
       "      <td>2022-06-30T23:57:46</td>\n",
       "      <td>0.17</td>\n",
       "      <td>0</td>\n",
       "      <td>q_merge_and_scp</td>\n",
       "    </tr>\n",
       "    <tr>\n",
       "      <th>1</th>\n",
       "      <td>3249131.casper-pbs</td>\n",
       "      <td>gpgpu</td>\n",
       "      <td>1</td>\n",
       "      <td>1</td>\n",
       "      <td>1</td>\n",
       "      <td>10.0</td>\n",
       "      <td>0.2</td>\n",
       "      <td>2022-06-30T23:55:45</td>\n",
       "      <td>2022-06-30T23:55:47</td>\n",
       "      <td>2022-06-30T23:57:36</td>\n",
       "      <td>1.00</td>\n",
       "      <td>0</td>\n",
       "      <td>q_pipesubmit</td>\n",
       "    </tr>\n",
       "    <tr>\n",
       "      <th>2</th>\n",
       "      <td>3248931.casper-pbs</td>\n",
       "      <td>htc</td>\n",
       "      <td>1</td>\n",
       "      <td>2</td>\n",
       "      <td>0</td>\n",
       "      <td>1.0</td>\n",
       "      <td>0.0</td>\n",
       "      <td>2022-06-30T22:50:45</td>\n",
       "      <td>2022-06-30T23:57:07</td>\n",
       "      <td>2022-06-30T23:57:11</td>\n",
       "      <td>1.00</td>\n",
       "      <td>0</td>\n",
       "      <td>RRLXfer</td>\n",
       "    </tr>\n",
       "    <tr>\n",
       "      <th>3</th>\n",
       "      <td>3248928.casper-pbs</td>\n",
       "      <td>htc</td>\n",
       "      <td>1</td>\n",
       "      <td>1</td>\n",
       "      <td>0</td>\n",
       "      <td>1.0</td>\n",
       "      <td>0.0</td>\n",
       "      <td>2022-06-30T22:50:40</td>\n",
       "      <td>2022-06-30T22:50:41</td>\n",
       "      <td>2022-06-30T23:57:08</td>\n",
       "      <td>9.00</td>\n",
       "      <td>0</td>\n",
       "      <td>RR_FINN_Listen</td>\n",
       "    </tr>\n",
       "    <tr>\n",
       "      <th>4</th>\n",
       "      <td>3249132.casper-pbs</td>\n",
       "      <td>gpgpu</td>\n",
       "      <td>1</td>\n",
       "      <td>1</td>\n",
       "      <td>1</td>\n",
       "      <td>10.0</td>\n",
       "      <td>0.2</td>\n",
       "      <td>2022-06-30T23:55:45</td>\n",
       "      <td>2022-06-30T23:55:47</td>\n",
       "      <td>2022-06-30T23:57:00</td>\n",
       "      <td>1.00</td>\n",
       "      <td>0</td>\n",
       "      <td>q_cat_pipesubmit</td>\n",
       "    </tr>\n",
       "  </tbody>\n",
       "</table>\n",
       "</div>"
      ],
      "text/plain": [
       "               Job ID  Queue  Nodes  NCPUs  NGPUs  Req Mem (GB) Used Mem(GB)  \\\n",
       "0  3249133.casper-pbs    htc      1      1      0          10.0          0.0   \n",
       "1  3249131.casper-pbs  gpgpu      1      1      1          10.0          0.2   \n",
       "2  3248931.casper-pbs    htc      1      2      0           1.0          0.0   \n",
       "3  3248928.casper-pbs    htc      1      1      0           1.0          0.0   \n",
       "4  3249132.casper-pbs  gpgpu      1      1      1          10.0          0.2   \n",
       "\n",
       "            Job Submit            Job Start              Job End  \\\n",
       "0  2022-06-30T23:55:45  2022-06-30T23:57:35  2022-06-30T23:57:46   \n",
       "1  2022-06-30T23:55:45  2022-06-30T23:55:47  2022-06-30T23:57:36   \n",
       "2  2022-06-30T22:50:45  2022-06-30T23:57:07  2022-06-30T23:57:11   \n",
       "3  2022-06-30T22:50:40  2022-06-30T22:50:41  2022-06-30T23:57:08   \n",
       "4  2022-06-30T23:55:45  2022-06-30T23:55:47  2022-06-30T23:57:00   \n",
       "\n",
       "   Walltime (h)  Exit Status          Job Name  \n",
       "0          0.17            0   q_merge_and_scp  \n",
       "1          1.00            0      q_pipesubmit  \n",
       "2          1.00            0           RRLXfer  \n",
       "3          9.00            0    RR_FINN_Listen  \n",
       "4          1.00            0  q_cat_pipesubmit  "
      ]
     },
     "execution_count": 8,
     "metadata": {},
     "output_type": "execute_result"
    }
   ],
   "source": [
    "# Display the top five rows of the dataframe\n",
    "jj.head()"
   ]
  },
  {
   "cell_type": "markdown",
   "id": "2d5083bd-41ee-4eb0-8a44-35aaf87fbca9",
   "metadata": {},
   "source": [
    "#### How many jobs did users run in June?"
   ]
  },
  {
   "cell_type": "code",
   "execution_count": 9,
   "id": "6d162efd-695a-4352-b9b8-ccbb14d9c3a7",
   "metadata": {
    "tags": []
   },
   "outputs": [
    {
     "data": {
      "text/plain": [
       "866000"
      ]
     },
     "execution_count": 9,
     "metadata": {},
     "output_type": "execute_result"
    }
   ],
   "source": [
    "len(jj)"
   ]
  },
  {
   "cell_type": "markdown",
   "id": "be56570c-2dba-4c35-8f64-ef2529fbbc6d",
   "metadata": {},
   "source": [
    "#### How many jobs ran in each queue?"
   ]
  },
  {
   "cell_type": "code",
   "execution_count": 10,
   "id": "1521328c-fc8c-4a4d-ab7e-57c16a31857a",
   "metadata": {
    "tags": []
   },
   "outputs": [
    {
     "data": {
      "text/plain": [
       "Queue\n",
       "R3073777          4\n",
       "S870294         267\n",
       "a100              6\n",
       "asdgpu          104\n",
       "gpgpu          2307\n",
       "htc          838269\n",
       "jhublogin       890\n",
       "largemem        234\n",
       "rda           22429\n",
       "system            1\n",
       "tdd             780\n",
       "vis             709\n",
       "dtype: int64"
      ]
     },
     "execution_count": 10,
     "metadata": {},
     "output_type": "execute_result"
    }
   ],
   "source": [
    "# Create a \"groupby object\" based on the selected columns\n",
    "# which can return info like the count of each type of the column value\n",
    "jj.groupby('Queue').size()"
   ]
  },
  {
   "cell_type": "code",
   "execution_count": 11,
   "id": "4a418aaa-f1b4-48b3-8a90-d6261ce68db2",
   "metadata": {
    "tags": []
   },
   "outputs": [
    {
     "data": {
      "text/plain": [
       "<AxesSubplot:xlabel='Queue'>"
      ]
     },
     "execution_count": 11,
     "metadata": {},
     "output_type": "execute_result"
    },
    {
     "data": {
      "image/png": "[encoded data removed]",
      "text/plain": [
       "<Figure size 432x288 with 1 Axes>"
      ]
     },
     "metadata": {
      "needs_background": "light"
     },
     "output_type": "display_data"
    }
   ],
   "source": [
    "# Here we easily plot the prior data using matplotlib from pandas\n",
    "jj.groupby('Queue').size().plot.bar(logy = True)"
   ]
  },
  {
   "cell_type": "markdown",
   "id": "687acc25-ac21-4085-819a-8f1b6f72ac3b",
   "metadata": {},
   "source": [
    "#### Where do Dask jobs run?"
   ]
  },
  {
   "cell_type": "code",
   "execution_count": 12,
   "id": "ad050064-ee5e-482f-9020-185f3c8734e7",
   "metadata": {
    "tags": []
   },
   "outputs": [
    {
     "data": {
      "text/plain": [
       "0     q_merge_and_scp\n",
       "1        q_pipesubmit\n",
       "2             RRLXfer\n",
       "3      RR_FINN_Listen\n",
       "4    q_cat_pipesubmit\n",
       "Name: Job Name, dtype: object"
      ]
     },
     "execution_count": 12,
     "metadata": {},
     "output_type": "execute_result"
    }
   ],
   "source": [
    "# Select only one column of data\n",
    "jj['Job Name'].head()"
   ]
  },
  {
   "cell_type": "code",
   "execution_count": 13,
   "id": "f7b892c8-ea60-4237-ab91-95a8cdeabea6",
   "metadata": {
    "tags": []
   },
   "outputs": [
    {
     "data": {
      "text/plain": [
       "job                        429003\n",
       "mpas_real-time_graphics    185963\n",
       "dask-worker                 20125\n",
       "dsrqst                      19650\n",
       "gfs_real-time_graphics      17280\n",
       "Name: Job Name, dtype: int64"
      ]
     },
     "execution_count": 13,
     "metadata": {},
     "output_type": "execute_result"
    }
   ],
   "source": [
    "# Get the number of each value in Job Name (similar to size above)\n",
    "jj['Job Name'].value_counts().head()"
   ]
  },
  {
   "cell_type": "code",
   "execution_count": 14,
   "id": "d3096a69-3a14-481a-b2d6-78dc7689bd65",
   "metadata": {
    "tags": []
   },
   "outputs": [
    {
     "data": {
      "text/plain": [
       "Queue\n",
       "htc         20081\n",
       "largemem        1\n",
       "tdd            43\n",
       "dtype: int64"
      ]
     },
     "execution_count": 14,
     "metadata": {},
     "output_type": "execute_result"
    }
   ],
   "source": [
    "# Create a new dataframe of job entries with the Job Name \"dask-worker\"\n",
    "dj = jj[jj['Job Name'] == 'dask-worker']\n",
    "dj.groupby('Queue').size()"
   ]
  },
  {
   "cell_type": "markdown",
   "id": "edb6613c-e697-4720-97d1-da46990e7541",
   "metadata": {},
   "source": [
    "*Is this what we expect? Dask tasks tend to be **bursty, high-throughput** computing.*"
   ]
  },
  {
   "cell_type": "markdown",
   "id": "56e620a9-2c73-4aa6-a736-537b43d715be",
   "metadata": {},
   "source": [
    "#### What are typical worker CPU and memory needs?"
   ]
  },
  {
   "cell_type": "code",
   "execution_count": 15,
   "id": "c16f7f99-42fc-4827-93c1-145bb836d938",
   "metadata": {},
   "outputs": [
    {
     "data": {
      "text/plain": [
       "NCPUs  Req Mem (GB)\n",
       "1      0.0              696\n",
       "       10.0            2791\n",
       "       20.0            5865\n",
       "       30.0             220\n",
       "       40.0              60\n",
       "       50.0             886\n",
       "       60.0              50\n",
       "       70.0              20\n",
       "       100.0           5345\n",
       "       110.0             20\n",
       "       200.0             61\n",
       "       220.0            185\n",
       "       250.0           1310\n",
       "       320.0            164\n",
       "       330.0             16\n",
       "       350.0             16\n",
       "       420.0              1\n",
       "2      20.0              12\n",
       "       250.0            339\n",
       "4      10.0              12\n",
       "       40.0             735\n",
       "5      10.0              25\n",
       "       100.0             10\n",
       "6      100.0              1\n",
       "9      250.0             72\n",
       "10     100.0              4\n",
       "12     200.0              1\n",
       "       300.0            700\n",
       "18     200.0             34\n",
       "       300.0              7\n",
       "24     200.0              4\n",
       "36     100.0            110\n",
       "       300.0            353\n",
       "dtype: int64"
      ]
     },
     "execution_count": 15,
     "metadata": {},
     "output_type": "execute_result"
    }
   ],
   "source": [
    "# groupby operations can be on multiple columns and ones generated by manipulating a column\n",
    "dj.groupby(['NCPUs', dj['Req Mem (GB)'] // 10 * 10]).size()"
   ]
  },
  {
   "cell_type": "markdown",
   "id": "1b36a4e5-9baf-4b29-bbb5-9568df1640bf",
   "metadata": {},
   "source": [
    "#### How much of the request memory is wasted?"
   ]
  },
  {
   "cell_type": "code",
   "execution_count": 16,
   "id": "bca65758-6bb0-480d-a4ca-1aee1608dc6a",
   "metadata": {
    "tags": []
   },
   "outputs": [],
   "source": [
    "# Creating a new column\n",
    "#dj['Unused Mem'] = dj['Req Mem (GB)'] - dj['Used Mem(GB)']"
   ]
  },
  {
   "cell_type": "code",
   "execution_count": 17,
   "id": "713a3469-93f1-4bab-9d6a-9183f42cfe33",
   "metadata": {
    "tags": []
   },
   "outputs": [
    {
     "data": {
      "text/plain": [
       "Job ID           object\n",
       "Queue            object\n",
       "Nodes             int64\n",
       "NCPUs             int64\n",
       "NGPUs             int64\n",
       "Req Mem (GB)    float64\n",
       "Used Mem(GB)     object\n",
       "Job Submit       object\n",
       "Job Start        object\n",
       "Job End          object\n",
       "Walltime (h)    float64\n",
       "Exit Status       int64\n",
       "Job Name         object\n",
       "dtype: object"
      ]
     },
     "execution_count": 17,
     "metadata": {},
     "output_type": "execute_result"
    }
   ],
   "source": [
    "# Check all datatypes of the dataframe (here we see usedmem did not get interpreted properly)\n",
    "dj.dtypes"
   ]
  },
  {
   "cell_type": "code",
   "execution_count": 18,
   "id": "de1d880e-ddbe-4eba-bb09-6a82009819e0",
   "metadata": {
    "tags": []
   },
   "outputs": [
    {
     "name": "stderr",
     "output_type": "stream",
     "text": [
      "/glade/scratch/negins/ipykernel_162350/1533624428.py:2: SettingWithCopyWarning: \n",
      "A value is trying to be set on a copy of a slice from a DataFrame.\n",
      "Try using .loc[row_indexer,col_indexer] = value instead\n",
      "\n",
      "See the caveats in the documentation: https://pandas.pydata.org/pandas-docs/stable/user_guide/indexing.html#returning-a-view-versus-a-copy\n",
      "  dj['Used Mem(GB)'] = dj['Used Mem(GB)'].astype(float)\n"
     ]
    }
   ],
   "source": [
    "# Let's cast used mem as the dtype that we want (float)\n",
    "dj['Used Mem(GB)'] = dj['Used Mem(GB)'].astype(float)"
   ]
  },
  {
   "cell_type": "code",
   "execution_count": 19,
   "id": "9ffc6bc9-571b-4cd0-bf00-b919fab17a2b",
   "metadata": {
    "tags": []
   },
   "outputs": [
    {
     "data": {
      "text/plain": [
       "Job ID           object\n",
       "Queue            object\n",
       "Nodes             int64\n",
       "NCPUs             int64\n",
       "NGPUs             int64\n",
       "Req Mem (GB)    float64\n",
       "Used Mem(GB)    float64\n",
       "Job Submit       object\n",
       "Job Start        object\n",
       "Job End          object\n",
       "Walltime (h)    float64\n",
       "Exit Status       int64\n",
       "Job Name         object\n",
       "dtype: object"
      ]
     },
     "execution_count": 19,
     "metadata": {},
     "output_type": "execute_result"
    }
   ],
   "source": [
    "# To avoid the above problem, we need to make sure we copy data in our dask job dataframe, and not reference it\n",
    "dj = jj[jj['Job Name'] == 'dask-worker'].copy()\n",
    "dj['Used Mem(GB)'] = dj['Used Mem(GB)'].astype(float)\n",
    "dj.dtypes"
   ]
  },
  {
   "cell_type": "code",
   "execution_count": 20,
   "id": "bdf969ba-5b08-480c-8878-b72d29d7c787",
   "metadata": {
    "tags": []
   },
   "outputs": [],
   "source": [
    "dj['Unused Mem (%)'] = (dj['Req Mem (GB)'] - dj['Used Mem(GB)']) / dj['Req Mem (GB)'] * 100.0"
   ]
  },
  {
   "cell_type": "code",
   "execution_count": 21,
   "id": "8dc9e231-db6c-4953-bb00-d1993469ccf3",
   "metadata": {
    "tags": []
   },
   "outputs": [
    {
     "data": {
      "text/plain": [
       "<AxesSubplot:xlabel='% Unused', ylabel='Number of Jobs'>"
      ]
     },
     "execution_count": 21,
     "metadata": {},
     "output_type": "execute_result"
    },
    {
     "data": {
      "image/png": "[encoded data removed]",
      "text/plain": [
       "<Figure size 432x288 with 1 Axes>"
      ]
     },
     "metadata": {
      "needs_background": "light"
     },
     "output_type": "display_data"
    }
   ],
   "source": [
    "dj.groupby(dj['Unused Mem (%)'] // 10 * 10).size().plot.bar(xlabel = '% Unused', ylabel = 'Number of Jobs')"
   ]
  },
  {
   "cell_type": "markdown",
   "id": "d85f3f34-6359-4426-bf04-d45323326433",
   "metadata": {},
   "source": [
    "*Typically on busy systems, wasted resources means less job throughput, meaning...*  \n",
    "\n",
    "**LONGER WAIT TIMES :-(**"
   ]
  },
  {
   "cell_type": "markdown",
   "id": "1298e1a2-e6b9-410a-9fa6-bbfec4c0b7a7",
   "metadata": {},
   "source": [
    "#### How much of the requested walltime do workers actually use?"
   ]
  },
  {
   "cell_type": "code",
   "execution_count": 22,
   "id": "4ce264b9-f011-4eb3-88ac-d60c2ad222c3",
   "metadata": {
    "tags": []
   },
   "outputs": [
    {
     "data": {
      "text/plain": [
       "265    2022-06-30T19:24:15\n",
       "302    2022-06-30T19:05:16\n",
       "414    2022-06-30T15:35:51\n",
       "415    2022-06-30T18:20:35\n",
       "416    2022-06-30T16:24:40\n",
       "Name: Job Start, dtype: object"
      ]
     },
     "execution_count": 22,
     "metadata": {},
     "output_type": "execute_result"
    }
   ],
   "source": [
    "dj['Job Start'].head()"
   ]
  },
  {
   "cell_type": "code",
   "execution_count": 23,
   "id": "2d3551de-c9e5-4594-9fe7-c87ff4857427",
   "metadata": {
    "tags": []
   },
   "outputs": [],
   "source": [
    "# This could also be done with a list comprehension!\n",
    "time_cols = ['Job Submit', 'Job Start', 'Job End']\n",
    "\n",
    "for col in time_cols:\n",
    "    dj[col] = pd.to_datetime(dj[col])"
   ]
  },
  {
   "cell_type": "code",
   "execution_count": 24,
   "id": "d2fda1b5-3d0a-4cc9-8571-e0d0179f9689",
   "metadata": {
    "tags": []
   },
   "outputs": [
    {
     "data": {
      "text/plain": [
       "Job ID                    object\n",
       "Queue                     object\n",
       "Nodes                      int64\n",
       "NCPUs                      int64\n",
       "NGPUs                      int64\n",
       "Req Mem (GB)             float64\n",
       "Used Mem(GB)             float64\n",
       "Job Submit        datetime64[ns]\n",
       "Job Start         datetime64[ns]\n",
       "Job End           datetime64[ns]\n",
       "Walltime (h)             float64\n",
       "Exit Status                int64\n",
       "Job Name                  object\n",
       "Unused Mem (%)           float64\n",
       "dtype: object"
      ]
     },
     "execution_count": 24,
     "metadata": {},
     "output_type": "execute_result"
    }
   ],
   "source": [
    "dj.dtypes"
   ]
  },
  {
   "cell_type": "code",
   "execution_count": 25,
   "id": "f61ffad8-99c2-4ea6-ac92-d1fa61613bbb",
   "metadata": {
    "tags": []
   },
   "outputs": [],
   "source": [
    "dj['elapsed'] = (dj['Job End'] - dj['Job Start']).dt.total_seconds() / 3600"
   ]
  },
  {
   "cell_type": "code",
   "execution_count": 26,
   "id": "10bfab3e-5188-4dc6-a32f-a1fd920ac69d",
   "metadata": {
    "tags": []
   },
   "outputs": [
    {
     "data": {
      "text/plain": [
       "Walltime (h)\n",
       "0.0     0.163884\n",
       "1.0     0.660678\n",
       "2.0     0.737050\n",
       "3.0     1.054678\n",
       "4.0     2.247427\n",
       "5.0     1.502826\n",
       "6.0     3.841324\n",
       "8.0     7.616667\n",
       "10.0    6.398326\n",
       "12.0    0.953402\n",
       "20.0    2.161327\n",
       "22.0    0.413441\n",
       "Name: elapsed, dtype: float64"
      ]
     },
     "execution_count": 26,
     "metadata": {},
     "output_type": "execute_result"
    }
   ],
   "source": [
    "dj.groupby(dj['Walltime (h)'] // 1).mean()['elapsed']"
   ]
  },
  {
   "cell_type": "markdown",
   "id": "39c762ef-8720-4b30-8127-231862fed913",
   "metadata": {},
   "source": [
    "#### How big is the June 2022 dataset?"
   ]
  },
  {
   "cell_type": "code",
   "execution_count": 27,
   "id": "a8b7dae4-2f53-4127-8e82-a30c742f6178",
   "metadata": {
    "tags": []
   },
   "outputs": [
    {
     "name": "stdout",
     "output_type": "stream",
     "text": [
      "fatal: not a git repository (or any parent up to mount point /glade)\n",
      "Stopping at filesystem boundary (GIT_DISCOVERY_ACROSS_FILESYSTEM not set).\n",
      "-rw-r--r-- 1 negins ncar 99M Jan 11 12:30 data/jobs-202206.dat\n"
     ]
    }
   ],
   "source": [
    "# Shell commands can be run with \"!' in a notebook\n",
    "!ls -lh data/jobs-202206.dat"
   ]
  },
  {
   "cell_type": "code",
   "execution_count": 28,
   "id": "3a4a68cf-7ce3-4bf3-ad5c-9c4d1ee31a5b",
   "metadata": {
    "tags": []
   },
   "outputs": [
    {
     "name": "stdout",
     "output_type": "stream",
     "text": [
      "<class 'pandas.core.frame.DataFrame'>\n",
      "RangeIndex: 866000 entries, 0 to 865999\n",
      "Data columns (total 13 columns):\n",
      " #   Column        Non-Null Count   Dtype  \n",
      "---  ------        --------------   -----  \n",
      " 0   Job ID        866000 non-null  object \n",
      " 1   Queue         866000 non-null  object \n",
      " 2   Nodes         866000 non-null  int64  \n",
      " 3   NCPUs         866000 non-null  int64  \n",
      " 4   NGPUs         866000 non-null  int64  \n",
      " 5   Req Mem (GB)  866000 non-null  float64\n",
      " 6   Used Mem(GB)  866000 non-null  object \n",
      " 7   Job Submit    866000 non-null  object \n",
      " 8   Job Start     866000 non-null  object \n",
      " 9   Job End       866000 non-null  object \n",
      " 10  Walltime (h)  866000 non-null  float64\n",
      " 11  Exit Status   866000 non-null  int64  \n",
      " 12  Job Name      866000 non-null  object \n",
      "dtypes: float64(2), int64(4), object(7)\n",
      "memory usage: 85.9+ MB\n"
     ]
    }
   ],
   "source": [
    "# dataframe method to get metadata\n",
    "jj.info()"
   ]
  },
  {
   "cell_type": "code",
   "execution_count": 29,
   "id": "fa1e35b1-117a-4881-aeb0-fb18709f555b",
   "metadata": {
    "tags": []
   },
   "outputs": [],
   "source": [
    "import sys\n",
    "\n",
    "# Define function to display variable size in MiB\n",
    "def var_size(in_var):\n",
    "    result = sys.getsizeof(in_var) / 1024 / 1024\n",
    "    print(f\"Size of variable: {result:.2f} MiB\")"
   ]
  },
  {
   "cell_type": "code",
   "execution_count": 30,
   "id": "0a6ba981-c884-47be-906a-378ab4131474",
   "metadata": {
    "tags": []
   },
   "outputs": [
    {
     "name": "stdout",
     "output_type": "stream",
     "text": [
      "Size of variable: 447.34 MiB\n"
     ]
    }
   ],
   "source": [
    "var_size(jj)"
   ]
  },
  {
   "cell_type": "code",
   "execution_count": 31,
   "id": "45f811ab-f3c2-4328-8535-395123e346c0",
   "metadata": {
    "tags": []
   },
   "outputs": [
    {
     "name": "stdout",
     "output_type": "stream",
     "text": [
      "<class 'pandas.core.frame.DataFrame'>\n",
      "RangeIndex: 866000 entries, 0 to 865999\n",
      "Data columns (total 13 columns):\n",
      " #   Column        Non-Null Count   Dtype  \n",
      "---  ------        --------------   -----  \n",
      " 0   Job ID        866000 non-null  object \n",
      " 1   Queue         866000 non-null  object \n",
      " 2   Nodes         866000 non-null  int64  \n",
      " 3   NCPUs         866000 non-null  int64  \n",
      " 4   NGPUs         866000 non-null  int64  \n",
      " 5   Req Mem (GB)  866000 non-null  float64\n",
      " 6   Used Mem(GB)  866000 non-null  object \n",
      " 7   Job Submit    866000 non-null  object \n",
      " 8   Job Start     866000 non-null  object \n",
      " 9   Job End       866000 non-null  object \n",
      " 10  Walltime (h)  866000 non-null  float64\n",
      " 11  Exit Status   866000 non-null  int64  \n",
      " 12  Job Name      866000 non-null  object \n",
      "dtypes: float64(2), int64(4), object(7)\n",
      "memory usage: 447.3 MB\n"
     ]
    }
   ],
   "source": [
    "# deep option will include memory used by mutable objects\n",
    "jj.info(memory_usage='deep')"
   ]
  },
  {
   "cell_type": "markdown",
   "id": "147c34de-0cfc-43bb-b550-e829a0073786",
   "metadata": {},
   "source": [
    "---\n",
    "## Scaling up to larger datasets"
   ]
  },
  {
   "cell_type": "code",
   "execution_count": 32,
   "id": "85833cb2-fbc4-40f9-946b-07bd5b1654b1",
   "metadata": {
    "tags": []
   },
   "outputs": [
    {
     "name": "stdout",
     "output_type": "stream",
     "text": [
      "fatal: not a git repository (or any parent up to mount point /glade)\n",
      "Stopping at filesystem boundary (GIT_DISCOVERY_ACROSS_FILESYSTEM not set).\n",
      "-rw-r--r-- 1 negins ncar  22M Jan 11 12:30 data/jobs-202107.dat\n",
      "-rw-r--r-- 1 negins ncar  51M Jan 11 12:30 data/jobs-202108.dat\n",
      "-rw-r--r-- 1 negins ncar  28M Jan 11 12:30 data/jobs-202109.dat\n",
      "-rw-r--r-- 1 negins ncar  48M Jan 11 12:30 data/jobs-202110.dat\n",
      "-rw-r--r-- 1 negins ncar  38M Jan 11 12:30 data/jobs-202111.dat\n",
      "-rw-r--r-- 1 negins ncar  60M Jan 11 12:30 data/jobs-202112.dat\n",
      "-rw-r--r-- 1 negins ncar 121M Jan 11 12:30 data/jobs-202201.dat\n",
      "-rw-r--r-- 1 negins ncar  62M Jan 11 12:30 data/jobs-202202.dat\n",
      "-rw-r--r-- 1 negins ncar  41M Jan 11 12:30 data/jobs-202203.dat\n",
      "-rw-r--r-- 1 negins ncar  24M Jan 11 12:30 data/jobs-202204.dat\n",
      "-rw-r--r-- 1 negins ncar  49M Jan 11 12:30 data/jobs-202205.dat\n",
      "-rw-r--r-- 1 negins ncar  99M Jan 11 12:30 data/jobs-202206.dat\n"
     ]
    }
   ],
   "source": [
    "!ls -lh data/jobs-*"
   ]
  },
  {
   "cell_type": "markdown",
   "id": "17ae4c0a-0c1e-481b-bbf3-a6c428c8183b",
   "metadata": {},
   "source": [
    "#### Get the busiest day in the dataset\n",
    "Pandas can concatenate data to load data spread across multiple files:\n",
    "```\n",
    "import glob\n",
    "df = pd.concat(pd.read_csv(f) for f in glob.glob(\"data/jobs-*\"))\n",
    "```\n",
    "*However, this may exhaust memory if the data are large enough*  \n",
    "\n",
    "For this problem, we can first get the busiest day of each month, and then find the busiest among the months"
   ]
  },
  {
   "cell_type": "code",
   "execution_count": 33,
   "id": "4eff7235-d60e-4ecd-b376-5d8831ceeb8f",
   "metadata": {
    "tags": []
   },
   "outputs": [],
   "source": [
    "import time, glob\n",
    "\n",
    "def busy_day(pbs_file):\n",
    "    print(pbs_file)\n",
    "    df = pd.read_csv(pbs_file, parse_dates = time_cols)\n",
    "    result = df.groupby(df['Job Start'].dt.date).size().agg(['idxmax','max'])\n",
    "    result = result.to_frame().transpose()\n",
    "    return result"
   ]
  },
  {
   "cell_type": "code",
   "execution_count": 34,
   "id": "0e576e3b-9351-43be-bf08-75c0f3ac977b",
   "metadata": {
    "tags": []
   },
   "outputs": [
    {
     "name": "stdout",
     "output_type": "stream",
     "text": [
      "data/jobs-202205.dat\n",
      "data/jobs-202112.dat\n",
      "data/jobs-202108.dat\n"
     ]
    },
    {
     "name": "stderr",
     "output_type": "stream",
     "text": [
      "/glade/scratch/negins/ipykernel_162350/2471290314.py:5: DtypeWarning: Columns (10) have mixed types. Specify dtype option on import or set low_memory=False.\n",
      "  df = pd.read_csv(pbs_file, parse_dates = time_cols)\n"
     ]
    },
    {
     "name": "stdout",
     "output_type": "stream",
     "text": [
      "data/jobs-202201.dat\n",
      "data/jobs-202110.dat\n",
      "data/jobs-202107.dat\n"
     ]
    },
    {
     "name": "stderr",
     "output_type": "stream",
     "text": [
      "/glade/scratch/negins/ipykernel_162350/2471290314.py:5: DtypeWarning: Columns (10) have mixed types. Specify dtype option on import or set low_memory=False.\n",
      "  df = pd.read_csv(pbs_file, parse_dates = time_cols)\n"
     ]
    },
    {
     "name": "stdout",
     "output_type": "stream",
     "text": [
      "data/jobs-202111.dat\n",
      "data/jobs-202204.dat\n",
      "data/jobs-202206.dat\n",
      "data/jobs-202203.dat\n"
     ]
    },
    {
     "name": "stderr",
     "output_type": "stream",
     "text": [
      "/glade/scratch/negins/ipykernel_162350/2471290314.py:5: DtypeWarning: Columns (10) have mixed types. Specify dtype option on import or set low_memory=False.\n",
      "  df = pd.read_csv(pbs_file, parse_dates = time_cols)\n"
     ]
    },
    {
     "name": "stdout",
     "output_type": "stream",
     "text": [
      "data/jobs-202109.dat\n",
      "data/jobs-202202.dat\n",
      "CPU times: user 14.1 s, sys: 992 ms, total: 15.1 s\n",
      "Wall time: 16.9 s\n"
     ]
    },
    {
     "data": {
      "text/plain": [
       "datetime.date(2022, 1, 17)"
      ]
     },
     "execution_count": 34,
     "metadata": {},
     "output_type": "execute_result"
    }
   ],
   "source": [
    "%%time\n",
    "bd = pd.concat([busy_day(f) for f in glob.glob(\"data/jobs-*\")]).set_index('idxmax')\n",
    "bd['max'].astype(int).idxmax()"
   ]
  },
  {
   "cell_type": "markdown",
   "id": "075f42ef-d156-42fc-b33f-cea8c9830f68",
   "metadata": {},
   "source": [
    "***Dask allows us to conceptualize all of these files as a single dataframe!***"
   ]
  },
  {
   "cell_type": "code",
   "execution_count": 35,
   "id": "d9db3cf8-dc42-4eab-ae45-15b0797290b1",
   "metadata": {},
   "outputs": [],
   "source": [
    "# Let's do a little cleanup (Python will not return the memory to the OS, however)\n",
    "del jj, dj, bd"
   ]
  },
  {
   "cell_type": "code",
   "execution_count": null,
   "id": "d1527cf4-d68e-49cf-b662-f57c0908fa9d",
   "metadata": {},
   "outputs": [],
   "source": []
  },
  {
   "cell_type": "markdown",
   "id": "407a28ac-090e-48b5-a9a3-b153ceecde2f",
   "metadata": {},
   "source": [
    "#### Load our jobs dataset into a Dask dataframe"
   ]
  },
  {
   "cell_type": "code",
   "execution_count": 36,
   "id": "b1dc6fcb-6e59-4267-9b7e-c720d0462d35",
   "metadata": {},
   "outputs": [],
   "source": [
    "import glob\n",
    "import dask.dataframe as dd\n",
    "job_files = glob.glob('data/jobs-*.dat')"
   ]
  },
  {
   "cell_type": "code",
   "execution_count": 37,
   "id": "50149f6b-9685-4408-b4e3-6a37d3351108",
   "metadata": {},
   "outputs": [
    {
     "data": {
      "text/html": [
       "<div><strong>Dask DataFrame Structure:</strong></div>\n",
       "<div>\n",
       "<style scoped>\n",
       "    .dataframe tbody tr th:only-of-type {\n",
       "        vertical-align: middle;\n",
       "    }\n",
       "\n",
       "    .dataframe tbody tr th {\n",
       "        vertical-align: top;\n",
       "    }\n",
       "\n",
       "    .dataframe thead th {\n",
       "        text-align: right;\n",
       "    }\n",
       "</style>\n",
       "<table border=\"1\" class=\"dataframe\">\n",
       "  <thead>\n",
       "    <tr style=\"text-align: right;\">\n",
       "      <th></th>\n",
       "      <th>Job ID</th>\n",
       "      <th>Queue</th>\n",
       "      <th>Nodes</th>\n",
       "      <th>NCPUs</th>\n",
       "      <th>NGPUs</th>\n",
       "      <th>Req Mem (GB)</th>\n",
       "      <th>Used Mem(GB)</th>\n",
       "      <th>Job Submit</th>\n",
       "      <th>Job Start</th>\n",
       "      <th>Job End</th>\n",
       "      <th>Walltime (h)</th>\n",
       "      <th>Exit Status</th>\n",
       "      <th>Job Name</th>\n",
       "    </tr>\n",
       "    <tr>\n",
       "      <th>npartitions=12</th>\n",
       "      <th></th>\n",
       "      <th></th>\n",
       "      <th></th>\n",
       "      <th></th>\n",
       "      <th></th>\n",
       "      <th></th>\n",
       "      <th></th>\n",
       "      <th></th>\n",
       "      <th></th>\n",
       "      <th></th>\n",
       "      <th></th>\n",
       "      <th></th>\n",
       "      <th></th>\n",
       "    </tr>\n",
       "  </thead>\n",
       "  <tbody>\n",
       "    <tr>\n",
       "      <th></th>\n",
       "      <td>object</td>\n",
       "      <td>object</td>\n",
       "      <td>int64</td>\n",
       "      <td>int64</td>\n",
       "      <td>int64</td>\n",
       "      <td>float64</td>\n",
       "      <td>float64</td>\n",
       "      <td>datetime64[ns]</td>\n",
       "      <td>datetime64[ns]</td>\n",
       "      <td>datetime64[ns]</td>\n",
       "      <td>float64</td>\n",
       "      <td>int64</td>\n",
       "      <td>object</td>\n",
       "    </tr>\n",
       "    <tr>\n",
       "      <th></th>\n",
       "      <td>...</td>\n",
       "      <td>...</td>\n",
       "      <td>...</td>\n",
       "      <td>...</td>\n",
       "      <td>...</td>\n",
       "      <td>...</td>\n",
       "      <td>...</td>\n",
       "      <td>...</td>\n",
       "      <td>...</td>\n",
       "      <td>...</td>\n",
       "      <td>...</td>\n",
       "      <td>...</td>\n",
       "      <td>...</td>\n",
       "    </tr>\n",
       "    <tr>\n",
       "      <th>...</th>\n",
       "      <td>...</td>\n",
       "      <td>...</td>\n",
       "      <td>...</td>\n",
       "      <td>...</td>\n",
       "      <td>...</td>\n",
       "      <td>...</td>\n",
       "      <td>...</td>\n",
       "      <td>...</td>\n",
       "      <td>...</td>\n",
       "      <td>...</td>\n",
       "      <td>...</td>\n",
       "      <td>...</td>\n",
       "      <td>...</td>\n",
       "    </tr>\n",
       "    <tr>\n",
       "      <th></th>\n",
       "      <td>...</td>\n",
       "      <td>...</td>\n",
       "      <td>...</td>\n",
       "      <td>...</td>\n",
       "      <td>...</td>\n",
       "      <td>...</td>\n",
       "      <td>...</td>\n",
       "      <td>...</td>\n",
       "      <td>...</td>\n",
       "      <td>...</td>\n",
       "      <td>...</td>\n",
       "      <td>...</td>\n",
       "      <td>...</td>\n",
       "    </tr>\n",
       "    <tr>\n",
       "      <th></th>\n",
       "      <td>...</td>\n",
       "      <td>...</td>\n",
       "      <td>...</td>\n",
       "      <td>...</td>\n",
       "      <td>...</td>\n",
       "      <td>...</td>\n",
       "      <td>...</td>\n",
       "      <td>...</td>\n",
       "      <td>...</td>\n",
       "      <td>...</td>\n",
       "      <td>...</td>\n",
       "      <td>...</td>\n",
       "      <td>...</td>\n",
       "    </tr>\n",
       "  </tbody>\n",
       "</table>\n",
       "</div>\n",
       "<div>Dask Name: read-csv, 12 tasks</div>"
      ],
      "text/plain": [
       "Dask DataFrame Structure:\n",
       "                Job ID   Queue  Nodes  NCPUs  NGPUs Req Mem (GB) Used Mem(GB)      Job Submit       Job Start         Job End Walltime (h) Exit Status Job Name\n",
       "npartitions=12                                                                                                                                                 \n",
       "                object  object  int64  int64  int64      float64      float64  datetime64[ns]  datetime64[ns]  datetime64[ns]      float64       int64   object\n",
       "                   ...     ...    ...    ...    ...          ...          ...             ...             ...             ...          ...         ...      ...\n",
       "...                ...     ...    ...    ...    ...          ...          ...             ...             ...             ...          ...         ...      ...\n",
       "                   ...     ...    ...    ...    ...          ...          ...             ...             ...             ...          ...         ...      ...\n",
       "                   ...     ...    ...    ...    ...          ...          ...             ...             ...             ...          ...         ...      ...\n",
       "Dask Name: read-csv, 12 tasks"
      ]
     },
     "execution_count": 37,
     "metadata": {},
     "output_type": "execute_result"
    }
   ],
   "source": [
    "# Avoid reading the data in with pandas, even if it can fit within your client machine's memory\n",
    "djj = dd.read_csv(job_files, parse_dates = time_cols)\n",
    "djj"
   ]
  },
  {
   "cell_type": "code",
   "execution_count": null,
   "id": "5ae6bb61-afb7-4d1a-ba91-fca07353c0a2",
   "metadata": {},
   "outputs": [],
   "source": []
  }
 ],
 "metadata": {
  "kernelspec": {
   "display_name": "Python 3 (ipykernel)",
   "language": "python",
   "name": "python3"
  },
  "language_info": {
   "codemirror_mode": {
    "name": "ipython",
    "version": 3
   },
   "file_extension": ".py",
   "mimetype": "text/x-python",
   "name": "python",
   "nbconvert_exporter": "python",
   "pygments_lexer": "ipython3",
   "version": "3.9.12"
  },
  "widgets": {
   "application/vnd.jupyter.widget-state+json": {
    "state": {},
    "version_major": 2,
    "version_minor": 0
   }
  }
 },
 "nbformat": 4,
 "nbformat_minor": 5
}
