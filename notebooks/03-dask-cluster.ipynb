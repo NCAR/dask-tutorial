{
 "cells": [
  {
   "cell_type": "markdown",
   "id": "990cfa4c-2117-4435-9806-ff9048890398",
   "metadata": {},
   "source": [
    "<img src=images/NCAR-contemp-logo-blue.png width=500px alt=\"NCAR Logo\">\n",
    "\n",
    "# Dask DataFrame - Parallelized Pandas\n",
    "\n",
    "???? Negin Sobhani and Brian Vanderwende  \n",
    "HPC User Support Consultant  \n",
    "[negins@ucar.edu](negins@ucar.edu) and [vanderwb@ucar.edu](mailto:vanderwb@ucar.edu)\n",
    "---------\n",
    "\n"
   ]
  },
  {
   "cell_type": "markdown",
   "id": "36f1fc96-8189-48b4-a61c-c8f2d2fc1a58",
   "metadata": {},
   "source": [
    "### In this tutorial, you learn:\n",
    "\n",
    "* ????\n",
    "\n",
    "**Related Documentation**\n",
    "\n",
    "????\n"
   ]
  },
  {
   "cell_type": "markdown",
   "id": "214569a5-8969-4e1f-8b24-d8d3183219a9",
   "metadata": {},
   "source": [
    "#### The Dask scheduler - our task orchestrator\n",
    "\n",
    "When a computational task is submitted, the Dask distributed *scheduler* sends it off to a Dask *cluster* - simply a collection of Dask *workers*. A worker is typically a separate Python process on either the local host or a remote machine.  \n",
    "\n",
    "* **worker** - a Python interpretor which will perform work on a subset of our dataset\n",
    "* **cluster** - an object containing instructions for starting and talking to workers\n",
    "* **scheduler** - sends tasks from our task graph to workers\n",
    "* **client** - a local object that points to the scheduler (*often local but not always*)\n",
    "\n",
    "There are many ways to spread these components across local and remote computers, but we will focus on the most common in HPC contexts:\n",
    "\n",
    "1. Create a cluster pointing to local or scheduled remote resources\n",
    "2. Create a client pointing to a local scheduler\n",
    "3. Submit work to the client\n",
    "4. Run `.compute()` to begin worker execution\n",
    "5. Repeat steps 3+4 as necessary\n",
    "6. Shut down the Dask client and workers"
   ]
  },
  {
   "cell_type": "code",
   "execution_count": null,
   "id": "80ac65cc-c294-4d6d-9b7c-2d47ac8b70dc",
   "metadata": {},
   "outputs": [],
   "source": []
  }
 ],
 "metadata": {
  "kernelspec": {
   "display_name": "Python 3 (ipykernel)",
   "language": "python",
   "name": "python3"
  },
  "language_info": {
   "codemirror_mode": {
    "name": "ipython",
    "version": 3
   },
   "file_extension": ".py",
   "mimetype": "text/x-python",
   "name": "python",
   "nbconvert_exporter": "python",
   "pygments_lexer": "ipython3",
   "version": "3.9.6"
  },
  "widgets": {
   "application/vnd.jupyter.widget-state+json": {
    "state": {},
    "version_major": 2,
    "version_minor": 0
   }
  }
 },
 "nbformat": 4,
 "nbformat_minor": 5
}
