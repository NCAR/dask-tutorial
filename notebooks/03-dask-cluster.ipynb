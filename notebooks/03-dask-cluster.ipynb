{
 "cells": [
  {
   "cell_type": "markdown",
   "id": "990cfa4c-2117-4435-9806-ff9048890398",
   "metadata": {},
   "source": [
    "<img src=\"https://raw.githubusercontent.com/NCAR/dask-tutorial/main/images/NCAR-contemp-logo-blue.png\"\n",
    "     width=\"750px\"\n",
    "     alt=\"NCAR logo\"\n",
    "     style=\"vertical-align:middle;margin:30px 0px\"/>\n",
    "\n",
    "# Dask Distributed\n",
    "\n",
    "**ESDS dask tutorial | 06 February, 2023**  \n",
    "\n",
    "Negin Sobhani, Brian Vanderwende, Deepak Cherian, Ben Kirk  \n",
    "Computational & Information Systems Lab (CISL)  \n",
    "[negins@ucar.edu](mailto:negins@ucar.edu), [vanderwb@ucar.edu](mailto:vanderwb@ucar.edu)\n",
    "\n",
    "------"
   ]
  },
  {
   "cell_type": "markdown",
   "id": "36f1fc96-8189-48b4-a61c-c8f2d2fc1a58",
   "metadata": {},
   "source": [
    "### In this tutorial, you learn:\n",
    "\n",
    "* ????\n",
    "\n",
    "**Related Documentation**\n",
    "\n",
    "????\n"
   ]
  },
  {
   "cell_type": "markdown",
   "id": "214569a5-8969-4e1f-8b24-d8d3183219a9",
   "metadata": {
    "tags": []
   },
   "source": [
    "## Introduction\n",
    "## The Dask scheduler - our task orchestrator\n",
    "\n",
    "When a computational task is submitted, the Dask distributed *scheduler* sends it off to a Dask *cluster* - simply a collection of Dask *workers*. A worker is typically a separate Python process on either the local host or a remote machine.  \n",
    "\n",
    "* **worker** - a Python interpretor which will perform work on a subset of our dataset\n",
    "* **cluster** - an object containing instructions for starting and talking to workers\n",
    "* **scheduler** - sends tasks from our task graph to workers\n",
    "* **client** - a local object that points to the scheduler (*often local but not always*)\n",
    "\n",
    "\n",
    "<img src=\"https://miro.medium.com/max/720/0*9JHQAjTVoKbm2f4X.webp\" width=\"700px\" style=\"vertical-align:middle;margin:30px 0px\"/>\n",
    "\n",
    "There are many ways to spread these components across local and remote computers, but we will focus on the most common in HPC contexts:\n",
    "\n",
    "1. Create a cluster pointing to local or scheduled remote resources\n",
    "2. Create a client pointing to a local scheduler\n",
    "3. Submit work to the client\n",
    "4. Run `.compute()` to begin worker execution\n",
    "5. Repeat steps 3+4 as necessary\n",
    "6. Shut down the Dask client and workers"
   ]
  },
  {
   "cell_type": "markdown",
   "id": "022a8b81-6474-47b0-8892-d0f5d65f0ffa",
   "metadata": {},
   "source": [
    "### Distributed Clusters"
   ]
  },
  {
   "cell_type": "code",
   "execution_count": null,
   "id": "c7a9a540-2592-44fb-b77e-4474d8521125",
   "metadata": {},
   "outputs": [],
   "source": []
  }
 ],
 "metadata": {
  "kernelspec": {
   "display_name": "Python 3 (ipykernel)",
   "language": "python",
   "name": "python3"
  },
  "language_info": {
   "codemirror_mode": {
    "name": "ipython",
    "version": 3
   },
   "file_extension": ".py",
   "mimetype": "text/x-python",
   "name": "python",
   "nbconvert_exporter": "python",
   "pygments_lexer": "ipython3",
   "version": "3.9.12"
  },
  "widgets": {
   "application/vnd.jupyter.widget-state+json": {
    "state": {},
    "version_major": 2,
    "version_minor": 0
   }
  }
 },
 "nbformat": 4,
 "nbformat_minor": 5
}
