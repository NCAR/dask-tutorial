{
 "cells": [
  {
   "cell_type": "markdown",
   "id": "990cfa4c-2117-4435-9806-ff9048890398",
   "metadata": {
    "tags": []
   },
   "source": [
    "<img src=\"https://raw.githubusercontent.com/NCAR/dask-tutorial/main/images/NCAR-contemp-logo-blue.png\"\n",
    "     width=\"750px\"\n",
    "     alt=\"NCAR logo\"\n",
    "     style=\"vertical-align:middle;margin:30px 0px\"/>\n",
    "\n",
    "# Dask Arrays\n",
    "\n",
    "**ESDS Dask Tutorial | 06 February, 2023**  \n",
    "\n",
    "Negin Sobhani, Brian Vanderwende, Deepak Cherian, Ben Kirk  \n",
    "Computational & Information Systems Lab (CISL)  \n",
    "[negins@ucar.edu](mailto:negins@ucar.edu), [vanderwb@ucar.edu](mailto:vanderwb@ucar.edu)\n",
    "\n",
    "\n",
    "---------\n",
    "\n",
    "### In this tutorial, you learn:\n",
    "\n",
    "* What is a Dask Array?\n",
    "* Basic concepts and features of Dask Arrays\n",
    "* Working with Dask arrays\n",
    "\n",
    "**Related Dask Array Documentation**\n",
    "\n",
    "* [Dask Array documentation](https://docs.dask.org/en/latest/array.html)\n",
    "* [Dask Array API](https://docs.dask.org/en/latest/array-api.html)\n",
    "* [Dask Array examples](https://examples.dask.org/array.html)\n",
    "\n",
    "\n",
    "## Dask Arrays\n",
    "Dask Arrays are basically parallelized version of NumPy arrays for processing *larger-than-memory data sets*. \n",
    "\n",
    "<img src=\"https://docs.dask.org/en/stable/_images/dask-array.svg\" width=\"500px\" style=\"horizontal-align:middle\"/>\n",
    "\n",
    "*Image credit: Anaconda, Inc. and contributors*\n",
    "\n",
    "Dask Array can be used as a drop-in replacement for NumPy arrays, with a similar API and support for a subset of NumPy functions.  \n",
    "\n",
    "Dask effectively reduces the memory footprint of large array computations by dividing the arrays into smaller pieces (called **chunks**) that can fit into memory and stream the data from disk."
   ]
  },
  {
   "cell_type": "markdown",
   "id": "106238d9-c519-47bc-b5c6-5c703ad47fe6",
   "metadata": {},
   "source": [
    "**Dask Arrays are lazy:** Unlike Numpy, operations on Dask arrays are not computed until you explicitly request them. \n",
    "\n",
    "<div class=\"alert alert-success\" markdown=\"1\">\n",
    "\n",
    "<b>Lazy Evaluation: objects are evaluated just in time when the results are needed!</b> \n",
    "\n",
    "Lazy evaluation help us avoid having large pieces of memory resident on the workers and optimize the resource requirements.\n",
    "\n",
    "</div>\n",
    "\n",
    "Dask Arrays don't directly hold any data. Instead, they provide **a symbolic representation of the necessary computations** to generate the data. We will explain this more below.  \n",
    "\n",
    "\n",
    "\n",
    "Let's start exploring Dask Arrays:"
   ]
  },
  {
   "cell_type": "markdown",
   "id": "72b6cdf8-db59-4a86-8f8d-c30ab67a46b2",
   "metadata": {},
   "source": [
    "## Setup: Start a Dask Client\n",
    "We will talk in-depth about Dask Cluster and Dask Clients later in this tutorial. Here we just created a local cluster and attached a client to it. "
   ]
  },
  {
   "cell_type": "code",
   "execution_count": 1,
   "id": "7ebce44c-e6f6-4cd5-a23d-aa6963d1d8d0",
   "metadata": {},
   "outputs": [
    {
     "name": "stderr",
     "output_type": "stream",
     "text": [
      "2023-02-05 04:50:35,773 - distributed.diskutils - INFO - Found stale lock file and directory '/glade/scratch/negins/dask-worker-space/worker-bg_qbe63', purging\n",
      "2023-02-05 04:50:35,774 - distributed.diskutils - INFO - Found stale lock file and directory '/glade/scratch/negins/dask-worker-space/worker-ho0r8zk1', purging\n",
      "2023-02-05 04:50:35,774 - distributed.diskutils - INFO - Found stale lock file and directory '/glade/scratch/negins/dask-worker-space/worker-kxd0lb09', purging\n",
      "2023-02-05 04:50:35,775 - distributed.diskutils - INFO - Found stale lock file and directory '/glade/scratch/negins/dask-worker-space/worker-z8ju1jdf', purging\n"
     ]
    },
    {
     "data": {
      "text/html": [
       "<div>\n",
       "    <div style=\"width: 24px; height: 24px; background-color: #e1e1e1; border: 3px solid #9D9D9D; border-radius: 5px; position: absolute;\"> </div>\n",
       "    <div style=\"margin-left: 48px;\">\n",
       "        <h3 style=\"margin-bottom: 0px;\">Client</h3>\n",
       "        <p style=\"color: #9D9D9D; margin-bottom: 0px;\">Client-4cd05c6b-a54b-11ed-9919-3cecef1b11d4</p>\n",
       "        <table style=\"width: 100%; text-align: left;\">\n",
       "\n",
       "        <tr>\n",
       "        \n",
       "            <td style=\"text-align: left;\"><strong>Connection method:</strong> Cluster object</td>\n",
       "            <td style=\"text-align: left;\"><strong>Cluster type:</strong> distributed.LocalCluster</td>\n",
       "        \n",
       "        </tr>\n",
       "\n",
       "        \n",
       "            <tr>\n",
       "                <td style=\"text-align: left;\">\n",
       "                    <strong>Dashboard: </strong> <a href=\"https://jupyterhub.hpc.ucar.edu/stable/user/negins/proxy/8787/status\" target=\"_blank\">https://jupyterhub.hpc.ucar.edu/stable/user/negins/proxy/8787/status</a>\n",
       "                </td>\n",
       "                <td style=\"text-align: left;\"></td>\n",
       "            </tr>\n",
       "        \n",
       "\n",
       "        </table>\n",
       "\n",
       "        \n",
       "            <details>\n",
       "            <summary style=\"margin-bottom: 20px;\"><h3 style=\"display: inline;\">Cluster Info</h3></summary>\n",
       "            <div class=\"jp-RenderedHTMLCommon jp-RenderedHTML jp-mod-trusted jp-OutputArea-output\">\n",
       "    <div style=\"width: 24px; height: 24px; background-color: #e1e1e1; border: 3px solid #9D9D9D; border-radius: 5px; position: absolute;\">\n",
       "    </div>\n",
       "    <div style=\"margin-left: 48px;\">\n",
       "        <h3 style=\"margin-bottom: 0px; margin-top: 0px;\">LocalCluster</h3>\n",
       "        <p style=\"color: #9D9D9D; margin-bottom: 0px;\">97113af0</p>\n",
       "        <table style=\"width: 100%; text-align: left;\">\n",
       "            <tr>\n",
       "                <td style=\"text-align: left;\">\n",
       "                    <strong>Dashboard:</strong> <a href=\"https://jupyterhub.hpc.ucar.edu/stable/user/negins/proxy/8787/status\" target=\"_blank\">https://jupyterhub.hpc.ucar.edu/stable/user/negins/proxy/8787/status</a>\n",
       "                </td>\n",
       "                <td style=\"text-align: left;\">\n",
       "                    <strong>Workers:</strong> 4\n",
       "                </td>\n",
       "            </tr>\n",
       "            <tr>\n",
       "                <td style=\"text-align: left;\">\n",
       "                    <strong>Total threads:</strong> 4\n",
       "                </td>\n",
       "                <td style=\"text-align: left;\">\n",
       "                    <strong>Total memory:</strong> 4.00 GiB\n",
       "                </td>\n",
       "            </tr>\n",
       "            \n",
       "            <tr>\n",
       "    <td style=\"text-align: left;\"><strong>Status:</strong> running</td>\n",
       "    <td style=\"text-align: left;\"><strong>Using processes:</strong> True</td>\n",
       "</tr>\n",
       "\n",
       "            \n",
       "        </table>\n",
       "\n",
       "        <details>\n",
       "            <summary style=\"margin-bottom: 20px;\">\n",
       "                <h3 style=\"display: inline;\">Scheduler Info</h3>\n",
       "            </summary>\n",
       "\n",
       "            <div style=\"\">\n",
       "    <div>\n",
       "        <div style=\"width: 24px; height: 24px; background-color: #FFF7E5; border: 3px solid #FF6132; border-radius: 5px; position: absolute;\"> </div>\n",
       "        <div style=\"margin-left: 48px;\">\n",
       "            <h3 style=\"margin-bottom: 0px;\">Scheduler</h3>\n",
       "            <p style=\"color: #9D9D9D; margin-bottom: 0px;\">Scheduler-28250e47-a26c-4ceb-bad2-b51421b5966d</p>\n",
       "            <table style=\"width: 100%; text-align: left;\">\n",
       "                <tr>\n",
       "                    <td style=\"text-align: left;\">\n",
       "                        <strong>Comm:</strong> tcp://127.0.0.1:44858\n",
       "                    </td>\n",
       "                    <td style=\"text-align: left;\">\n",
       "                        <strong>Workers:</strong> 4\n",
       "                    </td>\n",
       "                </tr>\n",
       "                <tr>\n",
       "                    <td style=\"text-align: left;\">\n",
       "                        <strong>Dashboard:</strong> <a href=\"https://jupyterhub.hpc.ucar.edu/stable/user/negins/proxy/8787/status\" target=\"_blank\">https://jupyterhub.hpc.ucar.edu/stable/user/negins/proxy/8787/status</a>\n",
       "                    </td>\n",
       "                    <td style=\"text-align: left;\">\n",
       "                        <strong>Total threads:</strong> 4\n",
       "                    </td>\n",
       "                </tr>\n",
       "                <tr>\n",
       "                    <td style=\"text-align: left;\">\n",
       "                        <strong>Started:</strong> Just now\n",
       "                    </td>\n",
       "                    <td style=\"text-align: left;\">\n",
       "                        <strong>Total memory:</strong> 4.00 GiB\n",
       "                    </td>\n",
       "                </tr>\n",
       "            </table>\n",
       "        </div>\n",
       "    </div>\n",
       "\n",
       "    <details style=\"margin-left: 48px;\">\n",
       "        <summary style=\"margin-bottom: 20px;\">\n",
       "            <h3 style=\"display: inline;\">Workers</h3>\n",
       "        </summary>\n",
       "\n",
       "        \n",
       "        <div style=\"margin-bottom: 20px;\">\n",
       "            <div style=\"width: 24px; height: 24px; background-color: #DBF5FF; border: 3px solid #4CC9FF; border-radius: 5px; position: absolute;\"> </div>\n",
       "            <div style=\"margin-left: 48px;\">\n",
       "            <details>\n",
       "                <summary>\n",
       "                    <h4 style=\"margin-bottom: 0px; display: inline;\">Worker: 0</h4>\n",
       "                </summary>\n",
       "                <table style=\"width: 100%; text-align: left;\">\n",
       "                    <tr>\n",
       "                        <td style=\"text-align: left;\">\n",
       "                            <strong>Comm: </strong> tcp://127.0.0.1:38575\n",
       "                        </td>\n",
       "                        <td style=\"text-align: left;\">\n",
       "                            <strong>Total threads: </strong> 1\n",
       "                        </td>\n",
       "                    </tr>\n",
       "                    <tr>\n",
       "                        <td style=\"text-align: left;\">\n",
       "                            <strong>Dashboard: </strong> <a href=\"https://jupyterhub.hpc.ucar.edu/stable/user/negins/proxy/39928/status\" target=\"_blank\">https://jupyterhub.hpc.ucar.edu/stable/user/negins/proxy/39928/status</a>\n",
       "                        </td>\n",
       "                        <td style=\"text-align: left;\">\n",
       "                            <strong>Memory: </strong> 1.00 GiB\n",
       "                        </td>\n",
       "                    </tr>\n",
       "                    <tr>\n",
       "                        <td style=\"text-align: left;\">\n",
       "                            <strong>Nanny: </strong> tcp://127.0.0.1:39509\n",
       "                        </td>\n",
       "                        <td style=\"text-align: left;\"></td>\n",
       "                    </tr>\n",
       "                    <tr>\n",
       "                        <td colspan=\"2\" style=\"text-align: left;\">\n",
       "                            <strong>Local directory: </strong> /glade/scratch/negins/dask-worker-space/worker-n9bsox6p\n",
       "                        </td>\n",
       "                    </tr>\n",
       "\n",
       "                    \n",
       "\n",
       "                    \n",
       "\n",
       "                </table>\n",
       "            </details>\n",
       "            </div>\n",
       "        </div>\n",
       "        \n",
       "        <div style=\"margin-bottom: 20px;\">\n",
       "            <div style=\"width: 24px; height: 24px; background-color: #DBF5FF; border: 3px solid #4CC9FF; border-radius: 5px; position: absolute;\"> </div>\n",
       "            <div style=\"margin-left: 48px;\">\n",
       "            <details>\n",
       "                <summary>\n",
       "                    <h4 style=\"margin-bottom: 0px; display: inline;\">Worker: 1</h4>\n",
       "                </summary>\n",
       "                <table style=\"width: 100%; text-align: left;\">\n",
       "                    <tr>\n",
       "                        <td style=\"text-align: left;\">\n",
       "                            <strong>Comm: </strong> tcp://127.0.0.1:42195\n",
       "                        </td>\n",
       "                        <td style=\"text-align: left;\">\n",
       "                            <strong>Total threads: </strong> 1\n",
       "                        </td>\n",
       "                    </tr>\n",
       "                    <tr>\n",
       "                        <td style=\"text-align: left;\">\n",
       "                            <strong>Dashboard: </strong> <a href=\"https://jupyterhub.hpc.ucar.edu/stable/user/negins/proxy/37465/status\" target=\"_blank\">https://jupyterhub.hpc.ucar.edu/stable/user/negins/proxy/37465/status</a>\n",
       "                        </td>\n",
       "                        <td style=\"text-align: left;\">\n",
       "                            <strong>Memory: </strong> 1.00 GiB\n",
       "                        </td>\n",
       "                    </tr>\n",
       "                    <tr>\n",
       "                        <td style=\"text-align: left;\">\n",
       "                            <strong>Nanny: </strong> tcp://127.0.0.1:39740\n",
       "                        </td>\n",
       "                        <td style=\"text-align: left;\"></td>\n",
       "                    </tr>\n",
       "                    <tr>\n",
       "                        <td colspan=\"2\" style=\"text-align: left;\">\n",
       "                            <strong>Local directory: </strong> /glade/scratch/negins/dask-worker-space/worker-nj7b741v\n",
       "                        </td>\n",
       "                    </tr>\n",
       "\n",
       "                    \n",
       "\n",
       "                    \n",
       "\n",
       "                </table>\n",
       "            </details>\n",
       "            </div>\n",
       "        </div>\n",
       "        \n",
       "        <div style=\"margin-bottom: 20px;\">\n",
       "            <div style=\"width: 24px; height: 24px; background-color: #DBF5FF; border: 3px solid #4CC9FF; border-radius: 5px; position: absolute;\"> </div>\n",
       "            <div style=\"margin-left: 48px;\">\n",
       "            <details>\n",
       "                <summary>\n",
       "                    <h4 style=\"margin-bottom: 0px; display: inline;\">Worker: 2</h4>\n",
       "                </summary>\n",
       "                <table style=\"width: 100%; text-align: left;\">\n",
       "                    <tr>\n",
       "                        <td style=\"text-align: left;\">\n",
       "                            <strong>Comm: </strong> tcp://127.0.0.1:45658\n",
       "                        </td>\n",
       "                        <td style=\"text-align: left;\">\n",
       "                            <strong>Total threads: </strong> 1\n",
       "                        </td>\n",
       "                    </tr>\n",
       "                    <tr>\n",
       "                        <td style=\"text-align: left;\">\n",
       "                            <strong>Dashboard: </strong> <a href=\"https://jupyterhub.hpc.ucar.edu/stable/user/negins/proxy/38928/status\" target=\"_blank\">https://jupyterhub.hpc.ucar.edu/stable/user/negins/proxy/38928/status</a>\n",
       "                        </td>\n",
       "                        <td style=\"text-align: left;\">\n",
       "                            <strong>Memory: </strong> 1.00 GiB\n",
       "                        </td>\n",
       "                    </tr>\n",
       "                    <tr>\n",
       "                        <td style=\"text-align: left;\">\n",
       "                            <strong>Nanny: </strong> tcp://127.0.0.1:45060\n",
       "                        </td>\n",
       "                        <td style=\"text-align: left;\"></td>\n",
       "                    </tr>\n",
       "                    <tr>\n",
       "                        <td colspan=\"2\" style=\"text-align: left;\">\n",
       "                            <strong>Local directory: </strong> /glade/scratch/negins/dask-worker-space/worker-zmfem11t\n",
       "                        </td>\n",
       "                    </tr>\n",
       "\n",
       "                    \n",
       "\n",
       "                    \n",
       "\n",
       "                </table>\n",
       "            </details>\n",
       "            </div>\n",
       "        </div>\n",
       "        \n",
       "        <div style=\"margin-bottom: 20px;\">\n",
       "            <div style=\"width: 24px; height: 24px; background-color: #DBF5FF; border: 3px solid #4CC9FF; border-radius: 5px; position: absolute;\"> </div>\n",
       "            <div style=\"margin-left: 48px;\">\n",
       "            <details>\n",
       "                <summary>\n",
       "                    <h4 style=\"margin-bottom: 0px; display: inline;\">Worker: 3</h4>\n",
       "                </summary>\n",
       "                <table style=\"width: 100%; text-align: left;\">\n",
       "                    <tr>\n",
       "                        <td style=\"text-align: left;\">\n",
       "                            <strong>Comm: </strong> tcp://127.0.0.1:42021\n",
       "                        </td>\n",
       "                        <td style=\"text-align: left;\">\n",
       "                            <strong>Total threads: </strong> 1\n",
       "                        </td>\n",
       "                    </tr>\n",
       "                    <tr>\n",
       "                        <td style=\"text-align: left;\">\n",
       "                            <strong>Dashboard: </strong> <a href=\"https://jupyterhub.hpc.ucar.edu/stable/user/negins/proxy/33016/status\" target=\"_blank\">https://jupyterhub.hpc.ucar.edu/stable/user/negins/proxy/33016/status</a>\n",
       "                        </td>\n",
       "                        <td style=\"text-align: left;\">\n",
       "                            <strong>Memory: </strong> 1.00 GiB\n",
       "                        </td>\n",
       "                    </tr>\n",
       "                    <tr>\n",
       "                        <td style=\"text-align: left;\">\n",
       "                            <strong>Nanny: </strong> tcp://127.0.0.1:38124\n",
       "                        </td>\n",
       "                        <td style=\"text-align: left;\"></td>\n",
       "                    </tr>\n",
       "                    <tr>\n",
       "                        <td colspan=\"2\" style=\"text-align: left;\">\n",
       "                            <strong>Local directory: </strong> /glade/scratch/negins/dask-worker-space/worker-0r7vrq9y\n",
       "                        </td>\n",
       "                    </tr>\n",
       "\n",
       "                    \n",
       "\n",
       "                    \n",
       "\n",
       "                </table>\n",
       "            </details>\n",
       "            </div>\n",
       "        </div>\n",
       "        \n",
       "\n",
       "    </details>\n",
       "</div>\n",
       "\n",
       "        </details>\n",
       "    </div>\n",
       "</div>\n",
       "            </details>\n",
       "        \n",
       "\n",
       "    </div>\n",
       "</div>"
      ],
      "text/plain": [
       "<Client: 'tcp://127.0.0.1:44858' processes=4 threads=4, memory=4.00 GiB>"
      ]
     },
     "execution_count": 1,
     "metadata": {},
     "output_type": "execute_result"
    }
   ],
   "source": [
    "from dask.distributed import Client\n",
    "\n",
    "client = Client()\n",
    "client"
   ]
  },
  {
   "cell_type": "markdown",
   "id": "ed8c0a5c-a3fa-4f7e-8c84-7bc96fd0a817",
   "metadata": {},
   "source": [
    "## Blocked Algorithms\n",
    "\n",
    "Dask Arrays use blocked algorithms to split large computations into smaller computations which operate on subsets of the data (called **chunks**).\n",
    "\n",
    "Let's see what this means in an example:"
   ]
  },
  {
   "cell_type": "code",
   "execution_count": 3,
   "id": "a3063d2a-b923-4042-b37c-3edb1cf29c2f",
   "metadata": {},
   "outputs": [],
   "source": [
    "import numpy as np\n",
    "import dask.array as da\n",
    "\n",
    "# A 4x4 numpy array that goes from 1 to 16 \n",
    "\n",
    "narr = np.array([\n",
    "        [ 1,  2,  3,  4],\n",
    "        [ 5,  6,  7,  8],\n",
    "        [ 9, 10, 11, 12],\n",
    "        [13, 14, 15, 16]\n",
    "        ])\n",
    "\n",
    "# -- convert numpy array to dask array with 4 chunks\n",
    "darr = da.from_array( narr,chunks=(2, 2))"
   ]
  },
  {
   "cell_type": "markdown",
   "id": "0f502592-b50f-458d-bf23-3550f06b93ad",
   "metadata": {},
   "source": [
    "Now we can calculate the sum of this array using `darr.sum()` similar to numpy. **But how is it different from numpy?**\n",
    "\n",
    "\n",
    "When you take the sum of the Dask array, Dask first takes the sum of each chunk and only after each of those is completed, takes the sum of the results from each chunk.\n",
    "\n",
    "\n",
    "<img src=\"https://d33wubrfki0l68.cloudfront.net/f7bf6ca40c8f217386f83795b36e0c964c6a9d2b/ad6da/images/blog/what-is-dask-blockwise-sum.jpg\" width=\"500px\" />\n",
    "\n",
    "*Image adapted from saturncloud.io*\n"
   ]
  },
  {
   "cell_type": "markdown",
   "id": "af956be7-75fe-4d95-8212-76b8fabf1a1a",
   "metadata": {},
   "source": [
    "## Task Graph\n",
    "\n",
    "The Dask Task Graph serves as a **blueprint** for executing the computations.  \n",
    "\n",
    "The Task Graph defines the (1) relationships between tasks, and (2) the order in which they should be executed.\n",
    "\n",
    "In a task graph each node in the graph represents a task and lines represent the dependencies/relationships between tasks."
   ]
  },
  {
   "cell_type": "markdown",
   "id": "0fd27324-4077-46a4-97d9-6a01a61ab61d",
   "metadata": {},
   "source": [
    "We can visualize the low-level task graph using `.visualize()` method."
   ]
  },
  {
   "cell_type": "code",
   "execution_count": 4,
   "id": "32303572-b72a-49e2-9a59-165d11e2da1c",
   "metadata": {},
   "outputs": [
    {
     "data": {
      "image/png": "[encoded data removed]",
      "text/plain": [
       "<IPython.core.display.Image object>"
      ]
     },
     "execution_count": 4,
     "metadata": {},
     "output_type": "execute_result"
    }
   ],
   "source": [
    "darr.sum().visualize(rankdir=\"LR\")"
   ]
  },
  {
   "cell_type": "markdown",
   "id": "9cf9a3cb-9187-405d-a176-9530ab64cdd7",
   "metadata": {},
   "source": [
    "It is generally good practice to look at the task graph before executing the computation. By looking at the task graph, you can learn about potential bottlenecks where parallelism is not possible. \n",
    "\n",
    "<div class=\"alert alert-block alert-info\" markdown=\"1\">\n",
    "\n",
    "<b>TIP:</b> For big computations, low-level task graphs gets very confusing. An alternative that provides a more concise graph is using `.dask.visualize()`.\n",
    "\n",
    "</div>\n"
   ]
  },
  {
   "cell_type": "code",
   "execution_count": 5,
   "id": "c75b77b1-65e1-48d9-ba92-0ffb9fd681cc",
   "metadata": {},
   "outputs": [],
   "source": [
    "#darr.sum().dask.visualize()"
   ]
  },
  {
   "cell_type": "markdown",
   "id": "ea4672b8-fa4b-4709-98a0-7d3a36b592f1",
   "metadata": {},
   "source": [
    "\n",
    "----\n",
    "\n",
    "Now, let's start with another example. Here we create a 2D array of ones using NumPy."
   ]
  },
  {
   "cell_type": "code",
   "execution_count": 6,
   "id": "20392c9f-8902-43f6-bbf1-38d88532c361",
   "metadata": {},
   "outputs": [
    {
     "data": {
      "text/plain": [
       "array([[1., 1., 1., ..., 1., 1., 1.],\n",
       "       [1., 1., 1., ..., 1., 1., 1.],\n",
       "       [1., 1., 1., ..., 1., 1., 1.],\n",
       "       ...,\n",
       "       [1., 1., 1., ..., 1., 1., 1.],\n",
       "       [1., 1., 1., ..., 1., 1., 1.],\n",
       "       [1., 1., 1., ..., 1., 1., 1.]])"
      ]
     },
     "execution_count": 6,
     "metadata": {},
     "output_type": "execute_result"
    }
   ],
   "source": [
    "shape = (10000,12000)\n",
    "\n",
    "ones_np = np.ones(shape)\n",
    "ones_np"
   ]
  },
  {
   "cell_type": "markdown",
   "id": "8940853a-9022-481e-934e-57b1742bf9cf",
   "metadata": {},
   "source": [
    "Now, let's create the same array using Dask:"
   ]
  },
  {
   "cell_type": "code",
   "execution_count": 21,
   "id": "5466813e-e71b-446a-bc14-f4d3b98a27df",
   "metadata": {},
   "outputs": [
    {
     "data": {
      "text/html": [
       "<table>\n",
       "    <tr>\n",
       "        <td>\n",
       "            <table>\n",
       "                <thead>\n",
       "                    <tr>\n",
       "                        <td> </td>\n",
       "                        <th> Array </th>\n",
       "                        <th> Chunk </th>\n",
       "                    </tr>\n",
       "                </thead>\n",
       "                <tbody>\n",
       "                    \n",
       "                    <tr>\n",
       "                        <th> Bytes </th>\n",
       "                        <td> 915.53 MiB </td>\n",
       "                        <td> 76.29 MiB </td>\n",
       "                    </tr>\n",
       "                    \n",
       "                    <tr>\n",
       "                        <th> Shape </th>\n",
       "                        <td> (10000, 12000) </td>\n",
       "                        <td> (2500, 4000) </td>\n",
       "                    </tr>\n",
       "                    <tr>\n",
       "                        <th> Count </th>\n",
       "                        <td> 12 Tasks </td>\n",
       "                        <td> 12 Chunks </td>\n",
       "                    </tr>\n",
       "                    <tr>\n",
       "                    <th> Type </th>\n",
       "                    <td> float64 </td>\n",
       "                    <td> numpy.ndarray </td>\n",
       "                    </tr>\n",
       "                </tbody>\n",
       "            </table>\n",
       "        </td>\n",
       "        <td>\n",
       "        <svg width=\"170\" height=\"150\" style=\"stroke:rgb(0,0,0);stroke-width:1\" >\n",
       "\n",
       "  <!-- Horizontal lines -->\n",
       "  <line x1=\"0\" y1=\"0\" x2=\"120\" y2=\"0\" style=\"stroke-width:2\" />\n",
       "  <line x1=\"0\" y1=\"25\" x2=\"120\" y2=\"25\" />\n",
       "  <line x1=\"0\" y1=\"50\" x2=\"120\" y2=\"50\" />\n",
       "  <line x1=\"0\" y1=\"75\" x2=\"120\" y2=\"75\" />\n",
       "  <line x1=\"0\" y1=\"100\" x2=\"120\" y2=\"100\" style=\"stroke-width:2\" />\n",
       "\n",
       "  <!-- Vertical lines -->\n",
       "  <line x1=\"0\" y1=\"0\" x2=\"0\" y2=\"100\" style=\"stroke-width:2\" />\n",
       "  <line x1=\"40\" y1=\"0\" x2=\"40\" y2=\"100\" />\n",
       "  <line x1=\"80\" y1=\"0\" x2=\"80\" y2=\"100\" />\n",
       "  <line x1=\"120\" y1=\"0\" x2=\"120\" y2=\"100\" style=\"stroke-width:2\" />\n",
       "\n",
       "  <!-- Colored Rectangle -->\n",
       "  <polygon points=\"0.0,0.0 120.0,0.0 120.0,100.0 0.0,100.0\" style=\"fill:#ECB172A0;stroke-width:0\"/>\n",
       "\n",
       "  <!-- Text -->\n",
       "  <text x=\"60.000000\" y=\"120.000000\" font-size=\"1.0rem\" font-weight=\"100\" text-anchor=\"middle\" >12000</text>\n",
       "  <text x=\"140.000000\" y=\"50.000000\" font-size=\"1.0rem\" font-weight=\"100\" text-anchor=\"middle\" transform=\"rotate(-90,140.000000,50.000000)\">10000</text>\n",
       "</svg>\n",
       "        </td>\n",
       "    </tr>\n",
       "</table>"
      ],
      "text/plain": [
       "dask.array<ones_like, shape=(10000, 12000), dtype=float64, chunksize=(2500, 4000), chunktype=numpy.ndarray>"
      ]
     },
     "execution_count": 21,
     "metadata": {},
     "output_type": "execute_result"
    }
   ],
   "source": [
    "ones_da = da.ones(shape)\n",
    "ones_da"
   ]
  },
  {
   "cell_type": "markdown",
   "id": "67c8f051-3889-41f6-99ca-87074f336bd0",
   "metadata": {},
   "source": [
    "We see a Dask Array representation of the data.\n",
    "This is a symbolic representation; no data has actually been generated yet. \n",
    "\n",
    "As we discussed previously, this mode of operation is called \"lazy\". \n",
    "\n",
    "This allows the user to build up a series of computations or tasks before being passed to the scheduler for execution."
   ]
  },
  {
   "cell_type": "markdown",
   "id": "9c581c28-1e99-4571-a5fe-88e45727b1a7",
   "metadata": {},
   "source": [
    "## Chunks\n",
    "\n",
    "When checking the Dask array, the symbolic representation illustrates the concept of chunks. Dask arrays split the data into **sub-arrays** (or **chunks**) to optimize computation with large arrays.  "
   ]
  },
  {
   "cell_type": "markdown",
   "id": "3911489b-792c-4dd6-9e1e-4ca87de888a1",
   "metadata": {},
   "source": [
    "### Chunking an array\n",
    "\n",
    "**The way that arrays are chunked can significantly affect total performance.**\n",
    "\n",
    "For specifying the chunking of an array, we use the `chunks` argument when creating our `dask.array`.\n",
    "\n",
    "<div class=\"alert alert-block alert-warning\">\n",
    "\n",
    "<b>⚠️ WARNING:</b> Please note that `chunks` argument stands for **chunk shape** rather than “number of chunks”.   \n",
    "For example, `chunks=1` means that you will have several chunks with one element. \n",
    "</div>\n",
    "\n",
    "There are several ways to define `chunks`. For example:\n",
    "\n",
    "1. A uniform dimension size like 1000, meaning chunks of size 1000 in each dimension. \n",
    "\n",
    "2. A uniform chunk shape like `(1000, 2000, 3000)`, meaning chunks of size 1000 in the first axis, 2000 in the second axis, and 3000 in the third. \n",
    "\n",
    "3. Fully explicit sizes of all blocks for all dimensions, like `((1000, 1000, 500), (400, 400), (5, 5, 5, 5, 5))`\n",
    "\n",
    "4. A dictionary specifying chunk size per dimension like `{0: 1000, 1: 2000, 2: 3000}`.\n",
    "\n",
    "\n",
    "Let's recreate the above Dask array, but this time we will specify chunk sizes (a.k.a. shapes) using the argument `chunks`. "
   ]
  },
  {
   "cell_type": "code",
   "execution_count": 9,
   "id": "9691bac8-8368-4311-a28e-5e2ab2a253f5",
   "metadata": {},
   "outputs": [
    {
     "data": {
      "text/plain": [
       "(10000, 12000)"
      ]
     },
     "execution_count": 9,
     "metadata": {},
     "output_type": "execute_result"
    }
   ],
   "source": [
    "# -- remember what the shape of our data array was\n",
    "shape"
   ]
  },
  {
   "cell_type": "code",
   "execution_count": 13,
   "id": "8c5bf84b-761e-445e-8c0e-f897ad5ab19a",
   "metadata": {},
   "outputs": [
    {
     "data": {
      "text/html": [
       "<table>\n",
       "    <tr>\n",
       "        <td>\n",
       "            <table>\n",
       "                <thead>\n",
       "                    <tr>\n",
       "                        <td> </td>\n",
       "                        <th> Array </th>\n",
       "                        <th> Chunk </th>\n",
       "                    </tr>\n",
       "                </thead>\n",
       "                <tbody>\n",
       "                    \n",
       "                    <tr>\n",
       "                        <th> Bytes </th>\n",
       "                        <td> 915.53 MiB </td>\n",
       "                        <td> 152.59 MiB </td>\n",
       "                    </tr>\n",
       "                    \n",
       "                    <tr>\n",
       "                        <th> Shape </th>\n",
       "                        <td> (10000, 12000) </td>\n",
       "                        <td> (5000, 4000) </td>\n",
       "                    </tr>\n",
       "                    <tr>\n",
       "                        <th> Count </th>\n",
       "                        <td> 6 Tasks </td>\n",
       "                        <td> 6 Chunks </td>\n",
       "                    </tr>\n",
       "                    <tr>\n",
       "                    <th> Type </th>\n",
       "                    <td> float64 </td>\n",
       "                    <td> numpy.ndarray </td>\n",
       "                    </tr>\n",
       "                </tbody>\n",
       "            </table>\n",
       "        </td>\n",
       "        <td>\n",
       "        <svg width=\"170\" height=\"150\" style=\"stroke:rgb(0,0,0);stroke-width:1\" >\n",
       "\n",
       "  <!-- Horizontal lines -->\n",
       "  <line x1=\"0\" y1=\"0\" x2=\"120\" y2=\"0\" style=\"stroke-width:2\" />\n",
       "  <line x1=\"0\" y1=\"50\" x2=\"120\" y2=\"50\" />\n",
       "  <line x1=\"0\" y1=\"100\" x2=\"120\" y2=\"100\" style=\"stroke-width:2\" />\n",
       "\n",
       "  <!-- Vertical lines -->\n",
       "  <line x1=\"0\" y1=\"0\" x2=\"0\" y2=\"100\" style=\"stroke-width:2\" />\n",
       "  <line x1=\"40\" y1=\"0\" x2=\"40\" y2=\"100\" />\n",
       "  <line x1=\"80\" y1=\"0\" x2=\"80\" y2=\"100\" />\n",
       "  <line x1=\"120\" y1=\"0\" x2=\"120\" y2=\"100\" style=\"stroke-width:2\" />\n",
       "\n",
       "  <!-- Colored Rectangle -->\n",
       "  <polygon points=\"0.0,0.0 120.0,0.0 120.0,100.0 0.0,100.0\" style=\"fill:#ECB172A0;stroke-width:0\"/>\n",
       "\n",
       "  <!-- Text -->\n",
       "  <text x=\"60.000000\" y=\"120.000000\" font-size=\"1.0rem\" font-weight=\"100\" text-anchor=\"middle\" >12000</text>\n",
       "  <text x=\"140.000000\" y=\"50.000000\" font-size=\"1.0rem\" font-weight=\"100\" text-anchor=\"middle\" transform=\"rotate(-90,140.000000,50.000000)\">10000</text>\n",
       "</svg>\n",
       "        </td>\n",
       "    </tr>\n",
       "</table>"
      ],
      "text/plain": [
       "dask.array<ones_like, shape=(10000, 12000), dtype=float64, chunksize=(5000, 4000), chunktype=numpy.ndarray>"
      ]
     },
     "execution_count": 13,
     "metadata": {},
     "output_type": "execute_result"
    }
   ],
   "source": [
    "# create a dask array with 6 chunks\n",
    "chunk_shape = (5000,4000)\n",
    "ones_da = da.ones(shape,chunks=chunk_shape)\n",
    "ones_da"
   ]
  },
  {
   "cell_type": "markdown",
   "id": "a322cb9f-e4c1-45ac-9727-0831b3d55054",
   "metadata": {},
   "source": [
    "You can see in the above dask array representation that we now have 6 chunks, each of shape (5000,4000) and size of ~ 160.0 MiB."
   ]
  },
  {
   "cell_type": "markdown",
   "id": "2a12d097-9c1d-4a78-bbcf-4d7f52e47388",
   "metadata": {},
   "source": [
    "## Performance Comparison"
   ]
  },
  {
   "cell_type": "markdown",
   "id": "bf6b8586-e191-4e55-b476-8099c612971b",
   "metadata": {},
   "source": [
    "To compare the performance between a NumPy array and an equivalent Dask array, let's calculate the mean. "
   ]
  },
  {
   "cell_type": "code",
   "execution_count": 14,
   "id": "9856fcec-e006-446b-b426-bff50a92cbd9",
   "metadata": {},
   "outputs": [
    {
     "name": "stdout",
     "output_type": "stream",
     "text": [
      "CPU times: user 80.2 ms, sys: 570 µs, total: 80.8 ms\n",
      "Wall time: 77.8 ms\n"
     ]
    },
    {
     "data": {
      "text/plain": [
       "1.0"
      ]
     },
     "execution_count": 14,
     "metadata": {},
     "output_type": "execute_result"
    }
   ],
   "source": [
    "%%time\n",
    "# The %%time cell magic measures the execution time of the whole cell\n",
    "ones_np.mean()"
   ]
  },
  {
   "cell_type": "code",
   "execution_count": 24,
   "id": "86cc3673-c8a4-421b-8975-3cd2c30c7b1b",
   "metadata": {},
   "outputs": [
    {
     "name": "stdout",
     "output_type": "stream",
     "text": [
      "CPU times: user 144 µs, sys: 1.07 ms, total: 1.22 ms\n",
      "Wall time: 1.21 ms\n"
     ]
    }
   ],
   "source": [
    "%%time\n",
    "# Remember, we are not doing any computation here, just constructing our task graph\n",
    "mean_of_ones_da = ones_da.mean()"
   ]
  },
  {
   "cell_type": "markdown",
   "id": "fcfee3c0-291b-4e53-a64d-2871b621ce2f",
   "metadata": {},
   "source": [
    "Remember :\n",
    "> *Dask doesn't do anything until you tell it... It is lazy!*\n",
    "\n",
    "So far we have just constructed our task graph but no computations yet!\n",
    "\n",
    "<div class=\"alert alert-success\" markdown=\"1\">\n",
    "\n",
    "<b>NOTE:</b> In order to generate the data, we need to call the `.compute()` method on the Dask Array to trigger our computation.  \n",
    "\n",
    "</div>\n",
    "\n",
    "Let's run the `.compute()` method to see how this works:"
   ]
  },
  {
   "cell_type": "code",
   "execution_count": 25,
   "id": "1179dc52-9da9-419f-961b-ba806d9de498",
   "metadata": {},
   "outputs": [
    {
     "name": "stdout",
     "output_type": "stream",
     "text": [
      "CPU times: user 16 ms, sys: 1.01 ms, total: 17 ms\n",
      "Wall time: 31.4 ms\n"
     ]
    },
    {
     "data": {
      "text/plain": [
       "1.0"
      ]
     },
     "execution_count": 25,
     "metadata": {},
     "output_type": "execute_result"
    }
   ],
   "source": [
    "%%time\n",
    "mean_of_ones_da.compute()"
   ]
  },
  {
   "cell_type": "markdown",
   "id": "86931ead-dc2e-475c-80ab-c2e020b9deea",
   "metadata": {},
   "source": [
    "`.compute()` method convertes Dask Arrays to Numpy Arrays. Let's check to see if this is true:"
   ]
  },
  {
   "cell_type": "code",
   "execution_count": 19,
   "id": "44c17fc5-d425-4a1c-9232-5fd6184fc3ec",
   "metadata": {},
   "outputs": [
    {
     "data": {
      "text/plain": [
       "numpy.ndarray"
      ]
     },
     "execution_count": 19,
     "metadata": {},
     "output_type": "execute_result"
    }
   ],
   "source": [
    "type (ones_da.compute())"
   ]
  },
  {
   "cell_type": "markdown",
   "id": "2ba26970-bb89-4ea1-a40b-d885368651bb",
   "metadata": {},
   "source": [
    "\n",
    "\n",
    "<div class=\"alert alert-block alert-warning\" markdown=\"1\">\n",
    "\n",
    "<b>WARNING:</b> Typically, when working with Dask arrays, we do not want to generate the data right away by calling `.compute()` on a large array. \n",
    "\n",
    "</div>\n",
    "\n",
    "\n",
    "We usually want to perform some computations that reduce the data size. For example, we might compute statistics like the mean or standard deviation.\n",
    "\n",
    "Let's look at an example of taking the mean and visualize the task graph. Remember, that no actual computation is taking place until we call `.compute()`."
   ]
  },
  {
   "cell_type": "code",
   "execution_count": 20,
   "id": "e9350bd2-0e92-4c92-8dae-cee7c2027c87",
   "metadata": {},
   "outputs": [
    {
     "data": {
      "image/png": "[encoded data removed]",
      "text/plain": [
       "<IPython.core.display.Image object>"
      ]
     },
     "execution_count": 20,
     "metadata": {},
     "output_type": "execute_result"
    }
   ],
   "source": [
    "mean_of_ones_da = ones_da.mean()\n",
    "mean_of_ones_da.visualize(rankdir=\"LR\")"
   ]
  },
  {
   "cell_type": "markdown",
   "id": "f7e2a1d5-f606-4403-b3e3-d0d64b946035",
   "metadata": {},
   "source": [
    "-------\n",
    "\n",
    "\n",
    "What are the sizes of these arrays in memory?  \n",
    "\n",
    "First, let's define a function that returns array size in MiB. "
   ]
  },
  {
   "cell_type": "code",
   "execution_count": 26,
   "id": "6c878ec8-0c21-45f7-83be-aaae9ba09897",
   "metadata": {},
   "outputs": [],
   "source": [
    "import sys\n",
    "\n",
    "# Define function to display variable size in MiB\n",
    "def var_size(in_var):\n",
    "    result = sys.getsizeof(in_var) / 1024/1024\n",
    "    return (result)"
   ]
  },
  {
   "cell_type": "code",
   "execution_count": 27,
   "id": "063d3891-65b8-48ad-a50f-10e4f88e32f1",
   "metadata": {},
   "outputs": [
    {
     "name": "stdout",
     "output_type": "stream",
     "text": [
      "Shape of the numpy array :  (10000, 12000)\n",
      "Shape of the dask array  :  (10000, 12000)\n",
      "Memory size of numpy array in MB : 915.53 MiB\n",
      "Memory size of dask array in MB  : 0.00 MiB\n"
     ]
    }
   ],
   "source": [
    "print(\"Shape of the numpy array : \", ones_np.shape) \n",
    "print(\"Shape of the dask array  : \", ones_da.shape) \n",
    "\n",
    "# memory size of numpy array in MiB\n",
    "print(f\"Memory size of numpy array in MB : {var_size(ones_np):.2f} MiB\")\n",
    "# memory size of dask array in MiB\n",
    "print(f\"Memory size of dask array in MB  : {var_size(ones_da):.2f} MiB\")"
   ]
  },
  {
   "cell_type": "markdown",
   "id": "249d762a-91b6-403f-ad86-cddf0e4d71db",
   "metadata": {},
   "source": [
    "**Why memory size for the above Dask array is zero?**\n",
    "\n",
    "Remember, this variable is only a graph representation of the full array which will be split across workers.\n",
    "\n",
    "However, Dask does give us ways to see the full size of the data (often much larger than your client machine can handle)!"
   ]
  },
  {
   "cell_type": "code",
   "execution_count": 28,
   "id": "ffaf52e9-e7bd-4023-aa2f-9576ddafa9e7",
   "metadata": {},
   "outputs": [
    {
     "name": "stdout",
     "output_type": "stream",
     "text": [
      "Size of Dask dataset:  915.53 MiB\n"
     ]
    }
   ],
   "source": [
    "print(\"Size of Dask dataset:  {:.2f} MiB\".format(ones_da.nbytes / 1024/1024))"
   ]
  },
  {
   "cell_type": "markdown",
   "id": "878a7cdc-ef9c-4e83-9ae8-d10c2c140413",
   "metadata": {},
   "source": [
    "## Larger Data\n",
    "The previous example illustrated how Dask works, but using Dask is not really necessary (nor advisable) for an array of size 915.53 MiB.  \n",
    "Let's try an example using bigger data and bigger calculations:"
   ]
  },
  {
   "cell_type": "code",
   "execution_count": 30,
   "id": "da9d506b-ffcf-4faf-8544-08ad76014819",
   "metadata": {},
   "outputs": [],
   "source": [
    "big_shape = (2000, 200, 2000)\n",
    "\n",
    "# -- this will make a big numpy array that might not fit on your machine\n",
    "#big_np = np.ones(big_shape)"
   ]
  },
  {
   "cell_type": "markdown",
   "id": "80f66611-b525-40c8-9998-9dc09a45a8f1",
   "metadata": {},
   "source": [
    "Make a similar Dask Array with similar shape but specifying the `chunks` size:"
   ]
  },
  {
   "cell_type": "code",
   "execution_count": 31,
   "id": "570b4e69-2663-47fc-8e3f-0aaa50eb6b29",
   "metadata": {},
   "outputs": [
    {
     "data": {
      "text/html": [
       "<table>\n",
       "    <tr>\n",
       "        <td>\n",
       "            <table>\n",
       "                <thead>\n",
       "                    <tr>\n",
       "                        <td> </td>\n",
       "                        <th> Array </th>\n",
       "                        <th> Chunk </th>\n",
       "                    </tr>\n",
       "                </thead>\n",
       "                <tbody>\n",
       "                    \n",
       "                    <tr>\n",
       "                        <th> Bytes </th>\n",
       "                        <td> 5.96 GiB </td>\n",
       "                        <td> 95.37 MiB </td>\n",
       "                    </tr>\n",
       "                    \n",
       "                    <tr>\n",
       "                        <th> Shape </th>\n",
       "                        <td> (2000, 200, 2000) </td>\n",
       "                        <td> (250, 200, 250) </td>\n",
       "                    </tr>\n",
       "                    <tr>\n",
       "                        <th> Count </th>\n",
       "                        <td> 64 Tasks </td>\n",
       "                        <td> 64 Chunks </td>\n",
       "                    </tr>\n",
       "                    <tr>\n",
       "                    <th> Type </th>\n",
       "                    <td> float64 </td>\n",
       "                    <td> numpy.ndarray </td>\n",
       "                    </tr>\n",
       "                </tbody>\n",
       "            </table>\n",
       "        </td>\n",
       "        <td>\n",
       "        <svg width=\"250\" height=\"159\" style=\"stroke:rgb(0,0,0);stroke-width:1\" >\n",
       "\n",
       "  <!-- Horizontal lines -->\n",
       "  <line x1=\"10\" y1=\"0\" x2=\"80\" y2=\"70\" style=\"stroke-width:2\" />\n",
       "  <line x1=\"10\" y1=\"38\" x2=\"80\" y2=\"109\" style=\"stroke-width:2\" />\n",
       "\n",
       "  <!-- Vertical lines -->\n",
       "  <line x1=\"10\" y1=\"0\" x2=\"10\" y2=\"38\" style=\"stroke-width:2\" />\n",
       "  <line x1=\"18\" y1=\"8\" x2=\"18\" y2=\"47\" />\n",
       "  <line x1=\"27\" y1=\"17\" x2=\"27\" y2=\"56\" />\n",
       "  <line x1=\"36\" y1=\"26\" x2=\"36\" y2=\"65\" />\n",
       "  <line x1=\"45\" y1=\"35\" x2=\"45\" y2=\"73\" />\n",
       "  <line x1=\"54\" y1=\"44\" x2=\"54\" y2=\"82\" />\n",
       "  <line x1=\"62\" y1=\"52\" x2=\"62\" y2=\"91\" />\n",
       "  <line x1=\"71\" y1=\"61\" x2=\"71\" y2=\"100\" />\n",
       "  <line x1=\"80\" y1=\"70\" x2=\"80\" y2=\"109\" style=\"stroke-width:2\" />\n",
       "\n",
       "  <!-- Colored Rectangle -->\n",
       "  <polygon points=\"10.0,0.0 80.58823529411765,70.58823529411765 80.58823529411765,109.18509833020366 10.0,38.596863036086\" style=\"fill:#ECB172A0;stroke-width:0\"/>\n",
       "\n",
       "  <!-- Horizontal lines -->\n",
       "  <line x1=\"10\" y1=\"0\" x2=\"130\" y2=\"0\" style=\"stroke-width:2\" />\n",
       "  <line x1=\"18\" y1=\"8\" x2=\"138\" y2=\"8\" />\n",
       "  <line x1=\"27\" y1=\"17\" x2=\"147\" y2=\"17\" />\n",
       "  <line x1=\"36\" y1=\"26\" x2=\"156\" y2=\"26\" />\n",
       "  <line x1=\"45\" y1=\"35\" x2=\"165\" y2=\"35\" />\n",
       "  <line x1=\"54\" y1=\"44\" x2=\"174\" y2=\"44\" />\n",
       "  <line x1=\"62\" y1=\"52\" x2=\"182\" y2=\"52\" />\n",
       "  <line x1=\"71\" y1=\"61\" x2=\"191\" y2=\"61\" />\n",
       "  <line x1=\"80\" y1=\"70\" x2=\"200\" y2=\"70\" style=\"stroke-width:2\" />\n",
       "\n",
       "  <!-- Vertical lines -->\n",
       "  <line x1=\"10\" y1=\"0\" x2=\"80\" y2=\"70\" style=\"stroke-width:2\" />\n",
       "  <line x1=\"25\" y1=\"0\" x2=\"95\" y2=\"70\" />\n",
       "  <line x1=\"40\" y1=\"0\" x2=\"110\" y2=\"70\" />\n",
       "  <line x1=\"55\" y1=\"0\" x2=\"125\" y2=\"70\" />\n",
       "  <line x1=\"70\" y1=\"0\" x2=\"140\" y2=\"70\" />\n",
       "  <line x1=\"85\" y1=\"0\" x2=\"155\" y2=\"70\" />\n",
       "  <line x1=\"100\" y1=\"0\" x2=\"170\" y2=\"70\" />\n",
       "  <line x1=\"115\" y1=\"0\" x2=\"185\" y2=\"70\" />\n",
       "  <line x1=\"130\" y1=\"0\" x2=\"200\" y2=\"70\" style=\"stroke-width:2\" />\n",
       "\n",
       "  <!-- Colored Rectangle -->\n",
       "  <polygon points=\"10.0,0.0 130.0,0.0 200.58823529411765,70.58823529411765 80.58823529411765,70.58823529411765\" style=\"fill:#ECB172A0;stroke-width:0\"/>\n",
       "\n",
       "  <!-- Horizontal lines -->\n",
       "  <line x1=\"80\" y1=\"70\" x2=\"200\" y2=\"70\" style=\"stroke-width:2\" />\n",
       "  <line x1=\"80\" y1=\"109\" x2=\"200\" y2=\"109\" style=\"stroke-width:2\" />\n",
       "\n",
       "  <!-- Vertical lines -->\n",
       "  <line x1=\"80\" y1=\"70\" x2=\"80\" y2=\"109\" style=\"stroke-width:2\" />\n",
       "  <line x1=\"95\" y1=\"70\" x2=\"95\" y2=\"109\" />\n",
       "  <line x1=\"110\" y1=\"70\" x2=\"110\" y2=\"109\" />\n",
       "  <line x1=\"125\" y1=\"70\" x2=\"125\" y2=\"109\" />\n",
       "  <line x1=\"140\" y1=\"70\" x2=\"140\" y2=\"109\" />\n",
       "  <line x1=\"155\" y1=\"70\" x2=\"155\" y2=\"109\" />\n",
       "  <line x1=\"170\" y1=\"70\" x2=\"170\" y2=\"109\" />\n",
       "  <line x1=\"185\" y1=\"70\" x2=\"185\" y2=\"109\" />\n",
       "  <line x1=\"200\" y1=\"70\" x2=\"200\" y2=\"109\" style=\"stroke-width:2\" />\n",
       "\n",
       "  <!-- Colored Rectangle -->\n",
       "  <polygon points=\"80.58823529411765,70.58823529411765 200.58823529411765,70.58823529411765 200.58823529411765,109.18509833020366 80.58823529411765,109.18509833020366\" style=\"fill:#ECB172A0;stroke-width:0\"/>\n",
       "\n",
       "  <!-- Text -->\n",
       "  <text x=\"140.588235\" y=\"129.185098\" font-size=\"1.0rem\" font-weight=\"100\" text-anchor=\"middle\" >2000</text>\n",
       "  <text x=\"220.588235\" y=\"89.886667\" font-size=\"1.0rem\" font-weight=\"100\" text-anchor=\"middle\" transform=\"rotate(-90,220.588235,89.886667)\">200</text>\n",
       "  <text x=\"35.294118\" y=\"93.890981\" font-size=\"1.0rem\" font-weight=\"100\" text-anchor=\"middle\" transform=\"rotate(45,35.294118,93.890981)\">2000</text>\n",
       "</svg>\n",
       "        </td>\n",
       "    </tr>\n",
       "</table>"
      ],
      "text/plain": [
       "dask.array<ones_like, shape=(2000, 200, 2000), dtype=float64, chunksize=(250, 200, 250), chunktype=numpy.ndarray>"
      ]
     },
     "execution_count": 35,
     "metadata": {},
     "output_type": "execute_result"
    }
   ],
   "source": [
    "big_da = da.ones(big_shape)\n",
    "big_da"
   ]
  },
  {
   "cell_type": "code",
   "execution_count": 32,
   "id": "264d7f95-3739-4e6f-b9bf-3bc722b30767",
   "metadata": {},
   "outputs": [
    {
     "name": "stdout",
     "output_type": "stream",
     "text": [
      "Memory size of Dask dataset  :  5.96 GiB\n"
     ]
    }
   ],
   "source": [
    "# size of data\n",
    "#print(\"Memory size of NumPy dataset :  {:.2f} GiB\".format(big_np.nbytes / 1024/1024/1024))\n",
    "print(\"Memory size of Dask dataset  :  {:.2f} GiB\".format(big_da.nbytes / 1024/1024/1024))"
   ]
  },
  {
   "cell_type": "markdown",
   "id": "6269ea15-fdb2-4cec-962b-72c0e123c638",
   "metadata": {},
   "source": [
    "This may be close to the available memory/RAM that you have in your computer.\n",
    "\n",
    "Let's try bigger calculations on this array:"
   ]
  },
  {
   "cell_type": "code",
   "execution_count": 42,
   "id": "cde2f9a0-974c-43ed-a922-a587a34c79ec",
   "metadata": {},
   "outputs": [],
   "source": [
    "#%%time \n",
    "#z_np = (big_np + big_np.T)[::2,:].mean()"
   ]
  },
  {
   "cell_type": "code",
   "execution_count": 43,
   "id": "5ede8e0b-e62d-4f3f-b815-dcb123c092d4",
   "metadata": {},
   "outputs": [
    {
     "name": "stdout",
     "output_type": "stream",
     "text": [
      "CPU times: user 207 ms, sys: 20.3 ms, total: 227 ms\n",
      "Wall time: 1.16 s\n"
     ]
    }
   ],
   "source": [
    "%%time\n",
    "\n",
    "z_da = (big_da + big_da.T)[::2,:].mean(axis=2)\n",
    "\n",
    "result = z_da.compute()"
   ]
  },
  {
   "cell_type": "code",
   "execution_count": 47,
   "id": "acc1695d-ed28-4bcd-89aa-41c79de8cd3f",
   "metadata": {},
   "outputs": [],
   "source": [
    "#-- warning : do not try low level visualization with big arrays\n",
    "\n",
    "#z_da.visualize()"
   ]
  },
  {
   "cell_type": "markdown",
   "id": "94f702a5-2af8-4b85-a466-b5bcd09635bd",
   "metadata": {},
   "source": [
    "All the usual NumPy functions work on dask arrays, though the computations will remain lazy until you either call `.compute()`, `.load()` or your want to plot the data."
   ]
  },
  {
   "cell_type": "markdown",
   "id": "39adc87d-a41c-4e7e-bb31-0a51ba6aaed5",
   "metadata": {},
   "source": [
    "As we discussed above, the way that Dask arrays are chunked can significantly affect the performance. In the remainder of this notebook, let's do a similar calculation using a different `chunks` size. \n",
    "\n",
    "We will learn more about best practices regarding `chunk` size later during the tutorial. \n",
    "\n",
    "\n",
    "## Supplementary Material: Rechunking Arrays\n",
    "\n",
    "We can change the chunking of a Dask array, using the `rechunk` method. Please note that rechunking Dask arrays can be very expensive, so choosing an appropriate chunk size initially is ideal."
   ]
  },
  {
   "cell_type": "code",
   "execution_count": 48,
   "id": "68dca5a5-b67b-4205-9e83-48faefe44594",
   "metadata": {},
   "outputs": [
    {
     "data": {
      "text/html": [
       "<table>\n",
       "    <tr>\n",
       "        <td>\n",
       "            <table>\n",
       "                <thead>\n",
       "                    <tr>\n",
       "                        <td> </td>\n",
       "                        <th> Array </th>\n",
       "                        <th> Chunk </th>\n",
       "                    </tr>\n",
       "                </thead>\n",
       "                <tbody>\n",
       "                    \n",
       "                    <tr>\n",
       "                        <th> Bytes </th>\n",
       "                        <td> 5.96 GiB </td>\n",
       "                        <td> 0.95 MiB </td>\n",
       "                    </tr>\n",
       "                    \n",
       "                    <tr>\n",
       "                        <th> Shape </th>\n",
       "                        <td> (2000, 200, 2000) </td>\n",
       "                        <td> (50, 50, 50) </td>\n",
       "                    </tr>\n",
       "                    <tr>\n",
       "                        <th> Count </th>\n",
       "                        <td> 12864 Tasks </td>\n",
       "                        <td> 6400 Chunks </td>\n",
       "                    </tr>\n",
       "                    <tr>\n",
       "                    <th> Type </th>\n",
       "                    <td> float64 </td>\n",
       "                    <td> numpy.ndarray </td>\n",
       "                    </tr>\n",
       "                </tbody>\n",
       "            </table>\n",
       "        </td>\n",
       "        <td>\n",
       "        <svg width=\"250\" height=\"159\" style=\"stroke:rgb(0,0,0);stroke-width:1\" >\n",
       "\n",
       "  <!-- Horizontal lines -->\n",
       "  <line x1=\"10\" y1=\"0\" x2=\"80\" y2=\"70\" style=\"stroke-width:2\" />\n",
       "  <line x1=\"10\" y1=\"9\" x2=\"80\" y2=\"80\" />\n",
       "  <line x1=\"10\" y1=\"19\" x2=\"80\" y2=\"89\" />\n",
       "  <line x1=\"10\" y1=\"28\" x2=\"80\" y2=\"99\" />\n",
       "  <line x1=\"10\" y1=\"38\" x2=\"80\" y2=\"109\" style=\"stroke-width:2\" />\n",
       "\n",
       "  <!-- Vertical lines -->\n",
       "  <line x1=\"10\" y1=\"0\" x2=\"10\" y2=\"38\" style=\"stroke-width:2\" />\n",
       "  <line x1=\"13\" y1=\"3\" x2=\"13\" y2=\"42\" />\n",
       "  <line x1=\"17\" y1=\"7\" x2=\"17\" y2=\"45\" />\n",
       "  <line x1=\"20\" y1=\"10\" x2=\"20\" y2=\"49\" />\n",
       "  <line x1=\"24\" y1=\"14\" x2=\"24\" y2=\"52\" />\n",
       "  <line x1=\"27\" y1=\"17\" x2=\"27\" y2=\"56\" />\n",
       "  <line x1=\"31\" y1=\"21\" x2=\"31\" y2=\"59\" />\n",
       "  <line x1=\"34\" y1=\"24\" x2=\"34\" y2=\"63\" />\n",
       "  <line x1=\"38\" y1=\"28\" x2=\"38\" y2=\"66\" />\n",
       "  <line x1=\"41\" y1=\"31\" x2=\"41\" y2=\"70\" />\n",
       "  <line x1=\"47\" y1=\"37\" x2=\"47\" y2=\"75\" />\n",
       "  <line x1=\"50\" y1=\"40\" x2=\"50\" y2=\"79\" />\n",
       "  <line x1=\"54\" y1=\"44\" x2=\"54\" y2=\"82\" />\n",
       "  <line x1=\"57\" y1=\"47\" x2=\"57\" y2=\"86\" />\n",
       "  <line x1=\"61\" y1=\"51\" x2=\"61\" y2=\"89\" />\n",
       "  <line x1=\"64\" y1=\"54\" x2=\"64\" y2=\"93\" />\n",
       "  <line x1=\"68\" y1=\"58\" x2=\"68\" y2=\"96\" />\n",
       "  <line x1=\"71\" y1=\"61\" x2=\"71\" y2=\"100\" />\n",
       "  <line x1=\"75\" y1=\"65\" x2=\"75\" y2=\"103\" />\n",
       "  <line x1=\"80\" y1=\"70\" x2=\"80\" y2=\"109\" style=\"stroke-width:2\" />\n",
       "\n",
       "  <!-- Colored Rectangle -->\n",
       "  <polygon points=\"10.0,0.0 80.58823529411765,70.58823529411765 80.58823529411765,109.18509833020366 10.0,38.596863036086\" style=\"fill:#8B4903A0;stroke-width:0\"/>\n",
       "\n",
       "  <!-- Horizontal lines -->\n",
       "  <line x1=\"10\" y1=\"0\" x2=\"130\" y2=\"0\" style=\"stroke-width:2\" />\n",
       "  <line x1=\"13\" y1=\"3\" x2=\"133\" y2=\"3\" />\n",
       "  <line x1=\"17\" y1=\"7\" x2=\"137\" y2=\"7\" />\n",
       "  <line x1=\"20\" y1=\"10\" x2=\"140\" y2=\"10\" />\n",
       "  <line x1=\"24\" y1=\"14\" x2=\"144\" y2=\"14\" />\n",
       "  <line x1=\"27\" y1=\"17\" x2=\"147\" y2=\"17\" />\n",
       "  <line x1=\"31\" y1=\"21\" x2=\"151\" y2=\"21\" />\n",
       "  <line x1=\"34\" y1=\"24\" x2=\"154\" y2=\"24\" />\n",
       "  <line x1=\"38\" y1=\"28\" x2=\"158\" y2=\"28\" />\n",
       "  <line x1=\"41\" y1=\"31\" x2=\"161\" y2=\"31\" />\n",
       "  <line x1=\"47\" y1=\"37\" x2=\"167\" y2=\"37\" />\n",
       "  <line x1=\"50\" y1=\"40\" x2=\"170\" y2=\"40\" />\n",
       "  <line x1=\"54\" y1=\"44\" x2=\"174\" y2=\"44\" />\n",
       "  <line x1=\"57\" y1=\"47\" x2=\"177\" y2=\"47\" />\n",
       "  <line x1=\"61\" y1=\"51\" x2=\"181\" y2=\"51\" />\n",
       "  <line x1=\"64\" y1=\"54\" x2=\"184\" y2=\"54\" />\n",
       "  <line x1=\"68\" y1=\"58\" x2=\"188\" y2=\"58\" />\n",
       "  <line x1=\"71\" y1=\"61\" x2=\"191\" y2=\"61\" />\n",
       "  <line x1=\"75\" y1=\"65\" x2=\"195\" y2=\"65\" />\n",
       "  <line x1=\"80\" y1=\"70\" x2=\"200\" y2=\"70\" style=\"stroke-width:2\" />\n",
       "\n",
       "  <!-- Vertical lines -->\n",
       "  <line x1=\"10\" y1=\"0\" x2=\"80\" y2=\"70\" style=\"stroke-width:2\" />\n",
       "  <line x1=\"16\" y1=\"0\" x2=\"86\" y2=\"70\" />\n",
       "  <line x1=\"22\" y1=\"0\" x2=\"92\" y2=\"70\" />\n",
       "  <line x1=\"28\" y1=\"0\" x2=\"98\" y2=\"70\" />\n",
       "  <line x1=\"34\" y1=\"0\" x2=\"104\" y2=\"70\" />\n",
       "  <line x1=\"40\" y1=\"0\" x2=\"110\" y2=\"70\" />\n",
       "  <line x1=\"46\" y1=\"0\" x2=\"116\" y2=\"70\" />\n",
       "  <line x1=\"52\" y1=\"0\" x2=\"122\" y2=\"70\" />\n",
       "  <line x1=\"58\" y1=\"0\" x2=\"128\" y2=\"70\" />\n",
       "  <line x1=\"64\" y1=\"0\" x2=\"134\" y2=\"70\" />\n",
       "  <line x1=\"73\" y1=\"0\" x2=\"143\" y2=\"70\" />\n",
       "  <line x1=\"79\" y1=\"0\" x2=\"149\" y2=\"70\" />\n",
       "  <line x1=\"85\" y1=\"0\" x2=\"155\" y2=\"70\" />\n",
       "  <line x1=\"91\" y1=\"0\" x2=\"161\" y2=\"70\" />\n",
       "  <line x1=\"97\" y1=\"0\" x2=\"167\" y2=\"70\" />\n",
       "  <line x1=\"103\" y1=\"0\" x2=\"173\" y2=\"70\" />\n",
       "  <line x1=\"109\" y1=\"0\" x2=\"179\" y2=\"70\" />\n",
       "  <line x1=\"115\" y1=\"0\" x2=\"185\" y2=\"70\" />\n",
       "  <line x1=\"121\" y1=\"0\" x2=\"191\" y2=\"70\" />\n",
       "  <line x1=\"130\" y1=\"0\" x2=\"200\" y2=\"70\" style=\"stroke-width:2\" />\n",
       "\n",
       "  <!-- Colored Rectangle -->\n",
       "  <polygon points=\"10.0,0.0 130.0,0.0 200.58823529411765,70.58823529411765 80.58823529411765,70.58823529411765\" style=\"fill:#8B4903A0;stroke-width:0\"/>\n",
       "\n",
       "  <!-- Horizontal lines -->\n",
       "  <line x1=\"80\" y1=\"70\" x2=\"200\" y2=\"70\" style=\"stroke-width:2\" />\n",
       "  <line x1=\"80\" y1=\"80\" x2=\"200\" y2=\"80\" />\n",
       "  <line x1=\"80\" y1=\"89\" x2=\"200\" y2=\"89\" />\n",
       "  <line x1=\"80\" y1=\"99\" x2=\"200\" y2=\"99\" />\n",
       "  <line x1=\"80\" y1=\"109\" x2=\"200\" y2=\"109\" style=\"stroke-width:2\" />\n",
       "\n",
       "  <!-- Vertical lines -->\n",
       "  <line x1=\"80\" y1=\"70\" x2=\"80\" y2=\"109\" style=\"stroke-width:2\" />\n",
       "  <line x1=\"86\" y1=\"70\" x2=\"86\" y2=\"109\" />\n",
       "  <line x1=\"92\" y1=\"70\" x2=\"92\" y2=\"109\" />\n",
       "  <line x1=\"98\" y1=\"70\" x2=\"98\" y2=\"109\" />\n",
       "  <line x1=\"104\" y1=\"70\" x2=\"104\" y2=\"109\" />\n",
       "  <line x1=\"110\" y1=\"70\" x2=\"110\" y2=\"109\" />\n",
       "  <line x1=\"116\" y1=\"70\" x2=\"116\" y2=\"109\" />\n",
       "  <line x1=\"122\" y1=\"70\" x2=\"122\" y2=\"109\" />\n",
       "  <line x1=\"128\" y1=\"70\" x2=\"128\" y2=\"109\" />\n",
       "  <line x1=\"134\" y1=\"70\" x2=\"134\" y2=\"109\" />\n",
       "  <line x1=\"143\" y1=\"70\" x2=\"143\" y2=\"109\" />\n",
       "  <line x1=\"149\" y1=\"70\" x2=\"149\" y2=\"109\" />\n",
       "  <line x1=\"155\" y1=\"70\" x2=\"155\" y2=\"109\" />\n",
       "  <line x1=\"161\" y1=\"70\" x2=\"161\" y2=\"109\" />\n",
       "  <line x1=\"167\" y1=\"70\" x2=\"167\" y2=\"109\" />\n",
       "  <line x1=\"173\" y1=\"70\" x2=\"173\" y2=\"109\" />\n",
       "  <line x1=\"179\" y1=\"70\" x2=\"179\" y2=\"109\" />\n",
       "  <line x1=\"185\" y1=\"70\" x2=\"185\" y2=\"109\" />\n",
       "  <line x1=\"191\" y1=\"70\" x2=\"191\" y2=\"109\" />\n",
       "  <line x1=\"200\" y1=\"70\" x2=\"200\" y2=\"109\" style=\"stroke-width:2\" />\n",
       "\n",
       "  <!-- Colored Rectangle -->\n",
       "  <polygon points=\"80.58823529411765,70.58823529411765 200.58823529411765,70.58823529411765 200.58823529411765,109.18509833020366 80.58823529411765,109.18509833020366\" style=\"fill:#8B4903A0;stroke-width:0\"/>\n",
       "\n",
       "  <!-- Text -->\n",
       "  <text x=\"140.588235\" y=\"129.185098\" font-size=\"1.0rem\" font-weight=\"100\" text-anchor=\"middle\" >2000</text>\n",
       "  <text x=\"220.588235\" y=\"89.886667\" font-size=\"1.0rem\" font-weight=\"100\" text-anchor=\"middle\" transform=\"rotate(-90,220.588235,89.886667)\">200</text>\n",
       "  <text x=\"35.294118\" y=\"93.890981\" font-size=\"1.0rem\" font-weight=\"100\" text-anchor=\"middle\" transform=\"rotate(45,35.294118,93.890981)\">2000</text>\n",
       "</svg>\n",
       "        </td>\n",
       "    </tr>\n",
       "</table>"
      ],
      "text/plain": [
       "dask.array<rechunk-merge, shape=(2000, 200, 2000), dtype=float64, chunksize=(50, 50, 50), chunktype=numpy.ndarray>"
      ]
     },
     "execution_count": 48,
     "metadata": {},
     "output_type": "execute_result"
    }
   ],
   "source": [
    "new_chunk_shape = (50,50,50)\n",
    "rechunked_big_da = big_da.rechunk(new_chunk_shape)\n",
    "rechunked_big_da"
   ]
  },
  {
   "cell_type": "code",
   "execution_count": 49,
   "id": "ff5e0a0b-3d2f-46d4-a839-079dd3664572",
   "metadata": {},
   "outputs": [
    {
     "name": "stdout",
     "output_type": "stream",
     "text": [
      "CPU times: user 10.7 s, sys: 407 ms, total: 11.1 s\n",
      "Wall time: 14.2 s\n"
     ]
    }
   ],
   "source": [
    "%%time\n",
    "# perform big computation on chunked array\n",
    "\n",
    "z_da_rechunked = (rechunked_big_da + rechunked_big_da.T)[::2,:].mean(axis=2)\n",
    "\n",
    "result = z_da_rechunked.compute()"
   ]
  },
  {
   "cell_type": "markdown",
   "id": "797cbbc7-e2c9-46b2-b58b-0f9be29f7bb9",
   "metadata": {},
   "source": [
    "We can see how the choice of smaller chunks (more total chunks) **significantly** reduce the total performance of our computation. \n",
    "\n",
    "<div class=\"alert alert-block alert-info\" markdown=\"1\">\n",
    "\n",
    "<b>TIP:</b> As a rule of thumb, a chunk should be big enough so that the computation on that chunk take significantly longer than the overhead from Dask scheduler. The Dask scheduler takes roughly 1ms per task for scheduling. \n",
    "\n",
    "</div>\n",
    "\n",
    "Let's try a bigger chunk size:"
   ]
  },
  {
   "cell_type": "code",
   "execution_count": 34,
   "id": "dfd36aa9-d676-4c14-b2ad-3f8414b107c5",
   "metadata": {},
   "outputs": [
    {
     "data": {
      "text/html": [
       "<table>\n",
       "    <tr>\n",
       "        <td>\n",
       "            <table>\n",
       "                <thead>\n",
       "                    <tr>\n",
       "                        <td> </td>\n",
       "                        <th> Array </th>\n",
       "                        <th> Chunk </th>\n",
       "                    </tr>\n",
       "                </thead>\n",
       "                <tbody>\n",
       "                    \n",
       "                    <tr>\n",
       "                        <th> Bytes </th>\n",
       "                        <td> 5.96 GiB </td>\n",
       "                        <td> 190.73 MiB </td>\n",
       "                    </tr>\n",
       "                    \n",
       "                    <tr>\n",
       "                        <th> Shape </th>\n",
       "                        <td> (2000, 200, 2000) </td>\n",
       "                        <td> (500, 100, 500) </td>\n",
       "                    </tr>\n",
       "                    <tr>\n",
       "                        <th> Count </th>\n",
       "                        <td> 224 Tasks </td>\n",
       "                        <td> 32 Chunks </td>\n",
       "                    </tr>\n",
       "                    <tr>\n",
       "                    <th> Type </th>\n",
       "                    <td> float64 </td>\n",
       "                    <td> numpy.ndarray </td>\n",
       "                    </tr>\n",
       "                </tbody>\n",
       "            </table>\n",
       "        </td>\n",
       "        <td>\n",
       "        <svg width=\"250\" height=\"159\" style=\"stroke:rgb(0,0,0);stroke-width:1\" >\n",
       "\n",
       "  <!-- Horizontal lines -->\n",
       "  <line x1=\"10\" y1=\"0\" x2=\"80\" y2=\"70\" style=\"stroke-width:2\" />\n",
       "  <line x1=\"10\" y1=\"19\" x2=\"80\" y2=\"89\" />\n",
       "  <line x1=\"10\" y1=\"38\" x2=\"80\" y2=\"109\" style=\"stroke-width:2\" />\n",
       "\n",
       "  <!-- Vertical lines -->\n",
       "  <line x1=\"10\" y1=\"0\" x2=\"10\" y2=\"38\" style=\"stroke-width:2\" />\n",
       "  <line x1=\"27\" y1=\"17\" x2=\"27\" y2=\"56\" />\n",
       "  <line x1=\"45\" y1=\"35\" x2=\"45\" y2=\"73\" />\n",
       "  <line x1=\"62\" y1=\"52\" x2=\"62\" y2=\"91\" />\n",
       "  <line x1=\"80\" y1=\"70\" x2=\"80\" y2=\"109\" style=\"stroke-width:2\" />\n",
       "\n",
       "  <!-- Colored Rectangle -->\n",
       "  <polygon points=\"10.0,0.0 80.58823529411765,70.58823529411765 80.58823529411765,109.18509833020366 10.0,38.596863036086\" style=\"fill:#ECB172A0;stroke-width:0\"/>\n",
       "\n",
       "  <!-- Horizontal lines -->\n",
       "  <line x1=\"10\" y1=\"0\" x2=\"130\" y2=\"0\" style=\"stroke-width:2\" />\n",
       "  <line x1=\"27\" y1=\"17\" x2=\"147\" y2=\"17\" />\n",
       "  <line x1=\"45\" y1=\"35\" x2=\"165\" y2=\"35\" />\n",
       "  <line x1=\"62\" y1=\"52\" x2=\"182\" y2=\"52\" />\n",
       "  <line x1=\"80\" y1=\"70\" x2=\"200\" y2=\"70\" style=\"stroke-width:2\" />\n",
       "\n",
       "  <!-- Vertical lines -->\n",
       "  <line x1=\"10\" y1=\"0\" x2=\"80\" y2=\"70\" style=\"stroke-width:2\" />\n",
       "  <line x1=\"40\" y1=\"0\" x2=\"110\" y2=\"70\" />\n",
       "  <line x1=\"70\" y1=\"0\" x2=\"140\" y2=\"70\" />\n",
       "  <line x1=\"100\" y1=\"0\" x2=\"170\" y2=\"70\" />\n",
       "  <line x1=\"130\" y1=\"0\" x2=\"200\" y2=\"70\" style=\"stroke-width:2\" />\n",
       "\n",
       "  <!-- Colored Rectangle -->\n",
       "  <polygon points=\"10.0,0.0 130.0,0.0 200.58823529411765,70.58823529411765 80.58823529411765,70.58823529411765\" style=\"fill:#ECB172A0;stroke-width:0\"/>\n",
       "\n",
       "  <!-- Horizontal lines -->\n",
       "  <line x1=\"80\" y1=\"70\" x2=\"200\" y2=\"70\" style=\"stroke-width:2\" />\n",
       "  <line x1=\"80\" y1=\"89\" x2=\"200\" y2=\"89\" />\n",
       "  <line x1=\"80\" y1=\"109\" x2=\"200\" y2=\"109\" style=\"stroke-width:2\" />\n",
       "\n",
       "  <!-- Vertical lines -->\n",
       "  <line x1=\"80\" y1=\"70\" x2=\"80\" y2=\"109\" style=\"stroke-width:2\" />\n",
       "  <line x1=\"110\" y1=\"70\" x2=\"110\" y2=\"109\" />\n",
       "  <line x1=\"140\" y1=\"70\" x2=\"140\" y2=\"109\" />\n",
       "  <line x1=\"170\" y1=\"70\" x2=\"170\" y2=\"109\" />\n",
       "  <line x1=\"200\" y1=\"70\" x2=\"200\" y2=\"109\" style=\"stroke-width:2\" />\n",
       "\n",
       "  <!-- Colored Rectangle -->\n",
       "  <polygon points=\"80.58823529411765,70.58823529411765 200.58823529411765,70.58823529411765 200.58823529411765,109.18509833020366 80.58823529411765,109.18509833020366\" style=\"fill:#ECB172A0;stroke-width:0\"/>\n",
       "\n",
       "  <!-- Text -->\n",
       "  <text x=\"140.588235\" y=\"129.185098\" font-size=\"1.0rem\" font-weight=\"100\" text-anchor=\"middle\" >2000</text>\n",
       "  <text x=\"220.588235\" y=\"89.886667\" font-size=\"1.0rem\" font-weight=\"100\" text-anchor=\"middle\" transform=\"rotate(-90,220.588235,89.886667)\">200</text>\n",
       "  <text x=\"35.294118\" y=\"93.890981\" font-size=\"1.0rem\" font-weight=\"100\" text-anchor=\"middle\" transform=\"rotate(45,35.294118,93.890981)\">2000</text>\n",
       "</svg>\n",
       "        </td>\n",
       "    </tr>\n",
       "</table>"
      ],
      "text/plain": [
       "dask.array<rechunk-merge, shape=(2000, 200, 2000), dtype=float64, chunksize=(500, 100, 500), chunktype=numpy.ndarray>"
      ]
     },
     "execution_count": 34,
     "metadata": {},
     "output_type": "execute_result"
    }
   ],
   "source": [
    "new_chunk_shape = (500, 100, 500)\n",
    "#big_chunk = \n",
    "\n",
    "rechunked_big_da = big_da.rechunk(new_chunk_shape)\n",
    "rechunked_big_da"
   ]
  },
  {
   "cell_type": "code",
   "execution_count": 35,
   "id": "6e90dceb-56d1-4ef5-a6f3-ab0b25606288",
   "metadata": {},
   "outputs": [
    {
     "name": "stdout",
     "output_type": "stream",
     "text": [
      "CPU times: user 419 ms, sys: 42.6 ms, total: 462 ms\n",
      "Wall time: 4.38 s\n"
     ]
    }
   ],
   "source": [
    "%%time\n",
    "# perform big computation on chunked array\n",
    "\n",
    "z_da_rechunked = (rechunked_big_da + rechunked_big_da.T)[::2,:].mean(axis=2)\n",
    "\n",
    "result = z_da_rechunked.compute()"
   ]
  },
  {
   "cell_type": "markdown",
   "id": "fcc07937-e204-428e-af39-57bd7df1372b",
   "metadata": {},
   "source": [
    "\n",
    "<div class=\"alert alert-block alert-info\" markdown=\"1\">\n",
    "\n",
    "<b>TIP:</b> As a rule of thumb, a chunk should be small enough to fit comfortably in the memory. Chunk sizes between 10MB-1GB are common, depending on your machine,\n",
    "\n",
    "</div>\n"
   ]
  },
  {
   "cell_type": "code",
   "execution_count": 36,
   "id": "8dd1bc53-ead4-409c-a349-2e2abd78f59f",
   "metadata": {},
   "outputs": [],
   "source": [
    "client.close()"
   ]
  },
  {
   "cell_type": "markdown",
   "id": "7b9f93a6-d792-47b6-a766-4cb6c0972d2a",
   "metadata": {},
   "source": [
    "## Summary:\n",
    "\n",
    "* Dask Array provides parallel computing capabilities by dividing arrays into smaller pieces called chunks.\n",
    "* Blocked algorithms split large computations into smaller computations which operate on subsets of the array.\n",
    "* Dask Array supports efficient computation on large arrays through a combination of lazy evaluation and task parallelism.\n",
    "* Dask Array can be used as a drop-in replacement for NumPy ndarray, with a similar API and support for a subset of NumPy functions.\n",
    "* The way that arrays are chunked can significantly affect total performance. Poor chunking can singifincantly worsen performance of Dask compared to NumPy. "
   ]
  },
  {
   "cell_type": "markdown",
   "id": "984ea6ba-f37c-47ab-86ca-b5396ba6c071",
   "metadata": {},
   "source": [
    "## Resources and references\n",
    "\n",
    "* Reference\n",
    "    *  [Dask Docs](https://dask.org/)\n",
    "    *  [Dask Examples](https://examples.dask.org/)\n",
    "    *  [Dask Code](https://github.com/dask/dask/)\n",
    "    *  [Dask Blog](https://blog.dask.org/)\n",
    "    \n",
    "    \n",
    "    \n",
    "*  Ask for help\n",
    "    *   [`dask`](http://stackoverflow.com/questions/tagged/dask) tag on Stack Overflow, for usage questions\n",
    "    *   [github discussions: dask](https://github.com/dask/dask/discussions) for general, non-bug, discussion, and usage questions\n",
    "    *   [github issues: dask](https://github.com/dask/dask/issues/new) for bug reports and feature requests\n",
    "    \n",
    "\n",
    "* Pieces of this notebook are adapted from the following sources\n",
    "  * [Dask Performace Comparison](https://tutorial.dask.org/02_array.html#Performance-comparison)\n",
    "  * [Dask Arrays by EEDS](https://earth-env-data-science.github.io/lectures/dask/dask_arrays.html)"
   ]
  }
 ],
 "metadata": {
  "kernelspec": {
   "display_name": "NPL 2022b",
   "language": "python",
   "name": "npl-2022b"
  },
  "language_info": {
   "codemirror_mode": {
    "name": "ipython",
    "version": 3
   },
   "file_extension": ".py",
   "mimetype": "text/x-python",
   "name": "python",
   "nbconvert_exporter": "python",
   "pygments_lexer": "ipython3",
   "version": "3.8.13"
  },
  "widgets": {
   "application/vnd.jupyter.widget-state+json": {
    "state": {},
    "version_major": 2,
    "version_minor": 0
   }
  }
 },
 "nbformat": 4,
 "nbformat_minor": 5
}
